{
 "cells": [
  {
   "cell_type": "code",
   "execution_count": 14,
   "metadata": {},
   "outputs": [],
   "source": [
    "import sys\n",
    "import os\n",
    "from dotenv import load_dotenv\n",
    "import pandas as pd\n",
    "\n",
    "# Add the parent directory to the sys.path\n",
    "sys.path.insert(0, os.path.abspath(os.path.join(os.getcwd(), '..')))\n",
    "\n",
    "from sqltoolkit.connectors import PostgreSQLConnector\n",
    "from sqltoolkit.client import DatabaseClient\n",
    "from sqltoolkit.entities import Table, TableColumn\n",
    "from sqltoolkit.compiler import SQLQueryChecker\n",
    "\n",
    "load_dotenv()\n",
    "\n",
    "# Define the connection parameters\n",
    "server = os.getenv('POSTGRES_HOST')\n",
    "database = 'bird_dev_mini'\n",
    "username = os.getenv('POSTGRES_USER')\n",
    "password = os.getenv('POSTGRES_PWD')\n",
    "port = '5432'\n",
    "\n",
    "psql_connector = PostgreSQLConnector(server, database, username, password, port)\n",
    "sql_client = DatabaseClient(psql_connector)\n",
    "\n",
    "from openai import AzureOpenAI\n",
    "\n",
    "aoai_endpoint = os.getenv('OPENAI_ENDPOINT')\n",
    "aoai_key = os.getenv('OPENAI_API_KEY')\n",
    "aoai_deployment = os.getenv('OPENAI_4o_DEPLOYMENT') # should be GPT-4o\n",
    "aoai_embedding_deployment = os.getenv('OPENAI_EMBEDDING_DEPLOYMENT') # should be text-embedding-small\n",
    "\n",
    "openai_client = AzureOpenAI(azure_endpoint=aoai_endpoint,\n",
    "    api_key=aoai_key,\n",
    "    api_version='2024-10-21')"
   ]
  },
  {
   "cell_type": "code",
   "execution_count": 10,
   "metadata": {},
   "outputs": [],
   "source": [
    "import os\n",
    "import pandas as pd\n",
    "\n",
    "directory = 'documentation'\n",
    "\n",
    "schema_descriptions =[]\n",
    "for root, dirs, files in os.walk(directory):\n",
    "    concatenated_content = \"\"\n",
    "    if 'database_description' in dirs:\n",
    "        db_desc_path = os.path.join(root, 'database_description')\n",
    "        for filename in os.listdir(db_desc_path):\n",
    "            if filename.endswith(\".csv\"):\n",
    "                table_name = filename.split('.')[0]\n",
    "                df = pd.read_csv(os.path.join(db_desc_path, filename), encoding='ISO-8859-1')\n",
    "                table_markdown = df.to_markdown(index=False)\n",
    "                concatenated_content += f\"\\n### Table: {table_name}\\n\\n{table_markdown}\\n\\n\"\n",
    "        concatenated_content = concatenated_content.encode('utf-8').decode('utf-8')\n",
    "        schema_descriptions.append({'description':concatenated_content, 'schema':root.split('/')[-1]})\n",
    "    \n"
   ]
  },
  {
   "cell_type": "code",
   "execution_count": 16,
   "metadata": {},
   "outputs": [
    {
     "data": {
      "text/plain": [
       "['financial',\n",
       " 'toxicology',\n",
       " 'card_games',\n",
       " 'codebase_community',\n",
       " 'debit_card_specializing',\n",
       " 'superhero',\n",
       " 'thrombosis_prediction',\n",
       " 'formula_1',\n",
       " 'california_schools',\n",
       " 'student_club',\n",
       " 'european_football_2']"
      ]
     },
     "execution_count": 16,
     "metadata": {},
     "output_type": "execute_result"
    }
   ],
   "source": [
    "schemas"
   ]
  },
  {
   "cell_type": "code",
   "execution_count": 17,
   "metadata": {},
   "outputs": [
    {
     "name": "stderr",
     "output_type": "stream",
     "text": [
      "2025-01-23 19:00:20,790 - DatabaseIndexer - INFO - Fetching tables from the database.\n"
     ]
    },
    {
     "name": "stdout",
     "output_type": "stream",
     "text": [
      "Indexing schema: financial\n"
     ]
    },
    {
     "name": "stderr",
     "output_type": "stream",
     "text": [
      "2025-01-23 19:00:21,057 - DatabaseIndexer - INFO - Filtered tables by regex: ['financial.order', 'financial.loan', 'financial.account', 'financial.card', 'financial.client', 'financial.disp', 'financial.district', 'financial.trans']\n",
      "2025-01-23 19:00:21,058 - DatabaseIndexer - INFO - Processing table: financial.order\n",
      "2025-01-23 19:00:39,044 - DatabaseIndexer - INFO - Completed processing table: financial.order\n",
      "2025-01-23 19:00:39,046 - DatabaseIndexer - INFO - Processing table: financial.loan\n"
     ]
    },
    {
     "name": "stdout",
     "output_type": "stream",
     "text": [
      "Object of type date is not JSON serializable\n"
     ]
    },
    {
     "name": "stderr",
     "output_type": "stream",
     "text": [
      "2025-01-23 19:01:01,900 - DatabaseIndexer - INFO - Completed processing table: financial.loan\n",
      "2025-01-23 19:01:01,903 - DatabaseIndexer - INFO - Processing table: financial.account\n"
     ]
    },
    {
     "name": "stdout",
     "output_type": "stream",
     "text": [
      "Object of type date is not JSON serializable\n"
     ]
    },
    {
     "name": "stderr",
     "output_type": "stream",
     "text": [
      "2025-01-23 19:01:09,639 - DatabaseIndexer - INFO - Completed processing table: financial.account\n",
      "2025-01-23 19:01:09,642 - DatabaseIndexer - INFO - Processing table: financial.card\n"
     ]
    },
    {
     "name": "stdout",
     "output_type": "stream",
     "text": [
      "Object of type date is not JSON serializable\n"
     ]
    },
    {
     "name": "stderr",
     "output_type": "stream",
     "text": [
      "2025-01-23 19:01:18,703 - DatabaseIndexer - INFO - Completed processing table: financial.card\n",
      "2025-01-23 19:01:18,704 - DatabaseIndexer - INFO - Processing table: financial.client\n"
     ]
    },
    {
     "name": "stdout",
     "output_type": "stream",
     "text": [
      "Object of type date is not JSON serializable\n"
     ]
    },
    {
     "name": "stderr",
     "output_type": "stream",
     "text": [
      "2025-01-23 19:01:29,922 - DatabaseIndexer - INFO - Completed processing table: financial.client\n",
      "2025-01-23 19:01:29,924 - DatabaseIndexer - INFO - Processing table: financial.disp\n",
      "2025-01-23 19:01:39,595 - DatabaseIndexer - INFO - Completed processing table: financial.disp\n",
      "2025-01-23 19:01:39,596 - DatabaseIndexer - INFO - Processing table: financial.district\n",
      "2025-01-23 19:02:07,801 - DatabaseIndexer - INFO - Completed processing table: financial.district\n",
      "2025-01-23 19:02:07,804 - DatabaseIndexer - INFO - Processing table: financial.trans\n"
     ]
    },
    {
     "name": "stdout",
     "output_type": "stream",
     "text": [
      "Object of type date is not JSON serializable\n"
     ]
    },
    {
     "name": "stderr",
     "output_type": "stream",
     "text": [
      "2025-01-23 19:02:35,349 - DatabaseIndexer - INFO - Completed processing table: financial.trans\n",
      "2025-01-23 19:02:35,351 - DatabaseIndexer - INFO - Completed fetching and processing all tables.\n",
      "2025-01-23 19:02:35,761 - DatabaseIndexer - INFO - Creating Azure AI Search Index.\n",
      "2025-01-23 19:02:35,931 - DatabaseIndexer - INFO - SearchIndexClient created.\n",
      "2025-01-23 19:02:36,275 - DatabaseIndexer - INFO - Index 'bird-dev-mini' does not exist. Creating a new one.\n",
      "2025-01-23 19:02:36,277 - DatabaseIndexer - INFO - Fields for the index defined.\n",
      "2025-01-23 19:02:36,279 - DatabaseIndexer - INFO - Vector search configuration defined.\n",
      "2025-01-23 19:02:36,282 - DatabaseIndexer - INFO - Semantic configuration defined.\n",
      "2025-01-23 19:02:36,284 - DatabaseIndexer - INFO - Semantic search configuration defined.\n",
      "2025-01-23 19:02:37,301 - DatabaseIndexer - INFO - Index 'bird-dev-mini' created successfully.\n",
      "2025-01-23 19:02:37,305 - DatabaseIndexer - INFO - Pushing metadata for 8 tables to Azure AI Search.\n"
     ]
    },
    {
     "name": "stdout",
     "output_type": "stream",
     "text": [
      "Pushing data for table financial.order to the index.\n"
     ]
    },
    {
     "name": "stderr",
     "output_type": "stream",
     "text": [
      "2025-01-23 19:02:37,657 - DatabaseIndexer - INFO - Data for table financial.order pushed to the index.\n",
      "2025-01-23 19:02:37,740 - DatabaseIndexer - INFO - Data for table financial.loan pushed to the index.\n",
      "2025-01-23 19:02:37,821 - DatabaseIndexer - INFO - Data for table financial.account pushed to the index.\n"
     ]
    },
    {
     "name": "stdout",
     "output_type": "stream",
     "text": [
      "Pushing data for table financial.loan to the index.\n",
      "Pushing data for table financial.account to the index.\n",
      "Pushing data for table financial.card to the index.\n"
     ]
    },
    {
     "name": "stderr",
     "output_type": "stream",
     "text": [
      "2025-01-23 19:02:37,895 - DatabaseIndexer - INFO - Data for table financial.card pushed to the index.\n",
      "2025-01-23 19:02:37,970 - DatabaseIndexer - INFO - Data for table financial.client pushed to the index.\n",
      "2025-01-23 19:02:38,044 - DatabaseIndexer - INFO - Data for table financial.disp pushed to the index.\n"
     ]
    },
    {
     "name": "stdout",
     "output_type": "stream",
     "text": [
      "Pushing data for table financial.client to the index.\n",
      "Pushing data for table financial.disp to the index.\n",
      "Pushing data for table financial.district to the index.\n"
     ]
    },
    {
     "name": "stderr",
     "output_type": "stream",
     "text": [
      "2025-01-23 19:02:38,119 - DatabaseIndexer - INFO - Data for table financial.district pushed to the index.\n",
      "2025-01-23 19:02:38,183 - DatabaseIndexer - INFO - Data for table financial.trans pushed to the index.\n",
      "2025-01-23 19:02:38,187 - DatabaseIndexer - INFO - Fetching tables from the database.\n",
      "2025-01-23 19:02:38,187 - DatabaseIndexer - INFO - Fetching tables from the database.\n",
      "2025-01-23 19:02:38,218 - DatabaseIndexer - INFO - Filtered tables by regex: ['toxicology.molecule', 'toxicology.atom', 'toxicology.bond', 'toxicology.connected']\n",
      "2025-01-23 19:02:38,218 - DatabaseIndexer - INFO - Filtered tables by regex: ['toxicology.molecule', 'toxicology.atom', 'toxicology.bond', 'toxicology.connected']\n",
      "2025-01-23 19:02:38,222 - DatabaseIndexer - INFO - Processing table: toxicology.molecule\n",
      "2025-01-23 19:02:38,222 - DatabaseIndexer - INFO - Processing table: toxicology.molecule\n"
     ]
    },
    {
     "name": "stdout",
     "output_type": "stream",
     "text": [
      "Pushing data for table financial.trans to the index.\n",
      "Indexing schema: toxicology\n"
     ]
    },
    {
     "name": "stderr",
     "output_type": "stream",
     "text": [
      "2025-01-23 19:02:43,163 - DatabaseIndexer - INFO - Completed processing table: toxicology.molecule\n",
      "2025-01-23 19:02:43,163 - DatabaseIndexer - INFO - Completed processing table: toxicology.molecule\n",
      "2025-01-23 19:02:43,167 - DatabaseIndexer - INFO - Processing table: toxicology.atom\n",
      "2025-01-23 19:02:43,167 - DatabaseIndexer - INFO - Processing table: toxicology.atom\n",
      "2025-01-23 19:02:54,899 - DatabaseIndexer - INFO - Completed processing table: toxicology.atom\n",
      "2025-01-23 19:02:54,899 - DatabaseIndexer - INFO - Completed processing table: toxicology.atom\n",
      "2025-01-23 19:02:54,901 - DatabaseIndexer - INFO - Processing table: toxicology.bond\n",
      "2025-01-23 19:02:54,901 - DatabaseIndexer - INFO - Processing table: toxicology.bond\n",
      "2025-01-23 19:03:00,603 - DatabaseIndexer - INFO - Completed processing table: toxicology.bond\n",
      "2025-01-23 19:03:00,603 - DatabaseIndexer - INFO - Completed processing table: toxicology.bond\n",
      "2025-01-23 19:03:00,604 - DatabaseIndexer - INFO - Processing table: toxicology.connected\n",
      "2025-01-23 19:03:00,604 - DatabaseIndexer - INFO - Processing table: toxicology.connected\n",
      "2025-01-23 19:03:16,978 - DatabaseIndexer - INFO - Completed processing table: toxicology.connected\n",
      "2025-01-23 19:03:16,978 - DatabaseIndexer - INFO - Completed processing table: toxicology.connected\n",
      "2025-01-23 19:03:16,981 - DatabaseIndexer - INFO - Completed fetching and processing all tables.\n",
      "2025-01-23 19:03:16,981 - DatabaseIndexer - INFO - Completed fetching and processing all tables.\n",
      "2025-01-23 19:03:17,186 - DatabaseIndexer - INFO - Creating Azure AI Search Index.\n",
      "2025-01-23 19:03:17,186 - DatabaseIndexer - INFO - Creating Azure AI Search Index.\n",
      "2025-01-23 19:03:17,188 - DatabaseIndexer - INFO - SearchIndexClient created.\n",
      "2025-01-23 19:03:17,188 - DatabaseIndexer - INFO - SearchIndexClient created.\n",
      "2025-01-23 19:03:17,437 - DatabaseIndexer - INFO - Index 'bird-dev-mini' already exists.\n",
      "2025-01-23 19:03:17,437 - DatabaseIndexer - INFO - Index 'bird-dev-mini' already exists.\n",
      "2025-01-23 19:03:17,446 - DatabaseIndexer - INFO - Pushing metadata for 4 tables to Azure AI Search.\n",
      "2025-01-23 19:03:17,446 - DatabaseIndexer - INFO - Pushing metadata for 4 tables to Azure AI Search.\n"
     ]
    },
    {
     "name": "stdout",
     "output_type": "stream",
     "text": [
      "Pushing data for table toxicology.molecule to the index.\n"
     ]
    },
    {
     "name": "stderr",
     "output_type": "stream",
     "text": [
      "2025-01-23 19:03:17,711 - DatabaseIndexer - INFO - Data for table toxicology.molecule pushed to the index.\n",
      "2025-01-23 19:03:17,711 - DatabaseIndexer - INFO - Data for table toxicology.molecule pushed to the index.\n",
      "2025-01-23 19:03:17,798 - DatabaseIndexer - INFO - Data for table toxicology.atom pushed to the index.\n",
      "2025-01-23 19:03:17,798 - DatabaseIndexer - INFO - Data for table toxicology.atom pushed to the index.\n",
      "2025-01-23 19:03:17,872 - DatabaseIndexer - INFO - Data for table toxicology.bond pushed to the index.\n",
      "2025-01-23 19:03:17,872 - DatabaseIndexer - INFO - Data for table toxicology.bond pushed to the index.\n"
     ]
    },
    {
     "name": "stdout",
     "output_type": "stream",
     "text": [
      "Pushing data for table toxicology.atom to the index.\n",
      "Pushing data for table toxicology.bond to the index.\n",
      "Pushing data for table toxicology.connected to the index.\n"
     ]
    },
    {
     "name": "stderr",
     "output_type": "stream",
     "text": [
      "2025-01-23 19:03:17,967 - DatabaseIndexer - INFO - Data for table toxicology.connected pushed to the index.\n",
      "2025-01-23 19:03:17,967 - DatabaseIndexer - INFO - Data for table toxicology.connected pushed to the index.\n",
      "2025-01-23 19:03:17,971 - DatabaseIndexer - INFO - Fetching tables from the database.\n",
      "2025-01-23 19:03:17,971 - DatabaseIndexer - INFO - Fetching tables from the database.\n",
      "2025-01-23 19:03:17,971 - DatabaseIndexer - INFO - Fetching tables from the database.\n",
      "2025-01-23 19:03:17,997 - DatabaseIndexer - INFO - Filtered tables by regex: ['card_games.legalities', 'card_games.foreign_data', 'card_games.cards', 'card_games.sets', 'card_games.set_translations']\n",
      "2025-01-23 19:03:17,997 - DatabaseIndexer - INFO - Filtered tables by regex: ['card_games.legalities', 'card_games.foreign_data', 'card_games.cards', 'card_games.sets', 'card_games.set_translations']\n",
      "2025-01-23 19:03:17,997 - DatabaseIndexer - INFO - Filtered tables by regex: ['card_games.legalities', 'card_games.foreign_data', 'card_games.cards', 'card_games.sets', 'card_games.set_translations']\n",
      "2025-01-23 19:03:18,001 - DatabaseIndexer - INFO - Processing table: card_games.legalities\n",
      "2025-01-23 19:03:18,001 - DatabaseIndexer - INFO - Processing table: card_games.legalities\n",
      "2025-01-23 19:03:18,001 - DatabaseIndexer - INFO - Processing table: card_games.legalities\n"
     ]
    },
    {
     "name": "stdout",
     "output_type": "stream",
     "text": [
      "Indexing schema: card_games\n"
     ]
    },
    {
     "name": "stderr",
     "output_type": "stream",
     "text": [
      "2025-01-23 19:03:33,214 - DatabaseIndexer - INFO - Completed processing table: card_games.legalities\n",
      "2025-01-23 19:03:33,214 - DatabaseIndexer - INFO - Completed processing table: card_games.legalities\n",
      "2025-01-23 19:03:33,214 - DatabaseIndexer - INFO - Completed processing table: card_games.legalities\n",
      "2025-01-23 19:03:33,219 - DatabaseIndexer - INFO - Processing table: card_games.foreign_data\n",
      "2025-01-23 19:03:33,219 - DatabaseIndexer - INFO - Processing table: card_games.foreign_data\n",
      "2025-01-23 19:03:33,219 - DatabaseIndexer - INFO - Processing table: card_games.foreign_data\n",
      "2025-01-23 19:04:29,937 - DatabaseIndexer - INFO - Completed processing table: card_games.foreign_data\n",
      "2025-01-23 19:04:29,937 - DatabaseIndexer - INFO - Completed processing table: card_games.foreign_data\n",
      "2025-01-23 19:04:29,937 - DatabaseIndexer - INFO - Completed processing table: card_games.foreign_data\n",
      "2025-01-23 19:04:29,941 - DatabaseIndexer - INFO - Processing table: card_games.cards\n",
      "2025-01-23 19:04:29,941 - DatabaseIndexer - INFO - Processing table: card_games.cards\n",
      "2025-01-23 19:04:29,941 - DatabaseIndexer - INFO - Processing table: card_games.cards\n",
      "2025-01-23 19:11:18,741 - DatabaseIndexer - INFO - Completed processing table: card_games.cards\n",
      "2025-01-23 19:11:18,741 - DatabaseIndexer - INFO - Completed processing table: card_games.cards\n",
      "2025-01-23 19:11:18,741 - DatabaseIndexer - INFO - Completed processing table: card_games.cards\n",
      "2025-01-23 19:11:18,746 - DatabaseIndexer - INFO - Processing table: card_games.sets\n",
      "2025-01-23 19:11:18,746 - DatabaseIndexer - INFO - Processing table: card_games.sets\n",
      "2025-01-23 19:11:18,746 - DatabaseIndexer - INFO - Processing table: card_games.sets\n"
     ]
    },
    {
     "name": "stdout",
     "output_type": "stream",
     "text": [
      "Object of type date is not JSON serializable\n"
     ]
    },
    {
     "name": "stderr",
     "output_type": "stream",
     "text": [
      "2025-01-23 19:12:46,415 - DatabaseIndexer - INFO - Completed processing table: card_games.sets\n",
      "2025-01-23 19:12:46,415 - DatabaseIndexer - INFO - Completed processing table: card_games.sets\n",
      "2025-01-23 19:12:46,415 - DatabaseIndexer - INFO - Completed processing table: card_games.sets\n",
      "2025-01-23 19:12:46,422 - DatabaseIndexer - INFO - Processing table: card_games.set_translations\n",
      "2025-01-23 19:12:46,422 - DatabaseIndexer - INFO - Processing table: card_games.set_translations\n",
      "2025-01-23 19:12:46,422 - DatabaseIndexer - INFO - Processing table: card_games.set_translations\n",
      "2025-01-23 19:13:24,373 - DatabaseIndexer - INFO - Completed processing table: card_games.set_translations\n",
      "2025-01-23 19:13:24,373 - DatabaseIndexer - INFO - Completed processing table: card_games.set_translations\n",
      "2025-01-23 19:13:24,373 - DatabaseIndexer - INFO - Completed processing table: card_games.set_translations\n",
      "2025-01-23 19:13:24,375 - DatabaseIndexer - INFO - Completed fetching and processing all tables.\n",
      "2025-01-23 19:13:24,375 - DatabaseIndexer - INFO - Completed fetching and processing all tables.\n",
      "2025-01-23 19:13:24,375 - DatabaseIndexer - INFO - Completed fetching and processing all tables.\n",
      "2025-01-23 19:13:24,594 - DatabaseIndexer - INFO - Creating Azure AI Search Index.\n",
      "2025-01-23 19:13:24,594 - DatabaseIndexer - INFO - Creating Azure AI Search Index.\n",
      "2025-01-23 19:13:24,594 - DatabaseIndexer - INFO - Creating Azure AI Search Index.\n",
      "2025-01-23 19:13:24,598 - DatabaseIndexer - INFO - SearchIndexClient created.\n",
      "2025-01-23 19:13:24,598 - DatabaseIndexer - INFO - SearchIndexClient created.\n",
      "2025-01-23 19:13:24,598 - DatabaseIndexer - INFO - SearchIndexClient created.\n",
      "2025-01-23 19:13:24,834 - DatabaseIndexer - INFO - Index 'bird-dev-mini' already exists.\n",
      "2025-01-23 19:13:24,834 - DatabaseIndexer - INFO - Index 'bird-dev-mini' already exists.\n",
      "2025-01-23 19:13:24,834 - DatabaseIndexer - INFO - Index 'bird-dev-mini' already exists.\n",
      "2025-01-23 19:13:24,844 - DatabaseIndexer - INFO - Pushing metadata for 5 tables to Azure AI Search.\n",
      "2025-01-23 19:13:24,844 - DatabaseIndexer - INFO - Pushing metadata for 5 tables to Azure AI Search.\n",
      "2025-01-23 19:13:24,844 - DatabaseIndexer - INFO - Pushing metadata for 5 tables to Azure AI Search.\n"
     ]
    },
    {
     "name": "stdout",
     "output_type": "stream",
     "text": [
      "Pushing data for table card_games.legalities to the index.\n"
     ]
    },
    {
     "name": "stderr",
     "output_type": "stream",
     "text": [
      "2025-01-23 19:13:25,126 - DatabaseIndexer - INFO - Data for table card_games.legalities pushed to the index.\n",
      "2025-01-23 19:13:25,126 - DatabaseIndexer - INFO - Data for table card_games.legalities pushed to the index.\n",
      "2025-01-23 19:13:25,126 - DatabaseIndexer - INFO - Data for table card_games.legalities pushed to the index.\n",
      "2025-01-23 19:13:25,209 - DatabaseIndexer - INFO - Data for table card_games.foreign_data pushed to the index.\n",
      "2025-01-23 19:13:25,209 - DatabaseIndexer - INFO - Data for table card_games.foreign_data pushed to the index.\n",
      "2025-01-23 19:13:25,209 - DatabaseIndexer - INFO - Data for table card_games.foreign_data pushed to the index.\n",
      "2025-01-23 19:13:25,332 - DatabaseIndexer - INFO - Data for table card_games.cards pushed to the index.\n",
      "2025-01-23 19:13:25,332 - DatabaseIndexer - INFO - Data for table card_games.cards pushed to the index.\n",
      "2025-01-23 19:13:25,332 - DatabaseIndexer - INFO - Data for table card_games.cards pushed to the index.\n"
     ]
    },
    {
     "name": "stdout",
     "output_type": "stream",
     "text": [
      "Pushing data for table card_games.foreign_data to the index.\n",
      "Pushing data for table card_games.cards to the index.\n",
      "Pushing data for table card_games.sets to the index.\n"
     ]
    },
    {
     "name": "stderr",
     "output_type": "stream",
     "text": [
      "2025-01-23 19:13:25,428 - DatabaseIndexer - INFO - Data for table card_games.sets pushed to the index.\n",
      "2025-01-23 19:13:25,428 - DatabaseIndexer - INFO - Data for table card_games.sets pushed to the index.\n",
      "2025-01-23 19:13:25,428 - DatabaseIndexer - INFO - Data for table card_games.sets pushed to the index.\n",
      "2025-01-23 19:13:25,497 - DatabaseIndexer - INFO - Data for table card_games.set_translations pushed to the index.\n",
      "2025-01-23 19:13:25,497 - DatabaseIndexer - INFO - Data for table card_games.set_translations pushed to the index.\n",
      "2025-01-23 19:13:25,497 - DatabaseIndexer - INFO - Data for table card_games.set_translations pushed to the index.\n",
      "2025-01-23 19:13:25,515 - DatabaseIndexer - INFO - Fetching tables from the database.\n",
      "2025-01-23 19:13:25,515 - DatabaseIndexer - INFO - Fetching tables from the database.\n",
      "2025-01-23 19:13:25,515 - DatabaseIndexer - INFO - Fetching tables from the database.\n",
      "2025-01-23 19:13:25,515 - DatabaseIndexer - INFO - Fetching tables from the database.\n",
      "2025-01-23 19:13:25,548 - DatabaseIndexer - INFO - Filtered tables by regex: ['codebase_community.badges', 'codebase_community.comments', 'codebase_community.posts', 'codebase_community.tags', 'codebase_community.votes', 'codebase_community.users']\n",
      "2025-01-23 19:13:25,548 - DatabaseIndexer - INFO - Filtered tables by regex: ['codebase_community.badges', 'codebase_community.comments', 'codebase_community.posts', 'codebase_community.tags', 'codebase_community.votes', 'codebase_community.users']\n",
      "2025-01-23 19:13:25,548 - DatabaseIndexer - INFO - Filtered tables by regex: ['codebase_community.badges', 'codebase_community.comments', 'codebase_community.posts', 'codebase_community.tags', 'codebase_community.votes', 'codebase_community.users']\n",
      "2025-01-23 19:13:25,548 - DatabaseIndexer - INFO - Filtered tables by regex: ['codebase_community.badges', 'codebase_community.comments', 'codebase_community.posts', 'codebase_community.tags', 'codebase_community.votes', 'codebase_community.users']\n",
      "2025-01-23 19:13:25,555 - DatabaseIndexer - INFO - Processing table: codebase_community.badges\n",
      "2025-01-23 19:13:25,555 - DatabaseIndexer - INFO - Processing table: codebase_community.badges\n",
      "2025-01-23 19:13:25,555 - DatabaseIndexer - INFO - Processing table: codebase_community.badges\n",
      "2025-01-23 19:13:25,555 - DatabaseIndexer - INFO - Processing table: codebase_community.badges\n"
     ]
    },
    {
     "name": "stdout",
     "output_type": "stream",
     "text": [
      "Pushing data for table card_games.set_translations to the index.\n",
      "Indexing schema: codebase_community\n"
     ]
    },
    {
     "name": "stderr",
     "output_type": "stream",
     "text": [
      "2025-01-23 19:13:33,237 - DatabaseIndexer - INFO - Completed processing table: codebase_community.badges\n",
      "2025-01-23 19:13:33,237 - DatabaseIndexer - INFO - Completed processing table: codebase_community.badges\n",
      "2025-01-23 19:13:33,237 - DatabaseIndexer - INFO - Completed processing table: codebase_community.badges\n",
      "2025-01-23 19:13:33,237 - DatabaseIndexer - INFO - Completed processing table: codebase_community.badges\n",
      "2025-01-23 19:13:33,244 - DatabaseIndexer - INFO - Processing table: codebase_community.comments\n",
      "2025-01-23 19:13:33,244 - DatabaseIndexer - INFO - Processing table: codebase_community.comments\n",
      "2025-01-23 19:13:33,244 - DatabaseIndexer - INFO - Processing table: codebase_community.comments\n",
      "2025-01-23 19:13:33,244 - DatabaseIndexer - INFO - Processing table: codebase_community.comments\n",
      "2025-01-23 19:13:53,031 - DatabaseIndexer - INFO - Completed processing table: codebase_community.comments\n",
      "2025-01-23 19:13:53,031 - DatabaseIndexer - INFO - Completed processing table: codebase_community.comments\n",
      "2025-01-23 19:13:53,031 - DatabaseIndexer - INFO - Completed processing table: codebase_community.comments\n",
      "2025-01-23 19:13:53,031 - DatabaseIndexer - INFO - Completed processing table: codebase_community.comments\n",
      "2025-01-23 19:13:53,041 - DatabaseIndexer - INFO - Processing table: codebase_community.posts\n",
      "2025-01-23 19:13:53,041 - DatabaseIndexer - INFO - Processing table: codebase_community.posts\n",
      "2025-01-23 19:13:53,041 - DatabaseIndexer - INFO - Processing table: codebase_community.posts\n",
      "2025-01-23 19:13:53,041 - DatabaseIndexer - INFO - Processing table: codebase_community.posts\n",
      "2025-01-23 19:14:52,414 - DatabaseIndexer - INFO - Completed processing table: codebase_community.posts\n",
      "2025-01-23 19:14:52,414 - DatabaseIndexer - INFO - Completed processing table: codebase_community.posts\n",
      "2025-01-23 19:14:52,414 - DatabaseIndexer - INFO - Completed processing table: codebase_community.posts\n",
      "2025-01-23 19:14:52,414 - DatabaseIndexer - INFO - Completed processing table: codebase_community.posts\n",
      "2025-01-23 19:14:52,417 - DatabaseIndexer - INFO - Processing table: codebase_community.tags\n",
      "2025-01-23 19:14:52,417 - DatabaseIndexer - INFO - Processing table: codebase_community.tags\n",
      "2025-01-23 19:14:52,417 - DatabaseIndexer - INFO - Processing table: codebase_community.tags\n",
      "2025-01-23 19:14:52,417 - DatabaseIndexer - INFO - Processing table: codebase_community.tags\n",
      "2025-01-23 19:15:05,362 - DatabaseIndexer - INFO - Completed processing table: codebase_community.tags\n",
      "2025-01-23 19:15:05,362 - DatabaseIndexer - INFO - Completed processing table: codebase_community.tags\n",
      "2025-01-23 19:15:05,362 - DatabaseIndexer - INFO - Completed processing table: codebase_community.tags\n",
      "2025-01-23 19:15:05,362 - DatabaseIndexer - INFO - Completed processing table: codebase_community.tags\n",
      "2025-01-23 19:15:05,367 - DatabaseIndexer - INFO - Processing table: codebase_community.votes\n",
      "2025-01-23 19:15:05,367 - DatabaseIndexer - INFO - Processing table: codebase_community.votes\n",
      "2025-01-23 19:15:05,367 - DatabaseIndexer - INFO - Processing table: codebase_community.votes\n",
      "2025-01-23 19:15:05,367 - DatabaseIndexer - INFO - Processing table: codebase_community.votes\n"
     ]
    },
    {
     "name": "stdout",
     "output_type": "stream",
     "text": [
      "Object of type date is not JSON serializable\n"
     ]
    },
    {
     "name": "stderr",
     "output_type": "stream",
     "text": [
      "2025-01-23 19:15:17,860 - DatabaseIndexer - INFO - Completed processing table: codebase_community.votes\n",
      "2025-01-23 19:15:17,860 - DatabaseIndexer - INFO - Completed processing table: codebase_community.votes\n",
      "2025-01-23 19:15:17,860 - DatabaseIndexer - INFO - Completed processing table: codebase_community.votes\n",
      "2025-01-23 19:15:17,860 - DatabaseIndexer - INFO - Completed processing table: codebase_community.votes\n",
      "2025-01-23 19:15:17,863 - DatabaseIndexer - INFO - Processing table: codebase_community.users\n",
      "2025-01-23 19:15:17,863 - DatabaseIndexer - INFO - Processing table: codebase_community.users\n",
      "2025-01-23 19:15:17,863 - DatabaseIndexer - INFO - Processing table: codebase_community.users\n",
      "2025-01-23 19:15:17,863 - DatabaseIndexer - INFO - Processing table: codebase_community.users\n",
      "2025-01-23 19:15:50,562 - DatabaseIndexer - INFO - Completed processing table: codebase_community.users\n",
      "2025-01-23 19:15:50,562 - DatabaseIndexer - INFO - Completed processing table: codebase_community.users\n",
      "2025-01-23 19:15:50,562 - DatabaseIndexer - INFO - Completed processing table: codebase_community.users\n",
      "2025-01-23 19:15:50,562 - DatabaseIndexer - INFO - Completed processing table: codebase_community.users\n",
      "2025-01-23 19:15:50,568 - DatabaseIndexer - INFO - Completed fetching and processing all tables.\n",
      "2025-01-23 19:15:50,568 - DatabaseIndexer - INFO - Completed fetching and processing all tables.\n",
      "2025-01-23 19:15:50,568 - DatabaseIndexer - INFO - Completed fetching and processing all tables.\n",
      "2025-01-23 19:15:50,568 - DatabaseIndexer - INFO - Completed fetching and processing all tables.\n",
      "2025-01-23 19:15:50,925 - DatabaseIndexer - INFO - Creating Azure AI Search Index.\n",
      "2025-01-23 19:15:50,925 - DatabaseIndexer - INFO - Creating Azure AI Search Index.\n",
      "2025-01-23 19:15:50,925 - DatabaseIndexer - INFO - Creating Azure AI Search Index.\n",
      "2025-01-23 19:15:50,925 - DatabaseIndexer - INFO - Creating Azure AI Search Index.\n",
      "2025-01-23 19:15:50,931 - DatabaseIndexer - INFO - SearchIndexClient created.\n",
      "2025-01-23 19:15:50,931 - DatabaseIndexer - INFO - SearchIndexClient created.\n",
      "2025-01-23 19:15:50,931 - DatabaseIndexer - INFO - SearchIndexClient created.\n",
      "2025-01-23 19:15:50,931 - DatabaseIndexer - INFO - SearchIndexClient created.\n",
      "2025-01-23 19:15:51,175 - DatabaseIndexer - INFO - Index 'bird-dev-mini' already exists.\n",
      "2025-01-23 19:15:51,175 - DatabaseIndexer - INFO - Index 'bird-dev-mini' already exists.\n",
      "2025-01-23 19:15:51,175 - DatabaseIndexer - INFO - Index 'bird-dev-mini' already exists.\n",
      "2025-01-23 19:15:51,175 - DatabaseIndexer - INFO - Index 'bird-dev-mini' already exists.\n",
      "2025-01-23 19:15:51,185 - DatabaseIndexer - INFO - Pushing metadata for 6 tables to Azure AI Search.\n",
      "2025-01-23 19:15:51,185 - DatabaseIndexer - INFO - Pushing metadata for 6 tables to Azure AI Search.\n",
      "2025-01-23 19:15:51,185 - DatabaseIndexer - INFO - Pushing metadata for 6 tables to Azure AI Search.\n",
      "2025-01-23 19:15:51,185 - DatabaseIndexer - INFO - Pushing metadata for 6 tables to Azure AI Search.\n"
     ]
    },
    {
     "name": "stdout",
     "output_type": "stream",
     "text": [
      "Pushing data for table codebase_community.badges to the index.\n"
     ]
    },
    {
     "name": "stderr",
     "output_type": "stream",
     "text": [
      "2025-01-23 19:15:51,451 - DatabaseIndexer - INFO - Data for table codebase_community.badges pushed to the index.\n",
      "2025-01-23 19:15:51,451 - DatabaseIndexer - INFO - Data for table codebase_community.badges pushed to the index.\n",
      "2025-01-23 19:15:51,451 - DatabaseIndexer - INFO - Data for table codebase_community.badges pushed to the index.\n",
      "2025-01-23 19:15:51,451 - DatabaseIndexer - INFO - Data for table codebase_community.badges pushed to the index.\n",
      "2025-01-23 19:15:51,531 - DatabaseIndexer - INFO - Data for table codebase_community.comments pushed to the index.\n",
      "2025-01-23 19:15:51,531 - DatabaseIndexer - INFO - Data for table codebase_community.comments pushed to the index.\n",
      "2025-01-23 19:15:51,531 - DatabaseIndexer - INFO - Data for table codebase_community.comments pushed to the index.\n",
      "2025-01-23 19:15:51,531 - DatabaseIndexer - INFO - Data for table codebase_community.comments pushed to the index.\n",
      "2025-01-23 19:15:51,630 - DatabaseIndexer - INFO - Data for table codebase_community.posts pushed to the index.\n",
      "2025-01-23 19:15:51,630 - DatabaseIndexer - INFO - Data for table codebase_community.posts pushed to the index.\n",
      "2025-01-23 19:15:51,630 - DatabaseIndexer - INFO - Data for table codebase_community.posts pushed to the index.\n",
      "2025-01-23 19:15:51,630 - DatabaseIndexer - INFO - Data for table codebase_community.posts pushed to the index.\n"
     ]
    },
    {
     "name": "stdout",
     "output_type": "stream",
     "text": [
      "Pushing data for table codebase_community.comments to the index.\n",
      "Pushing data for table codebase_community.posts to the index.\n",
      "Pushing data for table codebase_community.tags to the index.\n"
     ]
    },
    {
     "name": "stderr",
     "output_type": "stream",
     "text": [
      "2025-01-23 19:15:51,708 - DatabaseIndexer - INFO - Data for table codebase_community.tags pushed to the index.\n",
      "2025-01-23 19:15:51,708 - DatabaseIndexer - INFO - Data for table codebase_community.tags pushed to the index.\n",
      "2025-01-23 19:15:51,708 - DatabaseIndexer - INFO - Data for table codebase_community.tags pushed to the index.\n",
      "2025-01-23 19:15:51,708 - DatabaseIndexer - INFO - Data for table codebase_community.tags pushed to the index.\n",
      "2025-01-23 19:15:51,779 - DatabaseIndexer - INFO - Data for table codebase_community.votes pushed to the index.\n",
      "2025-01-23 19:15:51,779 - DatabaseIndexer - INFO - Data for table codebase_community.votes pushed to the index.\n",
      "2025-01-23 19:15:51,779 - DatabaseIndexer - INFO - Data for table codebase_community.votes pushed to the index.\n",
      "2025-01-23 19:15:51,779 - DatabaseIndexer - INFO - Data for table codebase_community.votes pushed to the index.\n",
      "2025-01-23 19:15:51,847 - DatabaseIndexer - INFO - Data for table codebase_community.users pushed to the index.\n",
      "2025-01-23 19:15:51,847 - DatabaseIndexer - INFO - Data for table codebase_community.users pushed to the index.\n",
      "2025-01-23 19:15:51,847 - DatabaseIndexer - INFO - Data for table codebase_community.users pushed to the index.\n",
      "2025-01-23 19:15:51,847 - DatabaseIndexer - INFO - Data for table codebase_community.users pushed to the index.\n",
      "2025-01-23 19:15:51,857 - DatabaseIndexer - INFO - Fetching tables from the database.\n",
      "2025-01-23 19:15:51,857 - DatabaseIndexer - INFO - Fetching tables from the database.\n",
      "2025-01-23 19:15:51,857 - DatabaseIndexer - INFO - Fetching tables from the database.\n",
      "2025-01-23 19:15:51,857 - DatabaseIndexer - INFO - Fetching tables from the database.\n",
      "2025-01-23 19:15:51,857 - DatabaseIndexer - INFO - Fetching tables from the database.\n",
      "2025-01-23 19:15:51,896 - DatabaseIndexer - INFO - Filtered tables by regex: ['debit_card_specializing.customers', 'debit_card_specializing.gasstations', 'debit_card_specializing.products', 'debit_card_specializing.transactions_1k', 'debit_card_specializing.yearmonth']\n",
      "2025-01-23 19:15:51,896 - DatabaseIndexer - INFO - Filtered tables by regex: ['debit_card_specializing.customers', 'debit_card_specializing.gasstations', 'debit_card_specializing.products', 'debit_card_specializing.transactions_1k', 'debit_card_specializing.yearmonth']\n",
      "2025-01-23 19:15:51,896 - DatabaseIndexer - INFO - Filtered tables by regex: ['debit_card_specializing.customers', 'debit_card_specializing.gasstations', 'debit_card_specializing.products', 'debit_card_specializing.transactions_1k', 'debit_card_specializing.yearmonth']\n",
      "2025-01-23 19:15:51,896 - DatabaseIndexer - INFO - Filtered tables by regex: ['debit_card_specializing.customers', 'debit_card_specializing.gasstations', 'debit_card_specializing.products', 'debit_card_specializing.transactions_1k', 'debit_card_specializing.yearmonth']\n",
      "2025-01-23 19:15:51,896 - DatabaseIndexer - INFO - Filtered tables by regex: ['debit_card_specializing.customers', 'debit_card_specializing.gasstations', 'debit_card_specializing.products', 'debit_card_specializing.transactions_1k', 'debit_card_specializing.yearmonth']\n",
      "2025-01-23 19:15:51,914 - DatabaseIndexer - INFO - Processing table: debit_card_specializing.customers\n",
      "2025-01-23 19:15:51,914 - DatabaseIndexer - INFO - Processing table: debit_card_specializing.customers\n",
      "2025-01-23 19:15:51,914 - DatabaseIndexer - INFO - Processing table: debit_card_specializing.customers\n"
     ]
    },
    {
     "name": "stdout",
     "output_type": "stream",
     "text": [
      "Pushing data for table codebase_community.votes to the index.\n",
      "Pushing data for table codebase_community.users to the index.\n",
      "Indexing schema: debit_card_specializing\n"
     ]
    },
    {
     "name": "stderr",
     "output_type": "stream",
     "text": [
      "2025-01-23 19:15:51,914 - DatabaseIndexer - INFO - Processing table: debit_card_specializing.customers\n",
      "2025-01-23 19:15:51,914 - DatabaseIndexer - INFO - Processing table: debit_card_specializing.customers\n",
      "2025-01-23 19:15:58,432 - DatabaseIndexer - INFO - Completed processing table: debit_card_specializing.customers\n",
      "2025-01-23 19:15:58,432 - DatabaseIndexer - INFO - Completed processing table: debit_card_specializing.customers\n",
      "2025-01-23 19:15:58,432 - DatabaseIndexer - INFO - Completed processing table: debit_card_specializing.customers\n",
      "2025-01-23 19:15:58,432 - DatabaseIndexer - INFO - Completed processing table: debit_card_specializing.customers\n",
      "2025-01-23 19:15:58,432 - DatabaseIndexer - INFO - Completed processing table: debit_card_specializing.customers\n",
      "2025-01-23 19:15:58,437 - DatabaseIndexer - INFO - Processing table: debit_card_specializing.gasstations\n",
      "2025-01-23 19:15:58,437 - DatabaseIndexer - INFO - Processing table: debit_card_specializing.gasstations\n",
      "2025-01-23 19:15:58,437 - DatabaseIndexer - INFO - Processing table: debit_card_specializing.gasstations\n",
      "2025-01-23 19:15:58,437 - DatabaseIndexer - INFO - Processing table: debit_card_specializing.gasstations\n",
      "2025-01-23 19:15:58,437 - DatabaseIndexer - INFO - Processing table: debit_card_specializing.gasstations\n",
      "2025-01-23 19:16:04,580 - DatabaseIndexer - INFO - Completed processing table: debit_card_specializing.gasstations\n",
      "2025-01-23 19:16:04,580 - DatabaseIndexer - INFO - Completed processing table: debit_card_specializing.gasstations\n",
      "2025-01-23 19:16:04,580 - DatabaseIndexer - INFO - Completed processing table: debit_card_specializing.gasstations\n",
      "2025-01-23 19:16:04,580 - DatabaseIndexer - INFO - Completed processing table: debit_card_specializing.gasstations\n",
      "2025-01-23 19:16:04,580 - DatabaseIndexer - INFO - Completed processing table: debit_card_specializing.gasstations\n",
      "2025-01-23 19:16:04,593 - DatabaseIndexer - INFO - Processing table: debit_card_specializing.products\n",
      "2025-01-23 19:16:04,593 - DatabaseIndexer - INFO - Processing table: debit_card_specializing.products\n",
      "2025-01-23 19:16:04,593 - DatabaseIndexer - INFO - Processing table: debit_card_specializing.products\n",
      "2025-01-23 19:16:04,593 - DatabaseIndexer - INFO - Processing table: debit_card_specializing.products\n",
      "2025-01-23 19:16:04,593 - DatabaseIndexer - INFO - Processing table: debit_card_specializing.products\n",
      "2025-01-23 19:16:10,121 - DatabaseIndexer - INFO - Completed processing table: debit_card_specializing.products\n",
      "2025-01-23 19:16:10,121 - DatabaseIndexer - INFO - Completed processing table: debit_card_specializing.products\n",
      "2025-01-23 19:16:10,121 - DatabaseIndexer - INFO - Completed processing table: debit_card_specializing.products\n",
      "2025-01-23 19:16:10,121 - DatabaseIndexer - INFO - Completed processing table: debit_card_specializing.products\n",
      "2025-01-23 19:16:10,121 - DatabaseIndexer - INFO - Completed processing table: debit_card_specializing.products\n",
      "2025-01-23 19:16:10,133 - DatabaseIndexer - INFO - Processing table: debit_card_specializing.transactions_1k\n",
      "2025-01-23 19:16:10,133 - DatabaseIndexer - INFO - Processing table: debit_card_specializing.transactions_1k\n",
      "2025-01-23 19:16:10,133 - DatabaseIndexer - INFO - Processing table: debit_card_specializing.transactions_1k\n",
      "2025-01-23 19:16:10,133 - DatabaseIndexer - INFO - Processing table: debit_card_specializing.transactions_1k\n",
      "2025-01-23 19:16:10,133 - DatabaseIndexer - INFO - Processing table: debit_card_specializing.transactions_1k\n"
     ]
    },
    {
     "name": "stdout",
     "output_type": "stream",
     "text": [
      "Object of type date is not JSON serializable\n"
     ]
    },
    {
     "name": "stderr",
     "output_type": "stream",
     "text": [
      "2025-01-23 19:16:24,550 - DatabaseIndexer - INFO - Completed processing table: debit_card_specializing.transactions_1k\n",
      "2025-01-23 19:16:24,550 - DatabaseIndexer - INFO - Completed processing table: debit_card_specializing.transactions_1k\n",
      "2025-01-23 19:16:24,550 - DatabaseIndexer - INFO - Completed processing table: debit_card_specializing.transactions_1k\n",
      "2025-01-23 19:16:24,550 - DatabaseIndexer - INFO - Completed processing table: debit_card_specializing.transactions_1k\n",
      "2025-01-23 19:16:24,550 - DatabaseIndexer - INFO - Completed processing table: debit_card_specializing.transactions_1k\n",
      "2025-01-23 19:16:24,558 - DatabaseIndexer - INFO - Processing table: debit_card_specializing.yearmonth\n",
      "2025-01-23 19:16:24,558 - DatabaseIndexer - INFO - Processing table: debit_card_specializing.yearmonth\n",
      "2025-01-23 19:16:24,558 - DatabaseIndexer - INFO - Processing table: debit_card_specializing.yearmonth\n",
      "2025-01-23 19:16:24,558 - DatabaseIndexer - INFO - Processing table: debit_card_specializing.yearmonth\n",
      "2025-01-23 19:16:24,558 - DatabaseIndexer - INFO - Processing table: debit_card_specializing.yearmonth\n",
      "2025-01-23 19:16:32,525 - DatabaseIndexer - INFO - Completed processing table: debit_card_specializing.yearmonth\n",
      "2025-01-23 19:16:32,525 - DatabaseIndexer - INFO - Completed processing table: debit_card_specializing.yearmonth\n",
      "2025-01-23 19:16:32,525 - DatabaseIndexer - INFO - Completed processing table: debit_card_specializing.yearmonth\n",
      "2025-01-23 19:16:32,525 - DatabaseIndexer - INFO - Completed processing table: debit_card_specializing.yearmonth\n",
      "2025-01-23 19:16:32,525 - DatabaseIndexer - INFO - Completed processing table: debit_card_specializing.yearmonth\n",
      "2025-01-23 19:16:32,532 - DatabaseIndexer - INFO - Completed fetching and processing all tables.\n",
      "2025-01-23 19:16:32,532 - DatabaseIndexer - INFO - Completed fetching and processing all tables.\n",
      "2025-01-23 19:16:32,532 - DatabaseIndexer - INFO - Completed fetching and processing all tables.\n",
      "2025-01-23 19:16:32,532 - DatabaseIndexer - INFO - Completed fetching and processing all tables.\n",
      "2025-01-23 19:16:32,532 - DatabaseIndexer - INFO - Completed fetching and processing all tables.\n",
      "2025-01-23 19:16:32,776 - DatabaseIndexer - INFO - Creating Azure AI Search Index.\n",
      "2025-01-23 19:16:32,776 - DatabaseIndexer - INFO - Creating Azure AI Search Index.\n",
      "2025-01-23 19:16:32,776 - DatabaseIndexer - INFO - Creating Azure AI Search Index.\n",
      "2025-01-23 19:16:32,776 - DatabaseIndexer - INFO - Creating Azure AI Search Index.\n",
      "2025-01-23 19:16:32,776 - DatabaseIndexer - INFO - Creating Azure AI Search Index.\n",
      "2025-01-23 19:16:32,783 - DatabaseIndexer - INFO - SearchIndexClient created.\n",
      "2025-01-23 19:16:32,783 - DatabaseIndexer - INFO - SearchIndexClient created.\n",
      "2025-01-23 19:16:32,783 - DatabaseIndexer - INFO - SearchIndexClient created.\n",
      "2025-01-23 19:16:32,783 - DatabaseIndexer - INFO - SearchIndexClient created.\n",
      "2025-01-23 19:16:32,783 - DatabaseIndexer - INFO - SearchIndexClient created.\n",
      "2025-01-23 19:16:33,034 - DatabaseIndexer - INFO - Index 'bird-dev-mini' already exists.\n",
      "2025-01-23 19:16:33,034 - DatabaseIndexer - INFO - Index 'bird-dev-mini' already exists.\n",
      "2025-01-23 19:16:33,034 - DatabaseIndexer - INFO - Index 'bird-dev-mini' already exists.\n",
      "2025-01-23 19:16:33,034 - DatabaseIndexer - INFO - Index 'bird-dev-mini' already exists.\n",
      "2025-01-23 19:16:33,034 - DatabaseIndexer - INFO - Index 'bird-dev-mini' already exists.\n",
      "2025-01-23 19:16:33,046 - DatabaseIndexer - INFO - Pushing metadata for 5 tables to Azure AI Search.\n",
      "2025-01-23 19:16:33,046 - DatabaseIndexer - INFO - Pushing metadata for 5 tables to Azure AI Search.\n",
      "2025-01-23 19:16:33,046 - DatabaseIndexer - INFO - Pushing metadata for 5 tables to Azure AI Search.\n",
      "2025-01-23 19:16:33,046 - DatabaseIndexer - INFO - Pushing metadata for 5 tables to Azure AI Search.\n",
      "2025-01-23 19:16:33,046 - DatabaseIndexer - INFO - Pushing metadata for 5 tables to Azure AI Search.\n"
     ]
    },
    {
     "name": "stdout",
     "output_type": "stream",
     "text": [
      "Pushing data for table debit_card_specializing.customers to the index.\n"
     ]
    },
    {
     "name": "stderr",
     "output_type": "stream",
     "text": [
      "2025-01-23 19:16:33,393 - DatabaseIndexer - INFO - Data for table debit_card_specializing.customers pushed to the index.\n",
      "2025-01-23 19:16:33,393 - DatabaseIndexer - INFO - Data for table debit_card_specializing.customers pushed to the index.\n",
      "2025-01-23 19:16:33,393 - DatabaseIndexer - INFO - Data for table debit_card_specializing.customers pushed to the index.\n",
      "2025-01-23 19:16:33,393 - DatabaseIndexer - INFO - Data for table debit_card_specializing.customers pushed to the index.\n",
      "2025-01-23 19:16:33,393 - DatabaseIndexer - INFO - Data for table debit_card_specializing.customers pushed to the index.\n",
      "2025-01-23 19:16:33,496 - DatabaseIndexer - INFO - Data for table debit_card_specializing.gasstations pushed to the index.\n",
      "2025-01-23 19:16:33,496 - DatabaseIndexer - INFO - Data for table debit_card_specializing.gasstations pushed to the index.\n",
      "2025-01-23 19:16:33,496 - DatabaseIndexer - INFO - Data for table debit_card_specializing.gasstations pushed to the index.\n",
      "2025-01-23 19:16:33,496 - DatabaseIndexer - INFO - Data for table debit_card_specializing.gasstations pushed to the index.\n",
      "2025-01-23 19:16:33,496 - DatabaseIndexer - INFO - Data for table debit_card_specializing.gasstations pushed to the index.\n"
     ]
    },
    {
     "name": "stdout",
     "output_type": "stream",
     "text": [
      "Pushing data for table debit_card_specializing.gasstations to the index.\n",
      "Pushing data for table debit_card_specializing.products to the index.\n"
     ]
    },
    {
     "name": "stderr",
     "output_type": "stream",
     "text": [
      "2025-01-23 19:16:33,620 - DatabaseIndexer - INFO - Data for table debit_card_specializing.products pushed to the index.\n",
      "2025-01-23 19:16:33,620 - DatabaseIndexer - INFO - Data for table debit_card_specializing.products pushed to the index.\n",
      "2025-01-23 19:16:33,620 - DatabaseIndexer - INFO - Data for table debit_card_specializing.products pushed to the index.\n",
      "2025-01-23 19:16:33,620 - DatabaseIndexer - INFO - Data for table debit_card_specializing.products pushed to the index.\n",
      "2025-01-23 19:16:33,620 - DatabaseIndexer - INFO - Data for table debit_card_specializing.products pushed to the index.\n",
      "2025-01-23 19:16:33,731 - DatabaseIndexer - INFO - Data for table debit_card_specializing.transactions_1k pushed to the index.\n",
      "2025-01-23 19:16:33,731 - DatabaseIndexer - INFO - Data for table debit_card_specializing.transactions_1k pushed to the index.\n",
      "2025-01-23 19:16:33,731 - DatabaseIndexer - INFO - Data for table debit_card_specializing.transactions_1k pushed to the index.\n",
      "2025-01-23 19:16:33,731 - DatabaseIndexer - INFO - Data for table debit_card_specializing.transactions_1k pushed to the index.\n",
      "2025-01-23 19:16:33,731 - DatabaseIndexer - INFO - Data for table debit_card_specializing.transactions_1k pushed to the index.\n",
      "2025-01-23 19:16:33,808 - DatabaseIndexer - INFO - Data for table debit_card_specializing.yearmonth pushed to the index.\n",
      "2025-01-23 19:16:33,808 - DatabaseIndexer - INFO - Data for table debit_card_specializing.yearmonth pushed to the index.\n",
      "2025-01-23 19:16:33,808 - DatabaseIndexer - INFO - Data for table debit_card_specializing.yearmonth pushed to the index.\n",
      "2025-01-23 19:16:33,808 - DatabaseIndexer - INFO - Data for table debit_card_specializing.yearmonth pushed to the index.\n",
      "2025-01-23 19:16:33,808 - DatabaseIndexer - INFO - Data for table debit_card_specializing.yearmonth pushed to the index.\n",
      "2025-01-23 19:16:33,819 - DatabaseIndexer - INFO - Fetching tables from the database.\n",
      "2025-01-23 19:16:33,819 - DatabaseIndexer - INFO - Fetching tables from the database.\n",
      "2025-01-23 19:16:33,819 - DatabaseIndexer - INFO - Fetching tables from the database.\n",
      "2025-01-23 19:16:33,819 - DatabaseIndexer - INFO - Fetching tables from the database.\n",
      "2025-01-23 19:16:33,819 - DatabaseIndexer - INFO - Fetching tables from the database.\n",
      "2025-01-23 19:16:33,819 - DatabaseIndexer - INFO - Fetching tables from the database.\n"
     ]
    },
    {
     "name": "stdout",
     "output_type": "stream",
     "text": [
      "Pushing data for table debit_card_specializing.transactions_1k to the index.\n",
      "Pushing data for table debit_card_specializing.yearmonth to the index.\n",
      "Indexing schema: superhero\n"
     ]
    },
    {
     "name": "stderr",
     "output_type": "stream",
     "text": [
      "2025-01-23 19:16:33,861 - DatabaseIndexer - INFO - Filtered tables by regex: ['superhero.hero_power', 'superhero.alignment', 'superhero.attribute', 'superhero.gender', 'superhero.hero_attribute', 'superhero.superhero', 'superhero.superpower', 'superhero.colour', 'superhero.publisher', 'superhero.race']\n",
      "2025-01-23 19:16:33,861 - DatabaseIndexer - INFO - Filtered tables by regex: ['superhero.hero_power', 'superhero.alignment', 'superhero.attribute', 'superhero.gender', 'superhero.hero_attribute', 'superhero.superhero', 'superhero.superpower', 'superhero.colour', 'superhero.publisher', 'superhero.race']\n",
      "2025-01-23 19:16:33,861 - DatabaseIndexer - INFO - Filtered tables by regex: ['superhero.hero_power', 'superhero.alignment', 'superhero.attribute', 'superhero.gender', 'superhero.hero_attribute', 'superhero.superhero', 'superhero.superpower', 'superhero.colour', 'superhero.publisher', 'superhero.race']\n",
      "2025-01-23 19:16:33,861 - DatabaseIndexer - INFO - Filtered tables by regex: ['superhero.hero_power', 'superhero.alignment', 'superhero.attribute', 'superhero.gender', 'superhero.hero_attribute', 'superhero.superhero', 'superhero.superpower', 'superhero.colour', 'superhero.publisher', 'superhero.race']\n",
      "2025-01-23 19:16:33,861 - DatabaseIndexer - INFO - Filtered tables by regex: ['superhero.hero_power', 'superhero.alignment', 'superhero.attribute', 'superhero.gender', 'superhero.hero_attribute', 'superhero.superhero', 'superhero.superpower', 'superhero.colour', 'superhero.publisher', 'superhero.race']\n",
      "2025-01-23 19:16:33,861 - DatabaseIndexer - INFO - Filtered tables by regex: ['superhero.hero_power', 'superhero.alignment', 'superhero.attribute', 'superhero.gender', 'superhero.hero_attribute', 'superhero.superhero', 'superhero.superpower', 'superhero.colour', 'superhero.publisher', 'superhero.race']\n",
      "2025-01-23 19:16:33,879 - DatabaseIndexer - INFO - Processing table: superhero.hero_power\n",
      "2025-01-23 19:16:33,879 - DatabaseIndexer - INFO - Processing table: superhero.hero_power\n",
      "2025-01-23 19:16:33,879 - DatabaseIndexer - INFO - Processing table: superhero.hero_power\n",
      "2025-01-23 19:16:33,879 - DatabaseIndexer - INFO - Processing table: superhero.hero_power\n",
      "2025-01-23 19:16:33,879 - DatabaseIndexer - INFO - Processing table: superhero.hero_power\n",
      "2025-01-23 19:16:33,879 - DatabaseIndexer - INFO - Processing table: superhero.hero_power\n",
      "2025-01-23 19:16:47,571 - DatabaseIndexer - INFO - Completed processing table: superhero.hero_power\n",
      "2025-01-23 19:16:47,571 - DatabaseIndexer - INFO - Completed processing table: superhero.hero_power\n",
      "2025-01-23 19:16:47,571 - DatabaseIndexer - INFO - Completed processing table: superhero.hero_power\n",
      "2025-01-23 19:16:47,571 - DatabaseIndexer - INFO - Completed processing table: superhero.hero_power\n",
      "2025-01-23 19:16:47,571 - DatabaseIndexer - INFO - Completed processing table: superhero.hero_power\n",
      "2025-01-23 19:16:47,571 - DatabaseIndexer - INFO - Completed processing table: superhero.hero_power\n",
      "2025-01-23 19:16:47,581 - DatabaseIndexer - INFO - Processing table: superhero.alignment\n",
      "2025-01-23 19:16:47,581 - DatabaseIndexer - INFO - Processing table: superhero.alignment\n",
      "2025-01-23 19:16:47,581 - DatabaseIndexer - INFO - Processing table: superhero.alignment\n",
      "2025-01-23 19:16:47,581 - DatabaseIndexer - INFO - Processing table: superhero.alignment\n",
      "2025-01-23 19:16:47,581 - DatabaseIndexer - INFO - Processing table: superhero.alignment\n",
      "2025-01-23 19:16:47,581 - DatabaseIndexer - INFO - Processing table: superhero.alignment\n",
      "2025-01-23 19:16:52,712 - DatabaseIndexer - INFO - Completed processing table: superhero.alignment\n",
      "2025-01-23 19:16:52,712 - DatabaseIndexer - INFO - Completed processing table: superhero.alignment\n",
      "2025-01-23 19:16:52,712 - DatabaseIndexer - INFO - Completed processing table: superhero.alignment\n",
      "2025-01-23 19:16:52,712 - DatabaseIndexer - INFO - Completed processing table: superhero.alignment\n",
      "2025-01-23 19:16:52,712 - DatabaseIndexer - INFO - Completed processing table: superhero.alignment\n",
      "2025-01-23 19:16:52,712 - DatabaseIndexer - INFO - Completed processing table: superhero.alignment\n",
      "2025-01-23 19:16:52,721 - DatabaseIndexer - INFO - Processing table: superhero.attribute\n",
      "2025-01-23 19:16:52,721 - DatabaseIndexer - INFO - Processing table: superhero.attribute\n",
      "2025-01-23 19:16:52,721 - DatabaseIndexer - INFO - Processing table: superhero.attribute\n",
      "2025-01-23 19:16:52,721 - DatabaseIndexer - INFO - Processing table: superhero.attribute\n",
      "2025-01-23 19:16:52,721 - DatabaseIndexer - INFO - Processing table: superhero.attribute\n",
      "2025-01-23 19:16:52,721 - DatabaseIndexer - INFO - Processing table: superhero.attribute\n",
      "2025-01-23 19:16:57,515 - DatabaseIndexer - INFO - Completed processing table: superhero.attribute\n",
      "2025-01-23 19:16:57,515 - DatabaseIndexer - INFO - Completed processing table: superhero.attribute\n",
      "2025-01-23 19:16:57,515 - DatabaseIndexer - INFO - Completed processing table: superhero.attribute\n",
      "2025-01-23 19:16:57,515 - DatabaseIndexer - INFO - Completed processing table: superhero.attribute\n",
      "2025-01-23 19:16:57,515 - DatabaseIndexer - INFO - Completed processing table: superhero.attribute\n",
      "2025-01-23 19:16:57,515 - DatabaseIndexer - INFO - Completed processing table: superhero.attribute\n",
      "2025-01-23 19:16:57,526 - DatabaseIndexer - INFO - Processing table: superhero.gender\n",
      "2025-01-23 19:16:57,526 - DatabaseIndexer - INFO - Processing table: superhero.gender\n",
      "2025-01-23 19:16:57,526 - DatabaseIndexer - INFO - Processing table: superhero.gender\n",
      "2025-01-23 19:16:57,526 - DatabaseIndexer - INFO - Processing table: superhero.gender\n",
      "2025-01-23 19:16:57,526 - DatabaseIndexer - INFO - Processing table: superhero.gender\n",
      "2025-01-23 19:16:57,526 - DatabaseIndexer - INFO - Processing table: superhero.gender\n",
      "2025-01-23 19:17:05,301 - DatabaseIndexer - INFO - Completed processing table: superhero.gender\n",
      "2025-01-23 19:17:05,301 - DatabaseIndexer - INFO - Completed processing table: superhero.gender\n",
      "2025-01-23 19:17:05,301 - DatabaseIndexer - INFO - Completed processing table: superhero.gender\n",
      "2025-01-23 19:17:05,301 - DatabaseIndexer - INFO - Completed processing table: superhero.gender\n",
      "2025-01-23 19:17:05,301 - DatabaseIndexer - INFO - Completed processing table: superhero.gender\n",
      "2025-01-23 19:17:05,301 - DatabaseIndexer - INFO - Completed processing table: superhero.gender\n",
      "2025-01-23 19:17:05,311 - DatabaseIndexer - INFO - Processing table: superhero.hero_attribute\n",
      "2025-01-23 19:17:05,311 - DatabaseIndexer - INFO - Processing table: superhero.hero_attribute\n",
      "2025-01-23 19:17:05,311 - DatabaseIndexer - INFO - Processing table: superhero.hero_attribute\n",
      "2025-01-23 19:17:05,311 - DatabaseIndexer - INFO - Processing table: superhero.hero_attribute\n",
      "2025-01-23 19:17:05,311 - DatabaseIndexer - INFO - Processing table: superhero.hero_attribute\n",
      "2025-01-23 19:17:05,311 - DatabaseIndexer - INFO - Processing table: superhero.hero_attribute\n",
      "2025-01-23 19:17:14,584 - DatabaseIndexer - INFO - Completed processing table: superhero.hero_attribute\n",
      "2025-01-23 19:17:14,584 - DatabaseIndexer - INFO - Completed processing table: superhero.hero_attribute\n",
      "2025-01-23 19:17:14,584 - DatabaseIndexer - INFO - Completed processing table: superhero.hero_attribute\n",
      "2025-01-23 19:17:14,584 - DatabaseIndexer - INFO - Completed processing table: superhero.hero_attribute\n",
      "2025-01-23 19:17:14,584 - DatabaseIndexer - INFO - Completed processing table: superhero.hero_attribute\n",
      "2025-01-23 19:17:14,584 - DatabaseIndexer - INFO - Completed processing table: superhero.hero_attribute\n",
      "2025-01-23 19:17:14,597 - DatabaseIndexer - INFO - Processing table: superhero.superhero\n",
      "2025-01-23 19:17:14,597 - DatabaseIndexer - INFO - Processing table: superhero.superhero\n",
      "2025-01-23 19:17:14,597 - DatabaseIndexer - INFO - Processing table: superhero.superhero\n",
      "2025-01-23 19:17:14,597 - DatabaseIndexer - INFO - Processing table: superhero.superhero\n",
      "2025-01-23 19:17:14,597 - DatabaseIndexer - INFO - Processing table: superhero.superhero\n",
      "2025-01-23 19:17:14,597 - DatabaseIndexer - INFO - Processing table: superhero.superhero\n",
      "2025-01-23 19:17:35,353 - DatabaseIndexer - INFO - Completed processing table: superhero.superhero\n",
      "2025-01-23 19:17:35,353 - DatabaseIndexer - INFO - Completed processing table: superhero.superhero\n",
      "2025-01-23 19:17:35,353 - DatabaseIndexer - INFO - Completed processing table: superhero.superhero\n",
      "2025-01-23 19:17:35,353 - DatabaseIndexer - INFO - Completed processing table: superhero.superhero\n",
      "2025-01-23 19:17:35,353 - DatabaseIndexer - INFO - Completed processing table: superhero.superhero\n",
      "2025-01-23 19:17:35,353 - DatabaseIndexer - INFO - Completed processing table: superhero.superhero\n",
      "2025-01-23 19:17:35,367 - DatabaseIndexer - INFO - Processing table: superhero.superpower\n",
      "2025-01-23 19:17:35,367 - DatabaseIndexer - INFO - Processing table: superhero.superpower\n",
      "2025-01-23 19:17:35,367 - DatabaseIndexer - INFO - Processing table: superhero.superpower\n",
      "2025-01-23 19:17:35,367 - DatabaseIndexer - INFO - Processing table: superhero.superpower\n",
      "2025-01-23 19:17:35,367 - DatabaseIndexer - INFO - Processing table: superhero.superpower\n",
      "2025-01-23 19:17:35,367 - DatabaseIndexer - INFO - Processing table: superhero.superpower\n",
      "2025-01-23 19:17:40,993 - DatabaseIndexer - INFO - Completed processing table: superhero.superpower\n",
      "2025-01-23 19:17:40,993 - DatabaseIndexer - INFO - Completed processing table: superhero.superpower\n",
      "2025-01-23 19:17:40,993 - DatabaseIndexer - INFO - Completed processing table: superhero.superpower\n",
      "2025-01-23 19:17:40,993 - DatabaseIndexer - INFO - Completed processing table: superhero.superpower\n",
      "2025-01-23 19:17:40,993 - DatabaseIndexer - INFO - Completed processing table: superhero.superpower\n",
      "2025-01-23 19:17:40,993 - DatabaseIndexer - INFO - Completed processing table: superhero.superpower\n",
      "2025-01-23 19:17:41,000 - DatabaseIndexer - INFO - Processing table: superhero.colour\n",
      "2025-01-23 19:17:41,000 - DatabaseIndexer - INFO - Processing table: superhero.colour\n",
      "2025-01-23 19:17:41,000 - DatabaseIndexer - INFO - Processing table: superhero.colour\n",
      "2025-01-23 19:17:41,000 - DatabaseIndexer - INFO - Processing table: superhero.colour\n",
      "2025-01-23 19:17:41,000 - DatabaseIndexer - INFO - Processing table: superhero.colour\n",
      "2025-01-23 19:17:41,000 - DatabaseIndexer - INFO - Processing table: superhero.colour\n",
      "2025-01-23 19:17:47,445 - DatabaseIndexer - INFO - Completed processing table: superhero.colour\n",
      "2025-01-23 19:17:47,445 - DatabaseIndexer - INFO - Completed processing table: superhero.colour\n",
      "2025-01-23 19:17:47,445 - DatabaseIndexer - INFO - Completed processing table: superhero.colour\n",
      "2025-01-23 19:17:47,445 - DatabaseIndexer - INFO - Completed processing table: superhero.colour\n",
      "2025-01-23 19:17:47,445 - DatabaseIndexer - INFO - Completed processing table: superhero.colour\n",
      "2025-01-23 19:17:47,445 - DatabaseIndexer - INFO - Completed processing table: superhero.colour\n",
      "2025-01-23 19:17:47,464 - DatabaseIndexer - INFO - Processing table: superhero.publisher\n",
      "2025-01-23 19:17:47,464 - DatabaseIndexer - INFO - Processing table: superhero.publisher\n",
      "2025-01-23 19:17:47,464 - DatabaseIndexer - INFO - Processing table: superhero.publisher\n",
      "2025-01-23 19:17:47,464 - DatabaseIndexer - INFO - Processing table: superhero.publisher\n",
      "2025-01-23 19:17:47,464 - DatabaseIndexer - INFO - Processing table: superhero.publisher\n",
      "2025-01-23 19:17:47,464 - DatabaseIndexer - INFO - Processing table: superhero.publisher\n",
      "2025-01-23 19:17:55,900 - DatabaseIndexer - INFO - Completed processing table: superhero.publisher\n",
      "2025-01-23 19:17:55,900 - DatabaseIndexer - INFO - Completed processing table: superhero.publisher\n",
      "2025-01-23 19:17:55,900 - DatabaseIndexer - INFO - Completed processing table: superhero.publisher\n",
      "2025-01-23 19:17:55,900 - DatabaseIndexer - INFO - Completed processing table: superhero.publisher\n",
      "2025-01-23 19:17:55,900 - DatabaseIndexer - INFO - Completed processing table: superhero.publisher\n",
      "2025-01-23 19:17:55,900 - DatabaseIndexer - INFO - Completed processing table: superhero.publisher\n",
      "2025-01-23 19:17:55,911 - DatabaseIndexer - INFO - Processing table: superhero.race\n",
      "2025-01-23 19:17:55,911 - DatabaseIndexer - INFO - Processing table: superhero.race\n",
      "2025-01-23 19:17:55,911 - DatabaseIndexer - INFO - Processing table: superhero.race\n",
      "2025-01-23 19:17:55,911 - DatabaseIndexer - INFO - Processing table: superhero.race\n",
      "2025-01-23 19:17:55,911 - DatabaseIndexer - INFO - Processing table: superhero.race\n",
      "2025-01-23 19:17:55,911 - DatabaseIndexer - INFO - Processing table: superhero.race\n",
      "2025-01-23 19:18:00,422 - DatabaseIndexer - INFO - Completed processing table: superhero.race\n",
      "2025-01-23 19:18:00,422 - DatabaseIndexer - INFO - Completed processing table: superhero.race\n",
      "2025-01-23 19:18:00,422 - DatabaseIndexer - INFO - Completed processing table: superhero.race\n",
      "2025-01-23 19:18:00,422 - DatabaseIndexer - INFO - Completed processing table: superhero.race\n",
      "2025-01-23 19:18:00,422 - DatabaseIndexer - INFO - Completed processing table: superhero.race\n",
      "2025-01-23 19:18:00,422 - DatabaseIndexer - INFO - Completed processing table: superhero.race\n",
      "2025-01-23 19:18:00,433 - DatabaseIndexer - INFO - Completed fetching and processing all tables.\n",
      "2025-01-23 19:18:00,433 - DatabaseIndexer - INFO - Completed fetching and processing all tables.\n",
      "2025-01-23 19:18:00,433 - DatabaseIndexer - INFO - Completed fetching and processing all tables.\n",
      "2025-01-23 19:18:00,433 - DatabaseIndexer - INFO - Completed fetching and processing all tables.\n",
      "2025-01-23 19:18:00,433 - DatabaseIndexer - INFO - Completed fetching and processing all tables.\n",
      "2025-01-23 19:18:00,433 - DatabaseIndexer - INFO - Completed fetching and processing all tables.\n",
      "2025-01-23 19:18:01,051 - DatabaseIndexer - INFO - Creating Azure AI Search Index.\n",
      "2025-01-23 19:18:01,051 - DatabaseIndexer - INFO - Creating Azure AI Search Index.\n",
      "2025-01-23 19:18:01,051 - DatabaseIndexer - INFO - Creating Azure AI Search Index.\n",
      "2025-01-23 19:18:01,051 - DatabaseIndexer - INFO - Creating Azure AI Search Index.\n",
      "2025-01-23 19:18:01,051 - DatabaseIndexer - INFO - Creating Azure AI Search Index.\n",
      "2025-01-23 19:18:01,051 - DatabaseIndexer - INFO - Creating Azure AI Search Index.\n",
      "2025-01-23 19:18:01,064 - DatabaseIndexer - INFO - SearchIndexClient created.\n",
      "2025-01-23 19:18:01,064 - DatabaseIndexer - INFO - SearchIndexClient created.\n",
      "2025-01-23 19:18:01,064 - DatabaseIndexer - INFO - SearchIndexClient created.\n",
      "2025-01-23 19:18:01,064 - DatabaseIndexer - INFO - SearchIndexClient created.\n",
      "2025-01-23 19:18:01,064 - DatabaseIndexer - INFO - SearchIndexClient created.\n",
      "2025-01-23 19:18:01,064 - DatabaseIndexer - INFO - SearchIndexClient created.\n",
      "2025-01-23 19:18:01,300 - DatabaseIndexer - INFO - Index 'bird-dev-mini' already exists.\n",
      "2025-01-23 19:18:01,300 - DatabaseIndexer - INFO - Index 'bird-dev-mini' already exists.\n",
      "2025-01-23 19:18:01,300 - DatabaseIndexer - INFO - Index 'bird-dev-mini' already exists.\n",
      "2025-01-23 19:18:01,300 - DatabaseIndexer - INFO - Index 'bird-dev-mini' already exists.\n",
      "2025-01-23 19:18:01,300 - DatabaseIndexer - INFO - Index 'bird-dev-mini' already exists.\n",
      "2025-01-23 19:18:01,300 - DatabaseIndexer - INFO - Index 'bird-dev-mini' already exists.\n",
      "2025-01-23 19:18:01,312 - DatabaseIndexer - INFO - Pushing metadata for 10 tables to Azure AI Search.\n",
      "2025-01-23 19:18:01,312 - DatabaseIndexer - INFO - Pushing metadata for 10 tables to Azure AI Search.\n",
      "2025-01-23 19:18:01,312 - DatabaseIndexer - INFO - Pushing metadata for 10 tables to Azure AI Search.\n",
      "2025-01-23 19:18:01,312 - DatabaseIndexer - INFO - Pushing metadata for 10 tables to Azure AI Search.\n",
      "2025-01-23 19:18:01,312 - DatabaseIndexer - INFO - Pushing metadata for 10 tables to Azure AI Search.\n",
      "2025-01-23 19:18:01,312 - DatabaseIndexer - INFO - Pushing metadata for 10 tables to Azure AI Search.\n"
     ]
    },
    {
     "name": "stdout",
     "output_type": "stream",
     "text": [
      "Pushing data for table superhero.hero_power to the index.\n"
     ]
    },
    {
     "name": "stderr",
     "output_type": "stream",
     "text": [
      "2025-01-23 19:18:01,556 - DatabaseIndexer - INFO - Data for table superhero.hero_power pushed to the index.\n",
      "2025-01-23 19:18:01,556 - DatabaseIndexer - INFO - Data for table superhero.hero_power pushed to the index.\n",
      "2025-01-23 19:18:01,556 - DatabaseIndexer - INFO - Data for table superhero.hero_power pushed to the index.\n",
      "2025-01-23 19:18:01,556 - DatabaseIndexer - INFO - Data for table superhero.hero_power pushed to the index.\n",
      "2025-01-23 19:18:01,556 - DatabaseIndexer - INFO - Data for table superhero.hero_power pushed to the index.\n",
      "2025-01-23 19:18:01,556 - DatabaseIndexer - INFO - Data for table superhero.hero_power pushed to the index.\n",
      "2025-01-23 19:18:01,653 - DatabaseIndexer - INFO - Data for table superhero.alignment pushed to the index.\n",
      "2025-01-23 19:18:01,653 - DatabaseIndexer - INFO - Data for table superhero.alignment pushed to the index.\n",
      "2025-01-23 19:18:01,653 - DatabaseIndexer - INFO - Data for table superhero.alignment pushed to the index.\n",
      "2025-01-23 19:18:01,653 - DatabaseIndexer - INFO - Data for table superhero.alignment pushed to the index.\n",
      "2025-01-23 19:18:01,653 - DatabaseIndexer - INFO - Data for table superhero.alignment pushed to the index.\n",
      "2025-01-23 19:18:01,653 - DatabaseIndexer - INFO - Data for table superhero.alignment pushed to the index.\n",
      "2025-01-23 19:18:01,743 - DatabaseIndexer - INFO - Data for table superhero.attribute pushed to the index.\n",
      "2025-01-23 19:18:01,743 - DatabaseIndexer - INFO - Data for table superhero.attribute pushed to the index.\n",
      "2025-01-23 19:18:01,743 - DatabaseIndexer - INFO - Data for table superhero.attribute pushed to the index.\n",
      "2025-01-23 19:18:01,743 - DatabaseIndexer - INFO - Data for table superhero.attribute pushed to the index.\n",
      "2025-01-23 19:18:01,743 - DatabaseIndexer - INFO - Data for table superhero.attribute pushed to the index.\n",
      "2025-01-23 19:18:01,743 - DatabaseIndexer - INFO - Data for table superhero.attribute pushed to the index.\n"
     ]
    },
    {
     "name": "stdout",
     "output_type": "stream",
     "text": [
      "Pushing data for table superhero.alignment to the index.\n",
      "Pushing data for table superhero.attribute to the index.\n",
      "Pushing data for table superhero.gender to the index.\n"
     ]
    },
    {
     "name": "stderr",
     "output_type": "stream",
     "text": [
      "2025-01-23 19:18:01,816 - DatabaseIndexer - INFO - Data for table superhero.gender pushed to the index.\n",
      "2025-01-23 19:18:01,816 - DatabaseIndexer - INFO - Data for table superhero.gender pushed to the index.\n",
      "2025-01-23 19:18:01,816 - DatabaseIndexer - INFO - Data for table superhero.gender pushed to the index.\n",
      "2025-01-23 19:18:01,816 - DatabaseIndexer - INFO - Data for table superhero.gender pushed to the index.\n",
      "2025-01-23 19:18:01,816 - DatabaseIndexer - INFO - Data for table superhero.gender pushed to the index.\n",
      "2025-01-23 19:18:01,816 - DatabaseIndexer - INFO - Data for table superhero.gender pushed to the index.\n",
      "2025-01-23 19:18:01,891 - DatabaseIndexer - INFO - Data for table superhero.hero_attribute pushed to the index.\n",
      "2025-01-23 19:18:01,891 - DatabaseIndexer - INFO - Data for table superhero.hero_attribute pushed to the index.\n",
      "2025-01-23 19:18:01,891 - DatabaseIndexer - INFO - Data for table superhero.hero_attribute pushed to the index.\n",
      "2025-01-23 19:18:01,891 - DatabaseIndexer - INFO - Data for table superhero.hero_attribute pushed to the index.\n",
      "2025-01-23 19:18:01,891 - DatabaseIndexer - INFO - Data for table superhero.hero_attribute pushed to the index.\n",
      "2025-01-23 19:18:01,891 - DatabaseIndexer - INFO - Data for table superhero.hero_attribute pushed to the index.\n",
      "2025-01-23 19:18:01,976 - DatabaseIndexer - INFO - Data for table superhero.superhero pushed to the index.\n",
      "2025-01-23 19:18:01,976 - DatabaseIndexer - INFO - Data for table superhero.superhero pushed to the index.\n",
      "2025-01-23 19:18:01,976 - DatabaseIndexer - INFO - Data for table superhero.superhero pushed to the index.\n",
      "2025-01-23 19:18:01,976 - DatabaseIndexer - INFO - Data for table superhero.superhero pushed to the index.\n",
      "2025-01-23 19:18:01,976 - DatabaseIndexer - INFO - Data for table superhero.superhero pushed to the index.\n",
      "2025-01-23 19:18:01,976 - DatabaseIndexer - INFO - Data for table superhero.superhero pushed to the index.\n"
     ]
    },
    {
     "name": "stdout",
     "output_type": "stream",
     "text": [
      "Pushing data for table superhero.hero_attribute to the index.\n",
      "Pushing data for table superhero.superhero to the index.\n",
      "Pushing data for table superhero.superpower to the index.\n"
     ]
    },
    {
     "name": "stderr",
     "output_type": "stream",
     "text": [
      "2025-01-23 19:18:02,057 - DatabaseIndexer - INFO - Data for table superhero.superpower pushed to the index.\n",
      "2025-01-23 19:18:02,057 - DatabaseIndexer - INFO - Data for table superhero.superpower pushed to the index.\n",
      "2025-01-23 19:18:02,057 - DatabaseIndexer - INFO - Data for table superhero.superpower pushed to the index.\n",
      "2025-01-23 19:18:02,057 - DatabaseIndexer - INFO - Data for table superhero.superpower pushed to the index.\n",
      "2025-01-23 19:18:02,057 - DatabaseIndexer - INFO - Data for table superhero.superpower pushed to the index.\n",
      "2025-01-23 19:18:02,057 - DatabaseIndexer - INFO - Data for table superhero.superpower pushed to the index.\n",
      "2025-01-23 19:18:02,133 - DatabaseIndexer - INFO - Data for table superhero.colour pushed to the index.\n",
      "2025-01-23 19:18:02,133 - DatabaseIndexer - INFO - Data for table superhero.colour pushed to the index.\n",
      "2025-01-23 19:18:02,133 - DatabaseIndexer - INFO - Data for table superhero.colour pushed to the index.\n",
      "2025-01-23 19:18:02,133 - DatabaseIndexer - INFO - Data for table superhero.colour pushed to the index.\n",
      "2025-01-23 19:18:02,133 - DatabaseIndexer - INFO - Data for table superhero.colour pushed to the index.\n",
      "2025-01-23 19:18:02,133 - DatabaseIndexer - INFO - Data for table superhero.colour pushed to the index.\n",
      "2025-01-23 19:18:02,201 - DatabaseIndexer - INFO - Data for table superhero.publisher pushed to the index.\n",
      "2025-01-23 19:18:02,201 - DatabaseIndexer - INFO - Data for table superhero.publisher pushed to the index.\n",
      "2025-01-23 19:18:02,201 - DatabaseIndexer - INFO - Data for table superhero.publisher pushed to the index.\n",
      "2025-01-23 19:18:02,201 - DatabaseIndexer - INFO - Data for table superhero.publisher pushed to the index.\n",
      "2025-01-23 19:18:02,201 - DatabaseIndexer - INFO - Data for table superhero.publisher pushed to the index.\n",
      "2025-01-23 19:18:02,201 - DatabaseIndexer - INFO - Data for table superhero.publisher pushed to the index.\n"
     ]
    },
    {
     "name": "stdout",
     "output_type": "stream",
     "text": [
      "Pushing data for table superhero.colour to the index.\n",
      "Pushing data for table superhero.publisher to the index.\n",
      "Pushing data for table superhero.race to the index.\n"
     ]
    },
    {
     "name": "stderr",
     "output_type": "stream",
     "text": [
      "2025-01-23 19:18:02,276 - DatabaseIndexer - INFO - Data for table superhero.race pushed to the index.\n",
      "2025-01-23 19:18:02,276 - DatabaseIndexer - INFO - Data for table superhero.race pushed to the index.\n",
      "2025-01-23 19:18:02,276 - DatabaseIndexer - INFO - Data for table superhero.race pushed to the index.\n",
      "2025-01-23 19:18:02,276 - DatabaseIndexer - INFO - Data for table superhero.race pushed to the index.\n",
      "2025-01-23 19:18:02,276 - DatabaseIndexer - INFO - Data for table superhero.race pushed to the index.\n",
      "2025-01-23 19:18:02,276 - DatabaseIndexer - INFO - Data for table superhero.race pushed to the index.\n",
      "2025-01-23 19:18:02,290 - DatabaseIndexer - INFO - Fetching tables from the database.\n",
      "2025-01-23 19:18:02,290 - DatabaseIndexer - INFO - Fetching tables from the database.\n",
      "2025-01-23 19:18:02,290 - DatabaseIndexer - INFO - Fetching tables from the database.\n",
      "2025-01-23 19:18:02,290 - DatabaseIndexer - INFO - Fetching tables from the database.\n",
      "2025-01-23 19:18:02,290 - DatabaseIndexer - INFO - Fetching tables from the database.\n",
      "2025-01-23 19:18:02,290 - DatabaseIndexer - INFO - Fetching tables from the database.\n",
      "2025-01-23 19:18:02,290 - DatabaseIndexer - INFO - Fetching tables from the database.\n",
      "2025-01-23 19:18:02,322 - DatabaseIndexer - INFO - Filtered tables by regex: []\n",
      "2025-01-23 19:18:02,322 - DatabaseIndexer - INFO - Filtered tables by regex: []\n",
      "2025-01-23 19:18:02,322 - DatabaseIndexer - INFO - Filtered tables by regex: []\n",
      "2025-01-23 19:18:02,322 - DatabaseIndexer - INFO - Filtered tables by regex: []\n",
      "2025-01-23 19:18:02,322 - DatabaseIndexer - INFO - Filtered tables by regex: []\n",
      "2025-01-23 19:18:02,322 - DatabaseIndexer - INFO - Filtered tables by regex: []\n",
      "2025-01-23 19:18:02,322 - DatabaseIndexer - INFO - Filtered tables by regex: []\n",
      "2025-01-23 19:18:02,331 - DatabaseIndexer - INFO - Completed fetching and processing all tables.\n",
      "2025-01-23 19:18:02,331 - DatabaseIndexer - INFO - Completed fetching and processing all tables.\n",
      "2025-01-23 19:18:02,331 - DatabaseIndexer - INFO - Completed fetching and processing all tables.\n",
      "2025-01-23 19:18:02,331 - DatabaseIndexer - INFO - Completed fetching and processing all tables.\n",
      "2025-01-23 19:18:02,331 - DatabaseIndexer - INFO - Completed fetching and processing all tables.\n",
      "2025-01-23 19:18:02,331 - DatabaseIndexer - INFO - Completed fetching and processing all tables.\n",
      "2025-01-23 19:18:02,331 - DatabaseIndexer - INFO - Completed fetching and processing all tables.\n",
      "2025-01-23 19:18:02,342 - DatabaseIndexer - INFO - Creating Azure AI Search Index.\n",
      "2025-01-23 19:18:02,342 - DatabaseIndexer - INFO - Creating Azure AI Search Index.\n",
      "2025-01-23 19:18:02,342 - DatabaseIndexer - INFO - Creating Azure AI Search Index.\n",
      "2025-01-23 19:18:02,342 - DatabaseIndexer - INFO - Creating Azure AI Search Index.\n",
      "2025-01-23 19:18:02,342 - DatabaseIndexer - INFO - Creating Azure AI Search Index.\n",
      "2025-01-23 19:18:02,342 - DatabaseIndexer - INFO - Creating Azure AI Search Index.\n",
      "2025-01-23 19:18:02,342 - DatabaseIndexer - INFO - Creating Azure AI Search Index.\n",
      "2025-01-23 19:18:02,351 - DatabaseIndexer - INFO - SearchIndexClient created.\n",
      "2025-01-23 19:18:02,351 - DatabaseIndexer - INFO - SearchIndexClient created.\n",
      "2025-01-23 19:18:02,351 - DatabaseIndexer - INFO - SearchIndexClient created.\n",
      "2025-01-23 19:18:02,351 - DatabaseIndexer - INFO - SearchIndexClient created.\n",
      "2025-01-23 19:18:02,351 - DatabaseIndexer - INFO - SearchIndexClient created.\n",
      "2025-01-23 19:18:02,351 - DatabaseIndexer - INFO - SearchIndexClient created.\n",
      "2025-01-23 19:18:02,351 - DatabaseIndexer - INFO - SearchIndexClient created.\n"
     ]
    },
    {
     "name": "stdout",
     "output_type": "stream",
     "text": [
      "Indexing schema: thrombosis_prediction\n"
     ]
    },
    {
     "name": "stderr",
     "output_type": "stream",
     "text": [
      "2025-01-23 19:18:02,532 - DatabaseIndexer - INFO - Index 'bird-dev-mini' already exists.\n",
      "2025-01-23 19:18:02,532 - DatabaseIndexer - INFO - Index 'bird-dev-mini' already exists.\n",
      "2025-01-23 19:18:02,532 - DatabaseIndexer - INFO - Index 'bird-dev-mini' already exists.\n",
      "2025-01-23 19:18:02,532 - DatabaseIndexer - INFO - Index 'bird-dev-mini' already exists.\n",
      "2025-01-23 19:18:02,532 - DatabaseIndexer - INFO - Index 'bird-dev-mini' already exists.\n",
      "2025-01-23 19:18:02,532 - DatabaseIndexer - INFO - Index 'bird-dev-mini' already exists.\n",
      "2025-01-23 19:18:02,532 - DatabaseIndexer - INFO - Index 'bird-dev-mini' already exists.\n",
      "2025-01-23 19:18:02,546 - DatabaseIndexer - INFO - Pushing metadata for 0 tables to Azure AI Search.\n",
      "2025-01-23 19:18:02,546 - DatabaseIndexer - INFO - Pushing metadata for 0 tables to Azure AI Search.\n",
      "2025-01-23 19:18:02,546 - DatabaseIndexer - INFO - Pushing metadata for 0 tables to Azure AI Search.\n",
      "2025-01-23 19:18:02,546 - DatabaseIndexer - INFO - Pushing metadata for 0 tables to Azure AI Search.\n",
      "2025-01-23 19:18:02,546 - DatabaseIndexer - INFO - Pushing metadata for 0 tables to Azure AI Search.\n",
      "2025-01-23 19:18:02,546 - DatabaseIndexer - INFO - Pushing metadata for 0 tables to Azure AI Search.\n",
      "2025-01-23 19:18:02,546 - DatabaseIndexer - INFO - Pushing metadata for 0 tables to Azure AI Search.\n",
      "2025-01-23 19:18:02,554 - DatabaseIndexer - INFO - Fetching tables from the database.\n",
      "2025-01-23 19:18:02,554 - DatabaseIndexer - INFO - Fetching tables from the database.\n",
      "2025-01-23 19:18:02,554 - DatabaseIndexer - INFO - Fetching tables from the database.\n",
      "2025-01-23 19:18:02,554 - DatabaseIndexer - INFO - Fetching tables from the database.\n",
      "2025-01-23 19:18:02,554 - DatabaseIndexer - INFO - Fetching tables from the database.\n",
      "2025-01-23 19:18:02,554 - DatabaseIndexer - INFO - Fetching tables from the database.\n",
      "2025-01-23 19:18:02,554 - DatabaseIndexer - INFO - Fetching tables from the database.\n",
      "2025-01-23 19:18:02,554 - DatabaseIndexer - INFO - Fetching tables from the database.\n",
      "2025-01-23 19:18:02,588 - DatabaseIndexer - INFO - Filtered tables by regex: ['formula_1.circuits', 'formula_1.drivers', 'formula_1.constructors', 'formula_1.races', 'formula_1.seasons', 'formula_1.qualifying', 'formula_1.status', 'formula_1.results']\n",
      "2025-01-23 19:18:02,588 - DatabaseIndexer - INFO - Filtered tables by regex: ['formula_1.circuits', 'formula_1.drivers', 'formula_1.constructors', 'formula_1.races', 'formula_1.seasons', 'formula_1.qualifying', 'formula_1.status', 'formula_1.results']\n",
      "2025-01-23 19:18:02,588 - DatabaseIndexer - INFO - Filtered tables by regex: ['formula_1.circuits', 'formula_1.drivers', 'formula_1.constructors', 'formula_1.races', 'formula_1.seasons', 'formula_1.qualifying', 'formula_1.status', 'formula_1.results']\n",
      "2025-01-23 19:18:02,588 - DatabaseIndexer - INFO - Filtered tables by regex: ['formula_1.circuits', 'formula_1.drivers', 'formula_1.constructors', 'formula_1.races', 'formula_1.seasons', 'formula_1.qualifying', 'formula_1.status', 'formula_1.results']\n",
      "2025-01-23 19:18:02,588 - DatabaseIndexer - INFO - Filtered tables by regex: ['formula_1.circuits', 'formula_1.drivers', 'formula_1.constructors', 'formula_1.races', 'formula_1.seasons', 'formula_1.qualifying', 'formula_1.status', 'formula_1.results']\n",
      "2025-01-23 19:18:02,588 - DatabaseIndexer - INFO - Filtered tables by regex: ['formula_1.circuits', 'formula_1.drivers', 'formula_1.constructors', 'formula_1.races', 'formula_1.seasons', 'formula_1.qualifying', 'formula_1.status', 'formula_1.results']\n",
      "2025-01-23 19:18:02,588 - DatabaseIndexer - INFO - Filtered tables by regex: ['formula_1.circuits', 'formula_1.drivers', 'formula_1.constructors', 'formula_1.races', 'formula_1.seasons', 'formula_1.qualifying', 'formula_1.status', 'formula_1.results']\n",
      "2025-01-23 19:18:02,588 - DatabaseIndexer - INFO - Filtered tables by regex: ['formula_1.circuits', 'formula_1.drivers', 'formula_1.constructors', 'formula_1.races', 'formula_1.seasons', 'formula_1.qualifying', 'formula_1.status', 'formula_1.results']\n",
      "2025-01-23 19:18:02,601 - DatabaseIndexer - INFO - Processing table: formula_1.circuits\n",
      "2025-01-23 19:18:02,601 - DatabaseIndexer - INFO - Processing table: formula_1.circuits\n",
      "2025-01-23 19:18:02,601 - DatabaseIndexer - INFO - Processing table: formula_1.circuits\n",
      "2025-01-23 19:18:02,601 - DatabaseIndexer - INFO - Processing table: formula_1.circuits\n",
      "2025-01-23 19:18:02,601 - DatabaseIndexer - INFO - Processing table: formula_1.circuits\n",
      "2025-01-23 19:18:02,601 - DatabaseIndexer - INFO - Processing table: formula_1.circuits\n",
      "2025-01-23 19:18:02,601 - DatabaseIndexer - INFO - Processing table: formula_1.circuits\n",
      "2025-01-23 19:18:02,601 - DatabaseIndexer - INFO - Processing table: formula_1.circuits\n"
     ]
    },
    {
     "name": "stdout",
     "output_type": "stream",
     "text": [
      "Indexing schema: formula_1\n"
     ]
    },
    {
     "name": "stderr",
     "output_type": "stream",
     "text": [
      "2025-01-23 19:18:23,199 - DatabaseIndexer - INFO - Completed processing table: formula_1.circuits\n",
      "2025-01-23 19:18:23,199 - DatabaseIndexer - INFO - Completed processing table: formula_1.circuits\n",
      "2025-01-23 19:18:23,199 - DatabaseIndexer - INFO - Completed processing table: formula_1.circuits\n",
      "2025-01-23 19:18:23,199 - DatabaseIndexer - INFO - Completed processing table: formula_1.circuits\n",
      "2025-01-23 19:18:23,199 - DatabaseIndexer - INFO - Completed processing table: formula_1.circuits\n",
      "2025-01-23 19:18:23,199 - DatabaseIndexer - INFO - Completed processing table: formula_1.circuits\n",
      "2025-01-23 19:18:23,199 - DatabaseIndexer - INFO - Completed processing table: formula_1.circuits\n",
      "2025-01-23 19:18:23,199 - DatabaseIndexer - INFO - Completed processing table: formula_1.circuits\n",
      "2025-01-23 19:18:23,211 - DatabaseIndexer - INFO - Processing table: formula_1.drivers\n",
      "2025-01-23 19:18:23,211 - DatabaseIndexer - INFO - Processing table: formula_1.drivers\n",
      "2025-01-23 19:18:23,211 - DatabaseIndexer - INFO - Processing table: formula_1.drivers\n",
      "2025-01-23 19:18:23,211 - DatabaseIndexer - INFO - Processing table: formula_1.drivers\n",
      "2025-01-23 19:18:23,211 - DatabaseIndexer - INFO - Processing table: formula_1.drivers\n",
      "2025-01-23 19:18:23,211 - DatabaseIndexer - INFO - Processing table: formula_1.drivers\n",
      "2025-01-23 19:18:23,211 - DatabaseIndexer - INFO - Processing table: formula_1.drivers\n",
      "2025-01-23 19:18:23,211 - DatabaseIndexer - INFO - Processing table: formula_1.drivers\n"
     ]
    },
    {
     "name": "stdout",
     "output_type": "stream",
     "text": [
      "Object of type date is not JSON serializable\n"
     ]
    },
    {
     "name": "stderr",
     "output_type": "stream",
     "text": [
      "2025-01-23 19:18:39,028 - DatabaseIndexer - INFO - Completed processing table: formula_1.drivers\n",
      "2025-01-23 19:18:39,028 - DatabaseIndexer - INFO - Completed processing table: formula_1.drivers\n",
      "2025-01-23 19:18:39,028 - DatabaseIndexer - INFO - Completed processing table: formula_1.drivers\n",
      "2025-01-23 19:18:39,028 - DatabaseIndexer - INFO - Completed processing table: formula_1.drivers\n",
      "2025-01-23 19:18:39,028 - DatabaseIndexer - INFO - Completed processing table: formula_1.drivers\n",
      "2025-01-23 19:18:39,028 - DatabaseIndexer - INFO - Completed processing table: formula_1.drivers\n",
      "2025-01-23 19:18:39,028 - DatabaseIndexer - INFO - Completed processing table: formula_1.drivers\n",
      "2025-01-23 19:18:39,028 - DatabaseIndexer - INFO - Completed processing table: formula_1.drivers\n",
      "2025-01-23 19:18:39,039 - DatabaseIndexer - INFO - Processing table: formula_1.constructors\n",
      "2025-01-23 19:18:39,039 - DatabaseIndexer - INFO - Processing table: formula_1.constructors\n",
      "2025-01-23 19:18:39,039 - DatabaseIndexer - INFO - Processing table: formula_1.constructors\n",
      "2025-01-23 19:18:39,039 - DatabaseIndexer - INFO - Processing table: formula_1.constructors\n",
      "2025-01-23 19:18:39,039 - DatabaseIndexer - INFO - Processing table: formula_1.constructors\n",
      "2025-01-23 19:18:39,039 - DatabaseIndexer - INFO - Processing table: formula_1.constructors\n",
      "2025-01-23 19:18:39,039 - DatabaseIndexer - INFO - Processing table: formula_1.constructors\n",
      "2025-01-23 19:18:39,039 - DatabaseIndexer - INFO - Processing table: formula_1.constructors\n",
      "2025-01-23 19:18:48,961 - DatabaseIndexer - INFO - Completed processing table: formula_1.constructors\n",
      "2025-01-23 19:18:48,961 - DatabaseIndexer - INFO - Completed processing table: formula_1.constructors\n",
      "2025-01-23 19:18:48,961 - DatabaseIndexer - INFO - Completed processing table: formula_1.constructors\n",
      "2025-01-23 19:18:48,961 - DatabaseIndexer - INFO - Completed processing table: formula_1.constructors\n",
      "2025-01-23 19:18:48,961 - DatabaseIndexer - INFO - Completed processing table: formula_1.constructors\n",
      "2025-01-23 19:18:48,961 - DatabaseIndexer - INFO - Completed processing table: formula_1.constructors\n",
      "2025-01-23 19:18:48,961 - DatabaseIndexer - INFO - Completed processing table: formula_1.constructors\n",
      "2025-01-23 19:18:48,961 - DatabaseIndexer - INFO - Completed processing table: formula_1.constructors\n",
      "2025-01-23 19:18:48,969 - DatabaseIndexer - INFO - Processing table: formula_1.races\n",
      "2025-01-23 19:18:48,969 - DatabaseIndexer - INFO - Processing table: formula_1.races\n",
      "2025-01-23 19:18:48,969 - DatabaseIndexer - INFO - Processing table: formula_1.races\n",
      "2025-01-23 19:18:48,969 - DatabaseIndexer - INFO - Processing table: formula_1.races\n",
      "2025-01-23 19:18:48,969 - DatabaseIndexer - INFO - Processing table: formula_1.races\n",
      "2025-01-23 19:18:48,969 - DatabaseIndexer - INFO - Processing table: formula_1.races\n",
      "2025-01-23 19:18:48,969 - DatabaseIndexer - INFO - Processing table: formula_1.races\n",
      "2025-01-23 19:18:48,969 - DatabaseIndexer - INFO - Processing table: formula_1.races\n"
     ]
    },
    {
     "name": "stdout",
     "output_type": "stream",
     "text": [
      "Object of type date is not JSON serializable\n"
     ]
    },
    {
     "name": "stderr",
     "output_type": "stream",
     "text": [
      "2025-01-23 19:19:06,693 - DatabaseIndexer - INFO - Completed processing table: formula_1.races\n",
      "2025-01-23 19:19:06,693 - DatabaseIndexer - INFO - Completed processing table: formula_1.races\n",
      "2025-01-23 19:19:06,693 - DatabaseIndexer - INFO - Completed processing table: formula_1.races\n",
      "2025-01-23 19:19:06,693 - DatabaseIndexer - INFO - Completed processing table: formula_1.races\n",
      "2025-01-23 19:19:06,693 - DatabaseIndexer - INFO - Completed processing table: formula_1.races\n",
      "2025-01-23 19:19:06,693 - DatabaseIndexer - INFO - Completed processing table: formula_1.races\n",
      "2025-01-23 19:19:06,693 - DatabaseIndexer - INFO - Completed processing table: formula_1.races\n",
      "2025-01-23 19:19:06,693 - DatabaseIndexer - INFO - Completed processing table: formula_1.races\n",
      "2025-01-23 19:19:06,705 - DatabaseIndexer - INFO - Processing table: formula_1.seasons\n",
      "2025-01-23 19:19:06,705 - DatabaseIndexer - INFO - Processing table: formula_1.seasons\n",
      "2025-01-23 19:19:06,705 - DatabaseIndexer - INFO - Processing table: formula_1.seasons\n",
      "2025-01-23 19:19:06,705 - DatabaseIndexer - INFO - Processing table: formula_1.seasons\n",
      "2025-01-23 19:19:06,705 - DatabaseIndexer - INFO - Processing table: formula_1.seasons\n",
      "2025-01-23 19:19:06,705 - DatabaseIndexer - INFO - Processing table: formula_1.seasons\n",
      "2025-01-23 19:19:06,705 - DatabaseIndexer - INFO - Processing table: formula_1.seasons\n",
      "2025-01-23 19:19:06,705 - DatabaseIndexer - INFO - Processing table: formula_1.seasons\n",
      "2025-01-23 19:19:14,901 - DatabaseIndexer - INFO - Completed processing table: formula_1.seasons\n",
      "2025-01-23 19:19:14,901 - DatabaseIndexer - INFO - Completed processing table: formula_1.seasons\n",
      "2025-01-23 19:19:14,901 - DatabaseIndexer - INFO - Completed processing table: formula_1.seasons\n",
      "2025-01-23 19:19:14,901 - DatabaseIndexer - INFO - Completed processing table: formula_1.seasons\n",
      "2025-01-23 19:19:14,901 - DatabaseIndexer - INFO - Completed processing table: formula_1.seasons\n",
      "2025-01-23 19:19:14,901 - DatabaseIndexer - INFO - Completed processing table: formula_1.seasons\n",
      "2025-01-23 19:19:14,901 - DatabaseIndexer - INFO - Completed processing table: formula_1.seasons\n",
      "2025-01-23 19:19:14,901 - DatabaseIndexer - INFO - Completed processing table: formula_1.seasons\n",
      "2025-01-23 19:19:14,916 - DatabaseIndexer - INFO - Processing table: formula_1.qualifying\n",
      "2025-01-23 19:19:14,916 - DatabaseIndexer - INFO - Processing table: formula_1.qualifying\n",
      "2025-01-23 19:19:14,916 - DatabaseIndexer - INFO - Processing table: formula_1.qualifying\n",
      "2025-01-23 19:19:14,916 - DatabaseIndexer - INFO - Processing table: formula_1.qualifying\n",
      "2025-01-23 19:19:14,916 - DatabaseIndexer - INFO - Processing table: formula_1.qualifying\n",
      "2025-01-23 19:19:14,916 - DatabaseIndexer - INFO - Processing table: formula_1.qualifying\n",
      "2025-01-23 19:19:14,916 - DatabaseIndexer - INFO - Processing table: formula_1.qualifying\n",
      "2025-01-23 19:19:14,916 - DatabaseIndexer - INFO - Processing table: formula_1.qualifying\n",
      "2025-01-23 19:19:33,846 - DatabaseIndexer - INFO - Completed processing table: formula_1.qualifying\n",
      "2025-01-23 19:19:33,846 - DatabaseIndexer - INFO - Completed processing table: formula_1.qualifying\n",
      "2025-01-23 19:19:33,846 - DatabaseIndexer - INFO - Completed processing table: formula_1.qualifying\n",
      "2025-01-23 19:19:33,846 - DatabaseIndexer - INFO - Completed processing table: formula_1.qualifying\n",
      "2025-01-23 19:19:33,846 - DatabaseIndexer - INFO - Completed processing table: formula_1.qualifying\n",
      "2025-01-23 19:19:33,846 - DatabaseIndexer - INFO - Completed processing table: formula_1.qualifying\n",
      "2025-01-23 19:19:33,846 - DatabaseIndexer - INFO - Completed processing table: formula_1.qualifying\n",
      "2025-01-23 19:19:33,846 - DatabaseIndexer - INFO - Completed processing table: formula_1.qualifying\n",
      "2025-01-23 19:19:33,859 - DatabaseIndexer - INFO - Processing table: formula_1.status\n",
      "2025-01-23 19:19:33,859 - DatabaseIndexer - INFO - Processing table: formula_1.status\n",
      "2025-01-23 19:19:33,859 - DatabaseIndexer - INFO - Processing table: formula_1.status\n",
      "2025-01-23 19:19:33,859 - DatabaseIndexer - INFO - Processing table: formula_1.status\n",
      "2025-01-23 19:19:33,859 - DatabaseIndexer - INFO - Processing table: formula_1.status\n",
      "2025-01-23 19:19:33,859 - DatabaseIndexer - INFO - Processing table: formula_1.status\n",
      "2025-01-23 19:19:33,859 - DatabaseIndexer - INFO - Processing table: formula_1.status\n",
      "2025-01-23 19:19:33,859 - DatabaseIndexer - INFO - Processing table: formula_1.status\n",
      "2025-01-23 19:19:39,600 - DatabaseIndexer - INFO - Completed processing table: formula_1.status\n",
      "2025-01-23 19:19:39,600 - DatabaseIndexer - INFO - Completed processing table: formula_1.status\n",
      "2025-01-23 19:19:39,600 - DatabaseIndexer - INFO - Completed processing table: formula_1.status\n",
      "2025-01-23 19:19:39,600 - DatabaseIndexer - INFO - Completed processing table: formula_1.status\n",
      "2025-01-23 19:19:39,600 - DatabaseIndexer - INFO - Completed processing table: formula_1.status\n",
      "2025-01-23 19:19:39,600 - DatabaseIndexer - INFO - Completed processing table: formula_1.status\n",
      "2025-01-23 19:19:39,600 - DatabaseIndexer - INFO - Completed processing table: formula_1.status\n",
      "2025-01-23 19:19:39,600 - DatabaseIndexer - INFO - Completed processing table: formula_1.status\n",
      "2025-01-23 19:19:39,612 - DatabaseIndexer - INFO - Processing table: formula_1.results\n",
      "2025-01-23 19:19:39,612 - DatabaseIndexer - INFO - Processing table: formula_1.results\n",
      "2025-01-23 19:19:39,612 - DatabaseIndexer - INFO - Processing table: formula_1.results\n",
      "2025-01-23 19:19:39,612 - DatabaseIndexer - INFO - Processing table: formula_1.results\n",
      "2025-01-23 19:19:39,612 - DatabaseIndexer - INFO - Processing table: formula_1.results\n",
      "2025-01-23 19:19:39,612 - DatabaseIndexer - INFO - Processing table: formula_1.results\n",
      "2025-01-23 19:19:39,612 - DatabaseIndexer - INFO - Processing table: formula_1.results\n",
      "2025-01-23 19:19:39,612 - DatabaseIndexer - INFO - Processing table: formula_1.results\n",
      "2025-01-23 19:20:11,058 - DatabaseIndexer - INFO - Completed processing table: formula_1.results\n",
      "2025-01-23 19:20:11,058 - DatabaseIndexer - INFO - Completed processing table: formula_1.results\n",
      "2025-01-23 19:20:11,058 - DatabaseIndexer - INFO - Completed processing table: formula_1.results\n",
      "2025-01-23 19:20:11,058 - DatabaseIndexer - INFO - Completed processing table: formula_1.results\n",
      "2025-01-23 19:20:11,058 - DatabaseIndexer - INFO - Completed processing table: formula_1.results\n",
      "2025-01-23 19:20:11,058 - DatabaseIndexer - INFO - Completed processing table: formula_1.results\n",
      "2025-01-23 19:20:11,058 - DatabaseIndexer - INFO - Completed processing table: formula_1.results\n",
      "2025-01-23 19:20:11,058 - DatabaseIndexer - INFO - Completed processing table: formula_1.results\n",
      "2025-01-23 19:20:11,066 - DatabaseIndexer - INFO - Completed fetching and processing all tables.\n",
      "2025-01-23 19:20:11,066 - DatabaseIndexer - INFO - Completed fetching and processing all tables.\n",
      "2025-01-23 19:20:11,066 - DatabaseIndexer - INFO - Completed fetching and processing all tables.\n",
      "2025-01-23 19:20:11,066 - DatabaseIndexer - INFO - Completed fetching and processing all tables.\n",
      "2025-01-23 19:20:11,066 - DatabaseIndexer - INFO - Completed fetching and processing all tables.\n",
      "2025-01-23 19:20:11,066 - DatabaseIndexer - INFO - Completed fetching and processing all tables.\n",
      "2025-01-23 19:20:11,066 - DatabaseIndexer - INFO - Completed fetching and processing all tables.\n",
      "2025-01-23 19:20:11,066 - DatabaseIndexer - INFO - Completed fetching and processing all tables.\n",
      "2025-01-23 19:20:11,470 - DatabaseIndexer - INFO - Creating Azure AI Search Index.\n",
      "2025-01-23 19:20:11,470 - DatabaseIndexer - INFO - Creating Azure AI Search Index.\n",
      "2025-01-23 19:20:11,470 - DatabaseIndexer - INFO - Creating Azure AI Search Index.\n",
      "2025-01-23 19:20:11,470 - DatabaseIndexer - INFO - Creating Azure AI Search Index.\n",
      "2025-01-23 19:20:11,470 - DatabaseIndexer - INFO - Creating Azure AI Search Index.\n",
      "2025-01-23 19:20:11,470 - DatabaseIndexer - INFO - Creating Azure AI Search Index.\n",
      "2025-01-23 19:20:11,470 - DatabaseIndexer - INFO - Creating Azure AI Search Index.\n",
      "2025-01-23 19:20:11,470 - DatabaseIndexer - INFO - Creating Azure AI Search Index.\n",
      "2025-01-23 19:20:11,487 - DatabaseIndexer - INFO - SearchIndexClient created.\n",
      "2025-01-23 19:20:11,487 - DatabaseIndexer - INFO - SearchIndexClient created.\n",
      "2025-01-23 19:20:11,487 - DatabaseIndexer - INFO - SearchIndexClient created.\n",
      "2025-01-23 19:20:11,487 - DatabaseIndexer - INFO - SearchIndexClient created.\n",
      "2025-01-23 19:20:11,487 - DatabaseIndexer - INFO - SearchIndexClient created.\n",
      "2025-01-23 19:20:11,487 - DatabaseIndexer - INFO - SearchIndexClient created.\n",
      "2025-01-23 19:20:11,487 - DatabaseIndexer - INFO - SearchIndexClient created.\n",
      "2025-01-23 19:20:11,487 - DatabaseIndexer - INFO - SearchIndexClient created.\n",
      "2025-01-23 19:20:11,733 - DatabaseIndexer - INFO - Index 'bird-dev-mini' already exists.\n",
      "2025-01-23 19:20:11,733 - DatabaseIndexer - INFO - Index 'bird-dev-mini' already exists.\n",
      "2025-01-23 19:20:11,733 - DatabaseIndexer - INFO - Index 'bird-dev-mini' already exists.\n",
      "2025-01-23 19:20:11,733 - DatabaseIndexer - INFO - Index 'bird-dev-mini' already exists.\n",
      "2025-01-23 19:20:11,733 - DatabaseIndexer - INFO - Index 'bird-dev-mini' already exists.\n",
      "2025-01-23 19:20:11,733 - DatabaseIndexer - INFO - Index 'bird-dev-mini' already exists.\n",
      "2025-01-23 19:20:11,733 - DatabaseIndexer - INFO - Index 'bird-dev-mini' already exists.\n",
      "2025-01-23 19:20:11,733 - DatabaseIndexer - INFO - Index 'bird-dev-mini' already exists.\n",
      "2025-01-23 19:20:11,756 - DatabaseIndexer - INFO - Pushing metadata for 8 tables to Azure AI Search.\n",
      "2025-01-23 19:20:11,756 - DatabaseIndexer - INFO - Pushing metadata for 8 tables to Azure AI Search.\n",
      "2025-01-23 19:20:11,756 - DatabaseIndexer - INFO - Pushing metadata for 8 tables to Azure AI Search.\n",
      "2025-01-23 19:20:11,756 - DatabaseIndexer - INFO - Pushing metadata for 8 tables to Azure AI Search.\n",
      "2025-01-23 19:20:11,756 - DatabaseIndexer - INFO - Pushing metadata for 8 tables to Azure AI Search.\n",
      "2025-01-23 19:20:11,756 - DatabaseIndexer - INFO - Pushing metadata for 8 tables to Azure AI Search.\n",
      "2025-01-23 19:20:11,756 - DatabaseIndexer - INFO - Pushing metadata for 8 tables to Azure AI Search.\n",
      "2025-01-23 19:20:11,756 - DatabaseIndexer - INFO - Pushing metadata for 8 tables to Azure AI Search.\n"
     ]
    },
    {
     "name": "stdout",
     "output_type": "stream",
     "text": [
      "Pushing data for table formula_1.circuits to the index.\n"
     ]
    },
    {
     "name": "stderr",
     "output_type": "stream",
     "text": [
      "2025-01-23 19:20:12,024 - DatabaseIndexer - INFO - Data for table formula_1.circuits pushed to the index.\n",
      "2025-01-23 19:20:12,024 - DatabaseIndexer - INFO - Data for table formula_1.circuits pushed to the index.\n",
      "2025-01-23 19:20:12,024 - DatabaseIndexer - INFO - Data for table formula_1.circuits pushed to the index.\n",
      "2025-01-23 19:20:12,024 - DatabaseIndexer - INFO - Data for table formula_1.circuits pushed to the index.\n",
      "2025-01-23 19:20:12,024 - DatabaseIndexer - INFO - Data for table formula_1.circuits pushed to the index.\n",
      "2025-01-23 19:20:12,024 - DatabaseIndexer - INFO - Data for table formula_1.circuits pushed to the index.\n",
      "2025-01-23 19:20:12,024 - DatabaseIndexer - INFO - Data for table formula_1.circuits pushed to the index.\n",
      "2025-01-23 19:20:12,024 - DatabaseIndexer - INFO - Data for table formula_1.circuits pushed to the index.\n",
      "2025-01-23 19:20:12,112 - DatabaseIndexer - INFO - Data for table formula_1.drivers pushed to the index.\n",
      "2025-01-23 19:20:12,112 - DatabaseIndexer - INFO - Data for table formula_1.drivers pushed to the index.\n",
      "2025-01-23 19:20:12,112 - DatabaseIndexer - INFO - Data for table formula_1.drivers pushed to the index.\n",
      "2025-01-23 19:20:12,112 - DatabaseIndexer - INFO - Data for table formula_1.drivers pushed to the index.\n",
      "2025-01-23 19:20:12,112 - DatabaseIndexer - INFO - Data for table formula_1.drivers pushed to the index.\n",
      "2025-01-23 19:20:12,112 - DatabaseIndexer - INFO - Data for table formula_1.drivers pushed to the index.\n",
      "2025-01-23 19:20:12,112 - DatabaseIndexer - INFO - Data for table formula_1.drivers pushed to the index.\n",
      "2025-01-23 19:20:12,112 - DatabaseIndexer - INFO - Data for table formula_1.drivers pushed to the index.\n",
      "2025-01-23 19:20:12,197 - DatabaseIndexer - INFO - Data for table formula_1.constructors pushed to the index.\n",
      "2025-01-23 19:20:12,197 - DatabaseIndexer - INFO - Data for table formula_1.constructors pushed to the index.\n",
      "2025-01-23 19:20:12,197 - DatabaseIndexer - INFO - Data for table formula_1.constructors pushed to the index.\n",
      "2025-01-23 19:20:12,197 - DatabaseIndexer - INFO - Data for table formula_1.constructors pushed to the index.\n",
      "2025-01-23 19:20:12,197 - DatabaseIndexer - INFO - Data for table formula_1.constructors pushed to the index.\n",
      "2025-01-23 19:20:12,197 - DatabaseIndexer - INFO - Data for table formula_1.constructors pushed to the index.\n",
      "2025-01-23 19:20:12,197 - DatabaseIndexer - INFO - Data for table formula_1.constructors pushed to the index.\n",
      "2025-01-23 19:20:12,197 - DatabaseIndexer - INFO - Data for table formula_1.constructors pushed to the index.\n"
     ]
    },
    {
     "name": "stdout",
     "output_type": "stream",
     "text": [
      "Pushing data for table formula_1.drivers to the index.\n",
      "Pushing data for table formula_1.constructors to the index.\n",
      "Pushing data for table formula_1.races to the index.\n"
     ]
    },
    {
     "name": "stderr",
     "output_type": "stream",
     "text": [
      "2025-01-23 19:20:12,291 - DatabaseIndexer - INFO - Data for table formula_1.races pushed to the index.\n",
      "2025-01-23 19:20:12,291 - DatabaseIndexer - INFO - Data for table formula_1.races pushed to the index.\n",
      "2025-01-23 19:20:12,291 - DatabaseIndexer - INFO - Data for table formula_1.races pushed to the index.\n",
      "2025-01-23 19:20:12,291 - DatabaseIndexer - INFO - Data for table formula_1.races pushed to the index.\n",
      "2025-01-23 19:20:12,291 - DatabaseIndexer - INFO - Data for table formula_1.races pushed to the index.\n",
      "2025-01-23 19:20:12,291 - DatabaseIndexer - INFO - Data for table formula_1.races pushed to the index.\n",
      "2025-01-23 19:20:12,291 - DatabaseIndexer - INFO - Data for table formula_1.races pushed to the index.\n",
      "2025-01-23 19:20:12,291 - DatabaseIndexer - INFO - Data for table formula_1.races pushed to the index.\n",
      "2025-01-23 19:20:12,381 - DatabaseIndexer - INFO - Data for table formula_1.seasons pushed to the index.\n",
      "2025-01-23 19:20:12,381 - DatabaseIndexer - INFO - Data for table formula_1.seasons pushed to the index.\n",
      "2025-01-23 19:20:12,381 - DatabaseIndexer - INFO - Data for table formula_1.seasons pushed to the index.\n",
      "2025-01-23 19:20:12,381 - DatabaseIndexer - INFO - Data for table formula_1.seasons pushed to the index.\n",
      "2025-01-23 19:20:12,381 - DatabaseIndexer - INFO - Data for table formula_1.seasons pushed to the index.\n",
      "2025-01-23 19:20:12,381 - DatabaseIndexer - INFO - Data for table formula_1.seasons pushed to the index.\n",
      "2025-01-23 19:20:12,381 - DatabaseIndexer - INFO - Data for table formula_1.seasons pushed to the index.\n",
      "2025-01-23 19:20:12,381 - DatabaseIndexer - INFO - Data for table formula_1.seasons pushed to the index.\n",
      "2025-01-23 19:20:12,458 - DatabaseIndexer - INFO - Data for table formula_1.qualifying pushed to the index.\n",
      "2025-01-23 19:20:12,458 - DatabaseIndexer - INFO - Data for table formula_1.qualifying pushed to the index.\n",
      "2025-01-23 19:20:12,458 - DatabaseIndexer - INFO - Data for table formula_1.qualifying pushed to the index.\n",
      "2025-01-23 19:20:12,458 - DatabaseIndexer - INFO - Data for table formula_1.qualifying pushed to the index.\n",
      "2025-01-23 19:20:12,458 - DatabaseIndexer - INFO - Data for table formula_1.qualifying pushed to the index.\n",
      "2025-01-23 19:20:12,458 - DatabaseIndexer - INFO - Data for table formula_1.qualifying pushed to the index.\n",
      "2025-01-23 19:20:12,458 - DatabaseIndexer - INFO - Data for table formula_1.qualifying pushed to the index.\n",
      "2025-01-23 19:20:12,458 - DatabaseIndexer - INFO - Data for table formula_1.qualifying pushed to the index.\n"
     ]
    },
    {
     "name": "stdout",
     "output_type": "stream",
     "text": [
      "Pushing data for table formula_1.seasons to the index.\n",
      "Pushing data for table formula_1.qualifying to the index.\n",
      "Pushing data for table formula_1.status to the index.\n"
     ]
    },
    {
     "name": "stderr",
     "output_type": "stream",
     "text": [
      "2025-01-23 19:20:12,535 - DatabaseIndexer - INFO - Data for table formula_1.status pushed to the index.\n",
      "2025-01-23 19:20:12,535 - DatabaseIndexer - INFO - Data for table formula_1.status pushed to the index.\n",
      "2025-01-23 19:20:12,535 - DatabaseIndexer - INFO - Data for table formula_1.status pushed to the index.\n",
      "2025-01-23 19:20:12,535 - DatabaseIndexer - INFO - Data for table formula_1.status pushed to the index.\n",
      "2025-01-23 19:20:12,535 - DatabaseIndexer - INFO - Data for table formula_1.status pushed to the index.\n",
      "2025-01-23 19:20:12,535 - DatabaseIndexer - INFO - Data for table formula_1.status pushed to the index.\n",
      "2025-01-23 19:20:12,535 - DatabaseIndexer - INFO - Data for table formula_1.status pushed to the index.\n",
      "2025-01-23 19:20:12,535 - DatabaseIndexer - INFO - Data for table formula_1.status pushed to the index.\n",
      "2025-01-23 19:20:12,631 - DatabaseIndexer - INFO - Data for table formula_1.results pushed to the index.\n",
      "2025-01-23 19:20:12,631 - DatabaseIndexer - INFO - Data for table formula_1.results pushed to the index.\n",
      "2025-01-23 19:20:12,631 - DatabaseIndexer - INFO - Data for table formula_1.results pushed to the index.\n",
      "2025-01-23 19:20:12,631 - DatabaseIndexer - INFO - Data for table formula_1.results pushed to the index.\n",
      "2025-01-23 19:20:12,631 - DatabaseIndexer - INFO - Data for table formula_1.results pushed to the index.\n",
      "2025-01-23 19:20:12,631 - DatabaseIndexer - INFO - Data for table formula_1.results pushed to the index.\n",
      "2025-01-23 19:20:12,631 - DatabaseIndexer - INFO - Data for table formula_1.results pushed to the index.\n",
      "2025-01-23 19:20:12,631 - DatabaseIndexer - INFO - Data for table formula_1.results pushed to the index.\n",
      "2025-01-23 19:20:12,659 - DatabaseIndexer - INFO - Fetching tables from the database.\n",
      "2025-01-23 19:20:12,659 - DatabaseIndexer - INFO - Fetching tables from the database.\n",
      "2025-01-23 19:20:12,659 - DatabaseIndexer - INFO - Fetching tables from the database.\n",
      "2025-01-23 19:20:12,659 - DatabaseIndexer - INFO - Fetching tables from the database.\n",
      "2025-01-23 19:20:12,659 - DatabaseIndexer - INFO - Fetching tables from the database.\n",
      "2025-01-23 19:20:12,659 - DatabaseIndexer - INFO - Fetching tables from the database.\n",
      "2025-01-23 19:20:12,659 - DatabaseIndexer - INFO - Fetching tables from the database.\n",
      "2025-01-23 19:20:12,659 - DatabaseIndexer - INFO - Fetching tables from the database.\n",
      "2025-01-23 19:20:12,659 - DatabaseIndexer - INFO - Fetching tables from the database.\n",
      "2025-01-23 19:20:12,711 - DatabaseIndexer - INFO - Filtered tables by regex: ['california_schools.frpm', 'california_schools.satscores', 'california_schools.schools']\n",
      "2025-01-23 19:20:12,711 - DatabaseIndexer - INFO - Filtered tables by regex: ['california_schools.frpm', 'california_schools.satscores', 'california_schools.schools']\n",
      "2025-01-23 19:20:12,711 - DatabaseIndexer - INFO - Filtered tables by regex: ['california_schools.frpm', 'california_schools.satscores', 'california_schools.schools']\n",
      "2025-01-23 19:20:12,711 - DatabaseIndexer - INFO - Filtered tables by regex: ['california_schools.frpm', 'california_schools.satscores', 'california_schools.schools']\n",
      "2025-01-23 19:20:12,711 - DatabaseIndexer - INFO - Filtered tables by regex: ['california_schools.frpm', 'california_schools.satscores', 'california_schools.schools']\n",
      "2025-01-23 19:20:12,711 - DatabaseIndexer - INFO - Filtered tables by regex: ['california_schools.frpm', 'california_schools.satscores', 'california_schools.schools']\n",
      "2025-01-23 19:20:12,711 - DatabaseIndexer - INFO - Filtered tables by regex: ['california_schools.frpm', 'california_schools.satscores', 'california_schools.schools']\n",
      "2025-01-23 19:20:12,711 - DatabaseIndexer - INFO - Filtered tables by regex: ['california_schools.frpm', 'california_schools.satscores', 'california_schools.schools']\n",
      "2025-01-23 19:20:12,711 - DatabaseIndexer - INFO - Filtered tables by regex: ['california_schools.frpm', 'california_schools.satscores', 'california_schools.schools']\n",
      "2025-01-23 19:20:12,722 - DatabaseIndexer - INFO - Processing table: california_schools.frpm\n",
      "2025-01-23 19:20:12,722 - DatabaseIndexer - INFO - Processing table: california_schools.frpm\n",
      "2025-01-23 19:20:12,722 - DatabaseIndexer - INFO - Processing table: california_schools.frpm\n",
      "2025-01-23 19:20:12,722 - DatabaseIndexer - INFO - Processing table: california_schools.frpm\n",
      "2025-01-23 19:20:12,722 - DatabaseIndexer - INFO - Processing table: california_schools.frpm\n",
      "2025-01-23 19:20:12,722 - DatabaseIndexer - INFO - Processing table: california_schools.frpm\n",
      "2025-01-23 19:20:12,722 - DatabaseIndexer - INFO - Processing table: california_schools.frpm\n",
      "2025-01-23 19:20:12,722 - DatabaseIndexer - INFO - Processing table: california_schools.frpm\n",
      "2025-01-23 19:20:12,722 - DatabaseIndexer - INFO - Processing table: california_schools.frpm\n"
     ]
    },
    {
     "name": "stdout",
     "output_type": "stream",
     "text": [
      "Pushing data for table formula_1.results to the index.\n",
      "Indexing schema: california_schools\n"
     ]
    },
    {
     "name": "stderr",
     "output_type": "stream",
     "text": [
      "2025-01-23 19:23:29,231 - DatabaseIndexer - INFO - Completed processing table: california_schools.frpm\n",
      "2025-01-23 19:23:29,231 - DatabaseIndexer - INFO - Completed processing table: california_schools.frpm\n",
      "2025-01-23 19:23:29,231 - DatabaseIndexer - INFO - Completed processing table: california_schools.frpm\n",
      "2025-01-23 19:23:29,231 - DatabaseIndexer - INFO - Completed processing table: california_schools.frpm\n",
      "2025-01-23 19:23:29,231 - DatabaseIndexer - INFO - Completed processing table: california_schools.frpm\n",
      "2025-01-23 19:23:29,231 - DatabaseIndexer - INFO - Completed processing table: california_schools.frpm\n",
      "2025-01-23 19:23:29,231 - DatabaseIndexer - INFO - Completed processing table: california_schools.frpm\n",
      "2025-01-23 19:23:29,231 - DatabaseIndexer - INFO - Completed processing table: california_schools.frpm\n",
      "2025-01-23 19:23:29,231 - DatabaseIndexer - INFO - Completed processing table: california_schools.frpm\n",
      "2025-01-23 19:23:29,244 - DatabaseIndexer - INFO - Processing table: california_schools.satscores\n",
      "2025-01-23 19:23:29,244 - DatabaseIndexer - INFO - Processing table: california_schools.satscores\n",
      "2025-01-23 19:23:29,244 - DatabaseIndexer - INFO - Processing table: california_schools.satscores\n",
      "2025-01-23 19:23:29,244 - DatabaseIndexer - INFO - Processing table: california_schools.satscores\n",
      "2025-01-23 19:23:29,244 - DatabaseIndexer - INFO - Processing table: california_schools.satscores\n",
      "2025-01-23 19:23:29,244 - DatabaseIndexer - INFO - Processing table: california_schools.satscores\n",
      "2025-01-23 19:23:29,244 - DatabaseIndexer - INFO - Processing table: california_schools.satscores\n",
      "2025-01-23 19:23:29,244 - DatabaseIndexer - INFO - Processing table: california_schools.satscores\n",
      "2025-01-23 19:23:29,244 - DatabaseIndexer - INFO - Processing table: california_schools.satscores\n",
      "2025-01-23 19:24:53,570 - DatabaseIndexer - INFO - Completed processing table: california_schools.satscores\n",
      "2025-01-23 19:24:53,570 - DatabaseIndexer - INFO - Completed processing table: california_schools.satscores\n",
      "2025-01-23 19:24:53,570 - DatabaseIndexer - INFO - Completed processing table: california_schools.satscores\n",
      "2025-01-23 19:24:53,570 - DatabaseIndexer - INFO - Completed processing table: california_schools.satscores\n",
      "2025-01-23 19:24:53,570 - DatabaseIndexer - INFO - Completed processing table: california_schools.satscores\n",
      "2025-01-23 19:24:53,570 - DatabaseIndexer - INFO - Completed processing table: california_schools.satscores\n",
      "2025-01-23 19:24:53,570 - DatabaseIndexer - INFO - Completed processing table: california_schools.satscores\n",
      "2025-01-23 19:24:53,570 - DatabaseIndexer - INFO - Completed processing table: california_schools.satscores\n",
      "2025-01-23 19:24:53,570 - DatabaseIndexer - INFO - Completed processing table: california_schools.satscores\n",
      "2025-01-23 19:24:53,584 - DatabaseIndexer - INFO - Processing table: california_schools.schools\n",
      "2025-01-23 19:24:53,584 - DatabaseIndexer - INFO - Processing table: california_schools.schools\n",
      "2025-01-23 19:24:53,584 - DatabaseIndexer - INFO - Processing table: california_schools.schools\n",
      "2025-01-23 19:24:53,584 - DatabaseIndexer - INFO - Processing table: california_schools.schools\n",
      "2025-01-23 19:24:53,584 - DatabaseIndexer - INFO - Processing table: california_schools.schools\n",
      "2025-01-23 19:24:53,584 - DatabaseIndexer - INFO - Processing table: california_schools.schools\n",
      "2025-01-23 19:24:53,584 - DatabaseIndexer - INFO - Processing table: california_schools.schools\n",
      "2025-01-23 19:24:53,584 - DatabaseIndexer - INFO - Processing table: california_schools.schools\n",
      "2025-01-23 19:24:53,584 - DatabaseIndexer - INFO - Processing table: california_schools.schools\n"
     ]
    },
    {
     "name": "stdout",
     "output_type": "stream",
     "text": [
      "Object of type date is not JSON serializable\n",
      "Object of type date is not JSON serializable\n",
      "Object of type date is not JSON serializable\n"
     ]
    },
    {
     "ename": "KeyboardInterrupt",
     "evalue": "",
     "output_type": "error",
     "traceback": [
      "\u001b[0;31m---------------------------------------------------------------------------\u001b[0m",
      "\u001b[0;31mHTTPStatusError\u001b[0m                           Traceback (most recent call last)",
      "File \u001b[0;32m~/miniconda3/envs/openai/lib/python3.11/site-packages/openai/_base_client.py:1019\u001b[0m, in \u001b[0;36mSyncAPIClient._request\u001b[0;34m(self, cast_to, options, remaining_retries, stream, stream_cls)\u001b[0m\n\u001b[1;32m   1018\u001b[0m \u001b[38;5;28;01mtry\u001b[39;00m:\n\u001b[0;32m-> 1019\u001b[0m     \u001b[43mresponse\u001b[49m\u001b[38;5;241;43m.\u001b[39;49m\u001b[43mraise_for_status\u001b[49m\u001b[43m(\u001b[49m\u001b[43m)\u001b[49m\n\u001b[1;32m   1020\u001b[0m \u001b[38;5;28;01mexcept\u001b[39;00m httpx\u001b[38;5;241m.\u001b[39mHTTPStatusError \u001b[38;5;28;01mas\u001b[39;00m err:  \u001b[38;5;66;03m# thrown on 4xx and 5xx status code\u001b[39;00m\n",
      "File \u001b[0;32m~/miniconda3/envs/openai/lib/python3.11/site-packages/httpx/_models.py:761\u001b[0m, in \u001b[0;36mResponse.raise_for_status\u001b[0;34m(self)\u001b[0m\n\u001b[1;32m    760\u001b[0m message \u001b[38;5;241m=\u001b[39m message\u001b[38;5;241m.\u001b[39mformat(\u001b[38;5;28mself\u001b[39m, error_type\u001b[38;5;241m=\u001b[39merror_type)\n\u001b[0;32m--> 761\u001b[0m \u001b[38;5;28;01mraise\u001b[39;00m HTTPStatusError(message, request\u001b[38;5;241m=\u001b[39mrequest, response\u001b[38;5;241m=\u001b[39m\u001b[38;5;28mself\u001b[39m)\n",
      "\u001b[0;31mHTTPStatusError\u001b[0m: Client error '429 Too Many Requests' for url 'https://vh-aoai.openai.azure.com/openai/deployments/gpt-4o-global/chat/completions?api-version=2024-10-21'\nFor more information check: https://developer.mozilla.org/en-US/docs/Web/HTTP/Status/429",
      "\nDuring handling of the above exception, another exception occurred:\n",
      "\u001b[0;31mKeyboardInterrupt\u001b[0m                         Traceback (most recent call last)",
      "Cell \u001b[0;32mIn[17], line 20\u001b[0m\n\u001b[1;32m     12\u001b[0m     schema_name \u001b[38;5;241m=\u001b[39m schema[\u001b[38;5;124m'\u001b[39m\u001b[38;5;124mschema\u001b[39m\u001b[38;5;124m'\u001b[39m]\n\u001b[1;32m     14\u001b[0m     indexer \u001b[38;5;241m=\u001b[39m DatabaseIndexer(sql_client, \n\u001b[1;32m     15\u001b[0m                             openai_client, \n\u001b[1;32m     16\u001b[0m                             aoai_deployment,\n\u001b[1;32m     17\u001b[0m                             aoai_embedding_deployment,\n\u001b[1;32m     18\u001b[0m                             extra_context\u001b[38;5;241m=\u001b[39mcontext)\n\u001b[0;32m---> 20\u001b[0m     manifest \u001b[38;5;241m=\u001b[39m \u001b[43mindexer\u001b[49m\u001b[38;5;241;43m.\u001b[39;49m\u001b[43mfetch_and_describe_tables\u001b[49m\u001b[43m(\u001b[49m\u001b[43mregex_filter\u001b[49m\u001b[38;5;241;43m=\u001b[39;49m\u001b[38;5;124;43mf\u001b[39;49m\u001b[38;5;124;43m\"\u001b[39;49m\u001b[38;5;132;43;01m{\u001b[39;49;00m\u001b[43mschema_name\u001b[49m\u001b[38;5;132;43;01m}\u001b[39;49;00m\u001b[38;5;124;43m.*\u001b[39;49m\u001b[38;5;124;43m\"\u001b[39;49m\u001b[43m)\u001b[49m\n\u001b[1;32m     21\u001b[0m     indexer\u001b[38;5;241m.\u001b[39mgenerate_table_embeddings()\n\u001b[1;32m     23\u001b[0m     indexer\u001b[38;5;241m.\u001b[39mcreate_azure_ai_search_index(\n\u001b[1;32m     24\u001b[0m     search_endpoint\u001b[38;5;241m=\u001b[39msearch_endpoint,\n\u001b[1;32m     25\u001b[0m     search_credential\u001b[38;5;241m=\u001b[39msearch_key,\n\u001b[0;32m   (...)\u001b[0m\n\u001b[1;32m     29\u001b[0m     openai_key\u001b[38;5;241m=\u001b[39maoai_key,\n\u001b[1;32m     30\u001b[0m )\n",
      "File \u001b[0;32m~/azure_openai/azure-nl2sql-accelerator/sqltoolkit/indexer.py:66\u001b[0m, in \u001b[0;36mDatabaseIndexer.fetch_and_describe_tables\u001b[0;34m(self, table_list, regex_filter)\u001b[0m\n\u001b[1;32m     64\u001b[0m table\u001b[38;5;241m.\u001b[39mget_columns(\u001b[38;5;28mself\u001b[39m\u001b[38;5;241m.\u001b[39mclient)\n\u001b[1;32m     65\u001b[0m table\u001b[38;5;241m.\u001b[39mextract_column_values(\u001b[38;5;28mself\u001b[39m\u001b[38;5;241m.\u001b[39mclient)\n\u001b[0;32m---> 66\u001b[0m \u001b[43mtable\u001b[49m\u001b[38;5;241;43m.\u001b[39;49m\u001b[43mextract_llm_column_definitions\u001b[49m\u001b[43m(\u001b[49m\u001b[38;5;28;43mself\u001b[39;49m\u001b[38;5;241;43m.\u001b[39;49m\u001b[43mopenai_client\u001b[49m\u001b[43m,\u001b[49m\u001b[43m \u001b[49m\u001b[38;5;28;43mself\u001b[39;49m\u001b[38;5;241;43m.\u001b[39;49m\u001b[43maoai_deployment\u001b[49m\u001b[43m,\u001b[49m\u001b[43m \u001b[49m\u001b[38;5;28;43mself\u001b[39;49m\u001b[38;5;241;43m.\u001b[39;49m\u001b[43mextra_context\u001b[49m\u001b[43m)\u001b[49m\n\u001b[1;32m     67\u001b[0m table\u001b[38;5;241m.\u001b[39mget_table_description(\u001b[38;5;28mself\u001b[39m\u001b[38;5;241m.\u001b[39mopenai_client, \u001b[38;5;28mself\u001b[39m\u001b[38;5;241m.\u001b[39maoai_deployment, \u001b[38;5;28mself\u001b[39m\u001b[38;5;241m.\u001b[39mextra_context)\n\u001b[1;32m     68\u001b[0m table\u001b[38;5;241m.\u001b[39mget_table_readable_name(\u001b[38;5;28mself\u001b[39m\u001b[38;5;241m.\u001b[39mopenai_client, \u001b[38;5;28mself\u001b[39m\u001b[38;5;241m.\u001b[39maoai_deployment, \u001b[38;5;28mself\u001b[39m\u001b[38;5;241m.\u001b[39mextra_context)\n",
      "File \u001b[0;32m~/azure_openai/azure-nl2sql-accelerator/sqltoolkit/entities.py:104\u001b[0m, in \u001b[0;36mTable.extract_llm_column_definitions\u001b[0;34m(self, aoai_client, aoai_deployment, extra_context)\u001b[0m\n\u001b[1;32m    102\u001b[0m table_json \u001b[38;5;241m=\u001b[39m \u001b[38;5;28mself\u001b[39m\u001b[38;5;241m.\u001b[39mjson(exclude\u001b[38;5;241m=\u001b[39m[\u001b[38;5;124m'\u001b[39m\u001b[38;5;124mdb_client\u001b[39m\u001b[38;5;124m'\u001b[39m])\n\u001b[1;32m    103\u001b[0m \u001b[38;5;28;01mfor\u001b[39;00m column \u001b[38;5;129;01min\u001b[39;00m \u001b[38;5;28mself\u001b[39m\u001b[38;5;241m.\u001b[39mcolumns:\n\u001b[0;32m--> 104\u001b[0m     \u001b[43mcolumn\u001b[49m\u001b[38;5;241;43m.\u001b[39;49m\u001b[43mget_llm_definition\u001b[49m\u001b[43m(\u001b[49m\u001b[43mtable_json\u001b[49m\u001b[43m,\u001b[49m\u001b[43m \u001b[49m\u001b[43maoai_client\u001b[49m\u001b[43m,\u001b[49m\u001b[43m \u001b[49m\u001b[43maoai_deployment\u001b[49m\u001b[43m,\u001b[49m\u001b[43m \u001b[49m\u001b[43mextra_context\u001b[49m\u001b[43m)\u001b[49m\n",
      "File \u001b[0;32m~/azure_openai/azure-nl2sql-accelerator/sqltoolkit/entities.py:28\u001b[0m, in \u001b[0;36mTableColumn.get_llm_definition\u001b[0;34m(self, table_json, aoai_client, aoai_deployment, extra_context)\u001b[0m\n\u001b[1;32m     23\u001b[0m prompt \u001b[38;5;241m=\u001b[39m COLUMN_DEFINITION_PROMPT\u001b[38;5;241m.\u001b[39mformat(column_name\u001b[38;5;241m=\u001b[39m\u001b[38;5;28mself\u001b[39m\u001b[38;5;241m.\u001b[39mname, table_json\u001b[38;5;241m=\u001b[39mtable_json, extra_context\u001b[38;5;241m=\u001b[39mextra_context)\n\u001b[1;32m     25\u001b[0m messages \u001b[38;5;241m=\u001b[39m [{\u001b[38;5;124m\"\u001b[39m\u001b[38;5;124mrole\u001b[39m\u001b[38;5;124m\"\u001b[39m:\u001b[38;5;124m\"\u001b[39m\u001b[38;5;124msystem\u001b[39m\u001b[38;5;124m\"\u001b[39m, \u001b[38;5;124m\"\u001b[39m\u001b[38;5;124mcontent\u001b[39m\u001b[38;5;124m\"\u001b[39m: \u001b[38;5;124m\"\u001b[39m\u001b[38;5;124mYou are a data analyst that can help summarize SQL tables.\u001b[39m\u001b[38;5;124m\"\u001b[39m}, \n\u001b[1;32m     26\u001b[0m {\u001b[38;5;124m\"\u001b[39m\u001b[38;5;124mrole\u001b[39m\u001b[38;5;124m\"\u001b[39m: \u001b[38;5;124m\"\u001b[39m\u001b[38;5;124muser\u001b[39m\u001b[38;5;124m\"\u001b[39m, \u001b[38;5;124m\"\u001b[39m\u001b[38;5;124mcontent\u001b[39m\u001b[38;5;124m\"\u001b[39m: prompt}]\n\u001b[0;32m---> 28\u001b[0m response \u001b[38;5;241m=\u001b[39m \u001b[43maoai_client\u001b[49m\u001b[38;5;241;43m.\u001b[39;49m\u001b[43mchat\u001b[49m\u001b[38;5;241;43m.\u001b[39;49m\u001b[43mcompletions\u001b[49m\u001b[38;5;241;43m.\u001b[39;49m\u001b[43mcreate\u001b[49m\u001b[43m(\u001b[49m\n\u001b[1;32m     29\u001b[0m \u001b[43m        \u001b[49m\u001b[43mmodel\u001b[49m\u001b[38;5;241;43m=\u001b[39;49m\u001b[43maoai_deployment\u001b[49m\u001b[43m,\u001b[49m\n\u001b[1;32m     30\u001b[0m \u001b[43m        \u001b[49m\u001b[43mmessages\u001b[49m\u001b[38;5;241;43m=\u001b[39;49m\u001b[43mmessages\u001b[49m\u001b[43m)\u001b[49m\n\u001b[1;32m     32\u001b[0m response_message \u001b[38;5;241m=\u001b[39m response\u001b[38;5;241m.\u001b[39mchoices[\u001b[38;5;241m0\u001b[39m]\u001b[38;5;241m.\u001b[39mmessage\u001b[38;5;241m.\u001b[39mcontent\n\u001b[1;32m     33\u001b[0m \u001b[38;5;28mself\u001b[39m\u001b[38;5;241m.\u001b[39mdefinition \u001b[38;5;241m=\u001b[39m response_message\n",
      "File \u001b[0;32m~/miniconda3/envs/openai/lib/python3.11/site-packages/openai/_utils/_utils.py:274\u001b[0m, in \u001b[0;36mrequired_args.<locals>.inner.<locals>.wrapper\u001b[0;34m(*args, **kwargs)\u001b[0m\n\u001b[1;32m    272\u001b[0m             msg \u001b[38;5;241m=\u001b[39m \u001b[38;5;124mf\u001b[39m\u001b[38;5;124m\"\u001b[39m\u001b[38;5;124mMissing required argument: \u001b[39m\u001b[38;5;132;01m{\u001b[39;00mquote(missing[\u001b[38;5;241m0\u001b[39m])\u001b[38;5;132;01m}\u001b[39;00m\u001b[38;5;124m\"\u001b[39m\n\u001b[1;32m    273\u001b[0m     \u001b[38;5;28;01mraise\u001b[39;00m \u001b[38;5;167;01mTypeError\u001b[39;00m(msg)\n\u001b[0;32m--> 274\u001b[0m \u001b[38;5;28;01mreturn\u001b[39;00m \u001b[43mfunc\u001b[49m\u001b[43m(\u001b[49m\u001b[38;5;241;43m*\u001b[39;49m\u001b[43margs\u001b[49m\u001b[43m,\u001b[49m\u001b[43m \u001b[49m\u001b[38;5;241;43m*\u001b[39;49m\u001b[38;5;241;43m*\u001b[39;49m\u001b[43mkwargs\u001b[49m\u001b[43m)\u001b[49m\n",
      "File \u001b[0;32m~/miniconda3/envs/openai/lib/python3.11/site-packages/openai/resources/chat/completions.py:668\u001b[0m, in \u001b[0;36mCompletions.create\u001b[0;34m(self, messages, model, frequency_penalty, function_call, functions, logit_bias, logprobs, max_tokens, n, parallel_tool_calls, presence_penalty, response_format, seed, service_tier, stop, stream, stream_options, temperature, tool_choice, tools, top_logprobs, top_p, user, extra_headers, extra_query, extra_body, timeout)\u001b[0m\n\u001b[1;32m    633\u001b[0m \u001b[38;5;129m@required_args\u001b[39m([\u001b[38;5;124m\"\u001b[39m\u001b[38;5;124mmessages\u001b[39m\u001b[38;5;124m\"\u001b[39m, \u001b[38;5;124m\"\u001b[39m\u001b[38;5;124mmodel\u001b[39m\u001b[38;5;124m\"\u001b[39m], [\u001b[38;5;124m\"\u001b[39m\u001b[38;5;124mmessages\u001b[39m\u001b[38;5;124m\"\u001b[39m, \u001b[38;5;124m\"\u001b[39m\u001b[38;5;124mmodel\u001b[39m\u001b[38;5;124m\"\u001b[39m, \u001b[38;5;124m\"\u001b[39m\u001b[38;5;124mstream\u001b[39m\u001b[38;5;124m\"\u001b[39m])\n\u001b[1;32m    634\u001b[0m \u001b[38;5;28;01mdef\u001b[39;00m \u001b[38;5;21mcreate\u001b[39m(\n\u001b[1;32m    635\u001b[0m     \u001b[38;5;28mself\u001b[39m,\n\u001b[0;32m   (...)\u001b[0m\n\u001b[1;32m    665\u001b[0m     timeout: \u001b[38;5;28mfloat\u001b[39m \u001b[38;5;241m|\u001b[39m httpx\u001b[38;5;241m.\u001b[39mTimeout \u001b[38;5;241m|\u001b[39m \u001b[38;5;28;01mNone\u001b[39;00m \u001b[38;5;241m|\u001b[39m NotGiven \u001b[38;5;241m=\u001b[39m NOT_GIVEN,\n\u001b[1;32m    666\u001b[0m ) \u001b[38;5;241m-\u001b[39m\u001b[38;5;241m>\u001b[39m ChatCompletion \u001b[38;5;241m|\u001b[39m Stream[ChatCompletionChunk]:\n\u001b[1;32m    667\u001b[0m     validate_response_format(response_format)\n\u001b[0;32m--> 668\u001b[0m     \u001b[38;5;28;01mreturn\u001b[39;00m \u001b[38;5;28;43mself\u001b[39;49m\u001b[38;5;241;43m.\u001b[39;49m\u001b[43m_post\u001b[49m\u001b[43m(\u001b[49m\n\u001b[1;32m    669\u001b[0m \u001b[43m        \u001b[49m\u001b[38;5;124;43m\"\u001b[39;49m\u001b[38;5;124;43m/chat/completions\u001b[39;49m\u001b[38;5;124;43m\"\u001b[39;49m\u001b[43m,\u001b[49m\n\u001b[1;32m    670\u001b[0m \u001b[43m        \u001b[49m\u001b[43mbody\u001b[49m\u001b[38;5;241;43m=\u001b[39;49m\u001b[43mmaybe_transform\u001b[49m\u001b[43m(\u001b[49m\n\u001b[1;32m    671\u001b[0m \u001b[43m            \u001b[49m\u001b[43m{\u001b[49m\n\u001b[1;32m    672\u001b[0m \u001b[43m                \u001b[49m\u001b[38;5;124;43m\"\u001b[39;49m\u001b[38;5;124;43mmessages\u001b[39;49m\u001b[38;5;124;43m\"\u001b[39;49m\u001b[43m:\u001b[49m\u001b[43m \u001b[49m\u001b[43mmessages\u001b[49m\u001b[43m,\u001b[49m\n\u001b[1;32m    673\u001b[0m \u001b[43m                \u001b[49m\u001b[38;5;124;43m\"\u001b[39;49m\u001b[38;5;124;43mmodel\u001b[39;49m\u001b[38;5;124;43m\"\u001b[39;49m\u001b[43m:\u001b[49m\u001b[43m \u001b[49m\u001b[43mmodel\u001b[49m\u001b[43m,\u001b[49m\n\u001b[1;32m    674\u001b[0m \u001b[43m                \u001b[49m\u001b[38;5;124;43m\"\u001b[39;49m\u001b[38;5;124;43mfrequency_penalty\u001b[39;49m\u001b[38;5;124;43m\"\u001b[39;49m\u001b[43m:\u001b[49m\u001b[43m \u001b[49m\u001b[43mfrequency_penalty\u001b[49m\u001b[43m,\u001b[49m\n\u001b[1;32m    675\u001b[0m \u001b[43m                \u001b[49m\u001b[38;5;124;43m\"\u001b[39;49m\u001b[38;5;124;43mfunction_call\u001b[39;49m\u001b[38;5;124;43m\"\u001b[39;49m\u001b[43m:\u001b[49m\u001b[43m \u001b[49m\u001b[43mfunction_call\u001b[49m\u001b[43m,\u001b[49m\n\u001b[1;32m    676\u001b[0m \u001b[43m                \u001b[49m\u001b[38;5;124;43m\"\u001b[39;49m\u001b[38;5;124;43mfunctions\u001b[39;49m\u001b[38;5;124;43m\"\u001b[39;49m\u001b[43m:\u001b[49m\u001b[43m \u001b[49m\u001b[43mfunctions\u001b[49m\u001b[43m,\u001b[49m\n\u001b[1;32m    677\u001b[0m \u001b[43m                \u001b[49m\u001b[38;5;124;43m\"\u001b[39;49m\u001b[38;5;124;43mlogit_bias\u001b[39;49m\u001b[38;5;124;43m\"\u001b[39;49m\u001b[43m:\u001b[49m\u001b[43m \u001b[49m\u001b[43mlogit_bias\u001b[49m\u001b[43m,\u001b[49m\n\u001b[1;32m    678\u001b[0m \u001b[43m                \u001b[49m\u001b[38;5;124;43m\"\u001b[39;49m\u001b[38;5;124;43mlogprobs\u001b[39;49m\u001b[38;5;124;43m\"\u001b[39;49m\u001b[43m:\u001b[49m\u001b[43m \u001b[49m\u001b[43mlogprobs\u001b[49m\u001b[43m,\u001b[49m\n\u001b[1;32m    679\u001b[0m \u001b[43m                \u001b[49m\u001b[38;5;124;43m\"\u001b[39;49m\u001b[38;5;124;43mmax_tokens\u001b[39;49m\u001b[38;5;124;43m\"\u001b[39;49m\u001b[43m:\u001b[49m\u001b[43m \u001b[49m\u001b[43mmax_tokens\u001b[49m\u001b[43m,\u001b[49m\n\u001b[1;32m    680\u001b[0m \u001b[43m                \u001b[49m\u001b[38;5;124;43m\"\u001b[39;49m\u001b[38;5;124;43mn\u001b[39;49m\u001b[38;5;124;43m\"\u001b[39;49m\u001b[43m:\u001b[49m\u001b[43m \u001b[49m\u001b[43mn\u001b[49m\u001b[43m,\u001b[49m\n\u001b[1;32m    681\u001b[0m \u001b[43m                \u001b[49m\u001b[38;5;124;43m\"\u001b[39;49m\u001b[38;5;124;43mparallel_tool_calls\u001b[39;49m\u001b[38;5;124;43m\"\u001b[39;49m\u001b[43m:\u001b[49m\u001b[43m \u001b[49m\u001b[43mparallel_tool_calls\u001b[49m\u001b[43m,\u001b[49m\n\u001b[1;32m    682\u001b[0m \u001b[43m                \u001b[49m\u001b[38;5;124;43m\"\u001b[39;49m\u001b[38;5;124;43mpresence_penalty\u001b[39;49m\u001b[38;5;124;43m\"\u001b[39;49m\u001b[43m:\u001b[49m\u001b[43m \u001b[49m\u001b[43mpresence_penalty\u001b[49m\u001b[43m,\u001b[49m\n\u001b[1;32m    683\u001b[0m \u001b[43m                \u001b[49m\u001b[38;5;124;43m\"\u001b[39;49m\u001b[38;5;124;43mresponse_format\u001b[39;49m\u001b[38;5;124;43m\"\u001b[39;49m\u001b[43m:\u001b[49m\u001b[43m \u001b[49m\u001b[43mresponse_format\u001b[49m\u001b[43m,\u001b[49m\n\u001b[1;32m    684\u001b[0m \u001b[43m                \u001b[49m\u001b[38;5;124;43m\"\u001b[39;49m\u001b[38;5;124;43mseed\u001b[39;49m\u001b[38;5;124;43m\"\u001b[39;49m\u001b[43m:\u001b[49m\u001b[43m \u001b[49m\u001b[43mseed\u001b[49m\u001b[43m,\u001b[49m\n\u001b[1;32m    685\u001b[0m \u001b[43m                \u001b[49m\u001b[38;5;124;43m\"\u001b[39;49m\u001b[38;5;124;43mservice_tier\u001b[39;49m\u001b[38;5;124;43m\"\u001b[39;49m\u001b[43m:\u001b[49m\u001b[43m \u001b[49m\u001b[43mservice_tier\u001b[49m\u001b[43m,\u001b[49m\n\u001b[1;32m    686\u001b[0m \u001b[43m                \u001b[49m\u001b[38;5;124;43m\"\u001b[39;49m\u001b[38;5;124;43mstop\u001b[39;49m\u001b[38;5;124;43m\"\u001b[39;49m\u001b[43m:\u001b[49m\u001b[43m \u001b[49m\u001b[43mstop\u001b[49m\u001b[43m,\u001b[49m\n\u001b[1;32m    687\u001b[0m \u001b[43m                \u001b[49m\u001b[38;5;124;43m\"\u001b[39;49m\u001b[38;5;124;43mstream\u001b[39;49m\u001b[38;5;124;43m\"\u001b[39;49m\u001b[43m:\u001b[49m\u001b[43m \u001b[49m\u001b[43mstream\u001b[49m\u001b[43m,\u001b[49m\n\u001b[1;32m    688\u001b[0m \u001b[43m                \u001b[49m\u001b[38;5;124;43m\"\u001b[39;49m\u001b[38;5;124;43mstream_options\u001b[39;49m\u001b[38;5;124;43m\"\u001b[39;49m\u001b[43m:\u001b[49m\u001b[43m \u001b[49m\u001b[43mstream_options\u001b[49m\u001b[43m,\u001b[49m\n\u001b[1;32m    689\u001b[0m \u001b[43m                \u001b[49m\u001b[38;5;124;43m\"\u001b[39;49m\u001b[38;5;124;43mtemperature\u001b[39;49m\u001b[38;5;124;43m\"\u001b[39;49m\u001b[43m:\u001b[49m\u001b[43m \u001b[49m\u001b[43mtemperature\u001b[49m\u001b[43m,\u001b[49m\n\u001b[1;32m    690\u001b[0m \u001b[43m                \u001b[49m\u001b[38;5;124;43m\"\u001b[39;49m\u001b[38;5;124;43mtool_choice\u001b[39;49m\u001b[38;5;124;43m\"\u001b[39;49m\u001b[43m:\u001b[49m\u001b[43m \u001b[49m\u001b[43mtool_choice\u001b[49m\u001b[43m,\u001b[49m\n\u001b[1;32m    691\u001b[0m \u001b[43m                \u001b[49m\u001b[38;5;124;43m\"\u001b[39;49m\u001b[38;5;124;43mtools\u001b[39;49m\u001b[38;5;124;43m\"\u001b[39;49m\u001b[43m:\u001b[49m\u001b[43m \u001b[49m\u001b[43mtools\u001b[49m\u001b[43m,\u001b[49m\n\u001b[1;32m    692\u001b[0m \u001b[43m                \u001b[49m\u001b[38;5;124;43m\"\u001b[39;49m\u001b[38;5;124;43mtop_logprobs\u001b[39;49m\u001b[38;5;124;43m\"\u001b[39;49m\u001b[43m:\u001b[49m\u001b[43m \u001b[49m\u001b[43mtop_logprobs\u001b[49m\u001b[43m,\u001b[49m\n\u001b[1;32m    693\u001b[0m \u001b[43m                \u001b[49m\u001b[38;5;124;43m\"\u001b[39;49m\u001b[38;5;124;43mtop_p\u001b[39;49m\u001b[38;5;124;43m\"\u001b[39;49m\u001b[43m:\u001b[49m\u001b[43m \u001b[49m\u001b[43mtop_p\u001b[49m\u001b[43m,\u001b[49m\n\u001b[1;32m    694\u001b[0m \u001b[43m                \u001b[49m\u001b[38;5;124;43m\"\u001b[39;49m\u001b[38;5;124;43muser\u001b[39;49m\u001b[38;5;124;43m\"\u001b[39;49m\u001b[43m:\u001b[49m\u001b[43m \u001b[49m\u001b[43muser\u001b[49m\u001b[43m,\u001b[49m\n\u001b[1;32m    695\u001b[0m \u001b[43m            \u001b[49m\u001b[43m}\u001b[49m\u001b[43m,\u001b[49m\n\u001b[1;32m    696\u001b[0m \u001b[43m            \u001b[49m\u001b[43mcompletion_create_params\u001b[49m\u001b[38;5;241;43m.\u001b[39;49m\u001b[43mCompletionCreateParams\u001b[49m\u001b[43m,\u001b[49m\n\u001b[1;32m    697\u001b[0m \u001b[43m        \u001b[49m\u001b[43m)\u001b[49m\u001b[43m,\u001b[49m\n\u001b[1;32m    698\u001b[0m \u001b[43m        \u001b[49m\u001b[43moptions\u001b[49m\u001b[38;5;241;43m=\u001b[39;49m\u001b[43mmake_request_options\u001b[49m\u001b[43m(\u001b[49m\n\u001b[1;32m    699\u001b[0m \u001b[43m            \u001b[49m\u001b[43mextra_headers\u001b[49m\u001b[38;5;241;43m=\u001b[39;49m\u001b[43mextra_headers\u001b[49m\u001b[43m,\u001b[49m\u001b[43m \u001b[49m\u001b[43mextra_query\u001b[49m\u001b[38;5;241;43m=\u001b[39;49m\u001b[43mextra_query\u001b[49m\u001b[43m,\u001b[49m\u001b[43m \u001b[49m\u001b[43mextra_body\u001b[49m\u001b[38;5;241;43m=\u001b[39;49m\u001b[43mextra_body\u001b[49m\u001b[43m,\u001b[49m\u001b[43m \u001b[49m\u001b[43mtimeout\u001b[49m\u001b[38;5;241;43m=\u001b[39;49m\u001b[43mtimeout\u001b[49m\n\u001b[1;32m    700\u001b[0m \u001b[43m        \u001b[49m\u001b[43m)\u001b[49m\u001b[43m,\u001b[49m\n\u001b[1;32m    701\u001b[0m \u001b[43m        \u001b[49m\u001b[43mcast_to\u001b[49m\u001b[38;5;241;43m=\u001b[39;49m\u001b[43mChatCompletion\u001b[49m\u001b[43m,\u001b[49m\n\u001b[1;32m    702\u001b[0m \u001b[43m        \u001b[49m\u001b[43mstream\u001b[49m\u001b[38;5;241;43m=\u001b[39;49m\u001b[43mstream\u001b[49m\u001b[43m \u001b[49m\u001b[38;5;129;43;01mor\u001b[39;49;00m\u001b[43m \u001b[49m\u001b[38;5;28;43;01mFalse\u001b[39;49;00m\u001b[43m,\u001b[49m\n\u001b[1;32m    703\u001b[0m \u001b[43m        \u001b[49m\u001b[43mstream_cls\u001b[49m\u001b[38;5;241;43m=\u001b[39;49m\u001b[43mStream\u001b[49m\u001b[43m[\u001b[49m\u001b[43mChatCompletionChunk\u001b[49m\u001b[43m]\u001b[49m\u001b[43m,\u001b[49m\n\u001b[1;32m    704\u001b[0m \u001b[43m    \u001b[49m\u001b[43m)\u001b[49m\n",
      "File \u001b[0;32m~/miniconda3/envs/openai/lib/python3.11/site-packages/openai/_base_client.py:1259\u001b[0m, in \u001b[0;36mSyncAPIClient.post\u001b[0;34m(self, path, cast_to, body, options, files, stream, stream_cls)\u001b[0m\n\u001b[1;32m   1245\u001b[0m \u001b[38;5;28;01mdef\u001b[39;00m \u001b[38;5;21mpost\u001b[39m(\n\u001b[1;32m   1246\u001b[0m     \u001b[38;5;28mself\u001b[39m,\n\u001b[1;32m   1247\u001b[0m     path: \u001b[38;5;28mstr\u001b[39m,\n\u001b[0;32m   (...)\u001b[0m\n\u001b[1;32m   1254\u001b[0m     stream_cls: \u001b[38;5;28mtype\u001b[39m[_StreamT] \u001b[38;5;241m|\u001b[39m \u001b[38;5;28;01mNone\u001b[39;00m \u001b[38;5;241m=\u001b[39m \u001b[38;5;28;01mNone\u001b[39;00m,\n\u001b[1;32m   1255\u001b[0m ) \u001b[38;5;241m-\u001b[39m\u001b[38;5;241m>\u001b[39m ResponseT \u001b[38;5;241m|\u001b[39m _StreamT:\n\u001b[1;32m   1256\u001b[0m     opts \u001b[38;5;241m=\u001b[39m FinalRequestOptions\u001b[38;5;241m.\u001b[39mconstruct(\n\u001b[1;32m   1257\u001b[0m         method\u001b[38;5;241m=\u001b[39m\u001b[38;5;124m\"\u001b[39m\u001b[38;5;124mpost\u001b[39m\u001b[38;5;124m\"\u001b[39m, url\u001b[38;5;241m=\u001b[39mpath, json_data\u001b[38;5;241m=\u001b[39mbody, files\u001b[38;5;241m=\u001b[39mto_httpx_files(files), \u001b[38;5;241m*\u001b[39m\u001b[38;5;241m*\u001b[39moptions\n\u001b[1;32m   1258\u001b[0m     )\n\u001b[0;32m-> 1259\u001b[0m     \u001b[38;5;28;01mreturn\u001b[39;00m cast(ResponseT, \u001b[38;5;28;43mself\u001b[39;49m\u001b[38;5;241;43m.\u001b[39;49m\u001b[43mrequest\u001b[49m\u001b[43m(\u001b[49m\u001b[43mcast_to\u001b[49m\u001b[43m,\u001b[49m\u001b[43m \u001b[49m\u001b[43mopts\u001b[49m\u001b[43m,\u001b[49m\u001b[43m \u001b[49m\u001b[43mstream\u001b[49m\u001b[38;5;241;43m=\u001b[39;49m\u001b[43mstream\u001b[49m\u001b[43m,\u001b[49m\u001b[43m \u001b[49m\u001b[43mstream_cls\u001b[49m\u001b[38;5;241;43m=\u001b[39;49m\u001b[43mstream_cls\u001b[49m\u001b[43m)\u001b[49m)\n",
      "File \u001b[0;32m~/miniconda3/envs/openai/lib/python3.11/site-packages/openai/_base_client.py:936\u001b[0m, in \u001b[0;36mSyncAPIClient.request\u001b[0;34m(self, cast_to, options, remaining_retries, stream, stream_cls)\u001b[0m\n\u001b[1;32m    927\u001b[0m \u001b[38;5;28;01mdef\u001b[39;00m \u001b[38;5;21mrequest\u001b[39m(\n\u001b[1;32m    928\u001b[0m     \u001b[38;5;28mself\u001b[39m,\n\u001b[1;32m    929\u001b[0m     cast_to: Type[ResponseT],\n\u001b[0;32m   (...)\u001b[0m\n\u001b[1;32m    934\u001b[0m     stream_cls: \u001b[38;5;28mtype\u001b[39m[_StreamT] \u001b[38;5;241m|\u001b[39m \u001b[38;5;28;01mNone\u001b[39;00m \u001b[38;5;241m=\u001b[39m \u001b[38;5;28;01mNone\u001b[39;00m,\n\u001b[1;32m    935\u001b[0m ) \u001b[38;5;241m-\u001b[39m\u001b[38;5;241m>\u001b[39m ResponseT \u001b[38;5;241m|\u001b[39m _StreamT:\n\u001b[0;32m--> 936\u001b[0m     \u001b[38;5;28;01mreturn\u001b[39;00m \u001b[38;5;28;43mself\u001b[39;49m\u001b[38;5;241;43m.\u001b[39;49m\u001b[43m_request\u001b[49m\u001b[43m(\u001b[49m\n\u001b[1;32m    937\u001b[0m \u001b[43m        \u001b[49m\u001b[43mcast_to\u001b[49m\u001b[38;5;241;43m=\u001b[39;49m\u001b[43mcast_to\u001b[49m\u001b[43m,\u001b[49m\n\u001b[1;32m    938\u001b[0m \u001b[43m        \u001b[49m\u001b[43moptions\u001b[49m\u001b[38;5;241;43m=\u001b[39;49m\u001b[43moptions\u001b[49m\u001b[43m,\u001b[49m\n\u001b[1;32m    939\u001b[0m \u001b[43m        \u001b[49m\u001b[43mstream\u001b[49m\u001b[38;5;241;43m=\u001b[39;49m\u001b[43mstream\u001b[49m\u001b[43m,\u001b[49m\n\u001b[1;32m    940\u001b[0m \u001b[43m        \u001b[49m\u001b[43mstream_cls\u001b[49m\u001b[38;5;241;43m=\u001b[39;49m\u001b[43mstream_cls\u001b[49m\u001b[43m,\u001b[49m\n\u001b[1;32m    941\u001b[0m \u001b[43m        \u001b[49m\u001b[43mremaining_retries\u001b[49m\u001b[38;5;241;43m=\u001b[39;49m\u001b[43mremaining_retries\u001b[49m\u001b[43m,\u001b[49m\n\u001b[1;32m    942\u001b[0m \u001b[43m    \u001b[49m\u001b[43m)\u001b[49m\n",
      "File \u001b[0;32m~/miniconda3/envs/openai/lib/python3.11/site-packages/openai/_base_client.py:1025\u001b[0m, in \u001b[0;36mSyncAPIClient._request\u001b[0;34m(self, cast_to, options, remaining_retries, stream, stream_cls)\u001b[0m\n\u001b[1;32m   1023\u001b[0m \u001b[38;5;28;01mif\u001b[39;00m retries \u001b[38;5;241m>\u001b[39m \u001b[38;5;241m0\u001b[39m \u001b[38;5;129;01mand\u001b[39;00m \u001b[38;5;28mself\u001b[39m\u001b[38;5;241m.\u001b[39m_should_retry(err\u001b[38;5;241m.\u001b[39mresponse):\n\u001b[1;32m   1024\u001b[0m     err\u001b[38;5;241m.\u001b[39mresponse\u001b[38;5;241m.\u001b[39mclose()\n\u001b[0;32m-> 1025\u001b[0m     \u001b[38;5;28;01mreturn\u001b[39;00m \u001b[38;5;28;43mself\u001b[39;49m\u001b[38;5;241;43m.\u001b[39;49m\u001b[43m_retry_request\u001b[49m\u001b[43m(\u001b[49m\n\u001b[1;32m   1026\u001b[0m \u001b[43m        \u001b[49m\u001b[43minput_options\u001b[49m\u001b[43m,\u001b[49m\n\u001b[1;32m   1027\u001b[0m \u001b[43m        \u001b[49m\u001b[43mcast_to\u001b[49m\u001b[43m,\u001b[49m\n\u001b[1;32m   1028\u001b[0m \u001b[43m        \u001b[49m\u001b[43mretries\u001b[49m\u001b[43m,\u001b[49m\n\u001b[1;32m   1029\u001b[0m \u001b[43m        \u001b[49m\u001b[43merr\u001b[49m\u001b[38;5;241;43m.\u001b[39;49m\u001b[43mresponse\u001b[49m\u001b[38;5;241;43m.\u001b[39;49m\u001b[43mheaders\u001b[49m\u001b[43m,\u001b[49m\n\u001b[1;32m   1030\u001b[0m \u001b[43m        \u001b[49m\u001b[43mstream\u001b[49m\u001b[38;5;241;43m=\u001b[39;49m\u001b[43mstream\u001b[49m\u001b[43m,\u001b[49m\n\u001b[1;32m   1031\u001b[0m \u001b[43m        \u001b[49m\u001b[43mstream_cls\u001b[49m\u001b[38;5;241;43m=\u001b[39;49m\u001b[43mstream_cls\u001b[49m\u001b[43m,\u001b[49m\n\u001b[1;32m   1032\u001b[0m \u001b[43m    \u001b[49m\u001b[43m)\u001b[49m\n\u001b[1;32m   1034\u001b[0m \u001b[38;5;66;03m# If the response is streamed then we need to explicitly read the response\u001b[39;00m\n\u001b[1;32m   1035\u001b[0m \u001b[38;5;66;03m# to completion before attempting to access the response text.\u001b[39;00m\n\u001b[1;32m   1036\u001b[0m \u001b[38;5;28;01mif\u001b[39;00m \u001b[38;5;129;01mnot\u001b[39;00m err\u001b[38;5;241m.\u001b[39mresponse\u001b[38;5;241m.\u001b[39mis_closed:\n",
      "File \u001b[0;32m~/miniconda3/envs/openai/lib/python3.11/site-packages/openai/_base_client.py:1072\u001b[0m, in \u001b[0;36mSyncAPIClient._retry_request\u001b[0;34m(self, options, cast_to, remaining_retries, response_headers, stream, stream_cls)\u001b[0m\n\u001b[1;32m   1068\u001b[0m log\u001b[38;5;241m.\u001b[39minfo(\u001b[38;5;124m\"\u001b[39m\u001b[38;5;124mRetrying request to \u001b[39m\u001b[38;5;132;01m%s\u001b[39;00m\u001b[38;5;124m in \u001b[39m\u001b[38;5;132;01m%f\u001b[39;00m\u001b[38;5;124m seconds\u001b[39m\u001b[38;5;124m\"\u001b[39m, options\u001b[38;5;241m.\u001b[39murl, timeout)\n\u001b[1;32m   1070\u001b[0m \u001b[38;5;66;03m# In a synchronous context we are blocking the entire thread. Up to the library user to run the client in a\u001b[39;00m\n\u001b[1;32m   1071\u001b[0m \u001b[38;5;66;03m# different thread if necessary.\u001b[39;00m\n\u001b[0;32m-> 1072\u001b[0m time\u001b[38;5;241m.\u001b[39msleep(timeout)\n\u001b[1;32m   1074\u001b[0m \u001b[38;5;28;01mreturn\u001b[39;00m \u001b[38;5;28mself\u001b[39m\u001b[38;5;241m.\u001b[39m_request(\n\u001b[1;32m   1075\u001b[0m     options\u001b[38;5;241m=\u001b[39moptions,\n\u001b[1;32m   1076\u001b[0m     cast_to\u001b[38;5;241m=\u001b[39mcast_to,\n\u001b[0;32m   (...)\u001b[0m\n\u001b[1;32m   1079\u001b[0m     stream_cls\u001b[38;5;241m=\u001b[39mstream_cls,\n\u001b[1;32m   1080\u001b[0m )\n",
      "\u001b[0;31mKeyboardInterrupt\u001b[0m: "
     ]
    }
   ],
   "source": [
    "from sqltoolkit.indexer import DatabaseIndexer\n",
    "\n",
    "search_endpoint = os.getenv('AI_SEARCH_ENDPOINT')\n",
    "search_key = os.getenv('AI_SEARCH_API_KEY')\n",
    "embedding_deployment = os.getenv('OPENAI_EMBEDDING_DEPLOYMENT')\n",
    "index_name = \"bird-dev-mini\"\n",
    "\n",
    "\n",
    "for schema in schema_descriptions:\n",
    "    print(f\"Indexing schema: {schema['schema']}\")\n",
    "    context = schema['description']\n",
    "    schema_name = schema['schema']\n",
    "\n",
    "    indexer = DatabaseIndexer(sql_client, \n",
    "                            openai_client, \n",
    "                            aoai_deployment,\n",
    "                            aoai_embedding_deployment,\n",
    "                            extra_context=context)\n",
    "    \n",
    "    manifest = indexer.fetch_and_describe_tables(regex_filter=f\"{schema_name}.*\")\n",
    "    indexer.generate_table_embeddings()\n",
    "\n",
    "    indexer.create_azure_ai_search_index(\n",
    "    search_endpoint=search_endpoint,\n",
    "    search_credential=search_key,\n",
    "    index_name=index_name,\n",
    "    embedding_deployment=aoai_embedding_deployment,\n",
    "    openai_endpoint=aoai_endpoint,\n",
    "    openai_key=aoai_key,\n",
    ")\n",
    "\n",
    "# write to AI Search\n",
    "    indexer.push_to_ai_search()\n"
   ]
  },
  {
   "cell_type": "code",
   "execution_count": null,
   "metadata": {},
   "outputs": [],
   "source": []
  }
 ],
 "metadata": {
  "kernelspec": {
   "display_name": "openai",
   "language": "python",
   "name": "python3"
  },
  "language_info": {
   "codemirror_mode": {
    "name": "ipython",
    "version": 3
   },
   "file_extension": ".py",
   "mimetype": "text/x-python",
   "name": "python",
   "nbconvert_exporter": "python",
   "pygments_lexer": "ipython3",
   "version": "3.11.8"
  }
 },
 "nbformat": 4,
 "nbformat_minor": 2
}
