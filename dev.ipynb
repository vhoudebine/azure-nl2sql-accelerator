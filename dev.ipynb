{
 "cells": [
  {
   "cell_type": "code",
   "execution_count": 1,
   "metadata": {},
   "outputs": [],
   "source": [
    "from sqltoolkit.connectors import AzureSQLConnector\n",
    "from sqltoolkit.client import DatabaseClient\n",
    "from sqltoolkit.entities import Table, TableColumn\n",
    "  \n",
    "# Azure SQL Connection  \n",
    "server = 'vince-h-sql.database.windows.net'  \n",
    "database = 'adventureworks'  \n",
    "azure_connector = AzureSQLConnector(server=server, database=database)  \n",
    "sql_client = DatabaseClient(azure_connector)\n",
    "  "
   ]
  },
  {
   "cell_type": "code",
   "execution_count": 2,
   "metadata": {},
   "outputs": [],
   "source": [
    "from openai import AzureOpenAI\n",
    "from dotenv import load_dotenv\n",
    "import os\n",
    "\n",
    "load_dotenv()\n",
    "\n",
    "aoai_endpoint = os.getenv('OPENAI_ENDPOINT')\n",
    "aoai_key = os.getenv('OPENAI_API_KEY')\n",
    "aoai_deployment = os.getenv('OPENAI_4o_DEPLOYMENT')\n",
    "\n",
    "openai_client = AzureOpenAI(azure_endpoint=aoai_endpoint,\n",
    "    api_key=aoai_key,\n",
    "    api_version='2024-10-21')"
   ]
  },
  {
   "cell_type": "markdown",
   "metadata": {},
   "source": [
    "### Generating table descriptions from the database"
   ]
  },
  {
   "cell_type": "code",
   "execution_count": 3,
   "metadata": {},
   "outputs": [
    {
     "name": "stderr",
     "output_type": "stream",
     "text": [
      "2024-12-09 15:54:47,365 - DatabaseIndexer - INFO - Fetching tables from the database.\n",
      "2024-12-09 15:54:47,631 - DatabaseIndexer - INFO - Processing table: SalesLT.Customer\n",
      "2024-12-09 15:55:10,278 - DatabaseIndexer - INFO - Completed processing table: SalesLT.Customer\n",
      "2024-12-09 15:55:10,280 - DatabaseIndexer - INFO - Processing table: SalesLT.ProductModel\n",
      "2024-12-09 15:55:19,636 - DatabaseIndexer - INFO - Completed processing table: SalesLT.ProductModel\n",
      "2024-12-09 15:55:19,638 - DatabaseIndexer - INFO - Processing table: SalesLT.ProductDescription\n",
      "2024-12-09 15:55:26,172 - DatabaseIndexer - INFO - Completed processing table: SalesLT.ProductDescription\n",
      "2024-12-09 15:55:26,173 - DatabaseIndexer - INFO - Processing table: SalesLT.Product\n",
      "2024-12-09 15:55:50,248 - DatabaseIndexer - INFO - Completed processing table: SalesLT.Product\n",
      "2024-12-09 15:55:50,249 - DatabaseIndexer - INFO - Processing table: SalesLT.ProductModelProductDescription\n",
      "2024-12-09 15:56:02,152 - DatabaseIndexer - INFO - Completed processing table: SalesLT.ProductModelProductDescription\n",
      "2024-12-09 15:56:02,153 - DatabaseIndexer - INFO - Processing table: SalesLT.ProductCategory\n",
      "2024-12-09 15:56:12,454 - DatabaseIndexer - INFO - Completed processing table: SalesLT.ProductCategory\n",
      "2024-12-09 15:56:12,455 - DatabaseIndexer - INFO - Processing table: dbo.BuildVersion\n",
      "2024-12-09 15:56:17,366 - DatabaseIndexer - INFO - Completed processing table: dbo.BuildVersion\n",
      "2024-12-09 15:56:17,367 - DatabaseIndexer - INFO - Processing table: dbo.ErrorLog\n",
      "2024-12-09 15:56:29,219 - DatabaseIndexer - INFO - Completed processing table: dbo.ErrorLog\n",
      "2024-12-09 15:56:29,220 - DatabaseIndexer - INFO - Processing table: SalesLT.Address\n",
      "2024-12-09 15:56:52,326 - DatabaseIndexer - INFO - Completed processing table: SalesLT.Address\n",
      "2024-12-09 15:56:52,327 - DatabaseIndexer - INFO - Processing table: SalesLT.CustomerAddress\n",
      "2024-12-09 15:57:02,323 - DatabaseIndexer - INFO - Completed processing table: SalesLT.CustomerAddress\n",
      "2024-12-09 15:57:02,326 - DatabaseIndexer - INFO - Processing table: SalesLT.SalesOrderDetail\n",
      "2024-12-09 15:57:17,566 - DatabaseIndexer - INFO - Completed processing table: SalesLT.SalesOrderDetail\n",
      "2024-12-09 15:57:17,567 - DatabaseIndexer - INFO - Processing table: SalesLT.SalesOrderHeader\n",
      "2024-12-09 15:57:48,857 - DatabaseIndexer - INFO - Completed processing table: SalesLT.SalesOrderHeader\n",
      "2024-12-09 15:57:48,858 - DatabaseIndexer - INFO - Completed fetching and processing all tables.\n"
     ]
    }
   ],
   "source": [
    "from sqltoolkit.indexer import DatabaseIndexer\n",
    "\n",
    "indexer = DatabaseIndexer(sql_client, openai_client)\n",
    "table_subset = ['SalesLT.SalesOrderHeader', \n",
    "                'SalesLT.SalesOrderDetail',\n",
    "                'SalesLT.Product',\n",
    "                'SalesLT.Customer',\n",
    "                'SalesLT.ProductCategory']\n",
    "\n",
    "manifest = indexer.fetch_and_describe_tables()\n",
    "indexer.generate_table_embeddings()\n",
    "\n",
    "tables_dict = indexer.export_json_manifest()\n",
    "\n",
    "with open('tables_manifest.json', 'w') as f:\n",
    "    f.write(tables_dict)"
   ]
  },
  {
   "cell_type": "code",
   "execution_count": 4,
   "metadata": {},
   "outputs": [
    {
     "name": "stdout",
     "output_type": "stream",
     "text": [
      "The SalesLT.Customer table contains detailed information about customers within a sales or business database. Each entry represents a unique customer, identified by a primary key. The table includes various fields such as names, titles, contact details, company affiliation, sales representatives, and security-related information like password hashes and salts. Additionally, it tracks record modifications through a timestamp, ensuring that customer data can be accurately maintained and updated.\n"
     ]
    }
   ],
   "source": [
    "print(indexer.tables[0].description)"
   ]
  },
  {
   "cell_type": "markdown",
   "metadata": {},
   "source": [
    "### Building AI Search Index and pushing data"
   ]
  },
  {
   "cell_type": "code",
   "execution_count": 5,
   "metadata": {},
   "outputs": [
    {
     "name": "stderr",
     "output_type": "stream",
     "text": [
      "2024-12-09 15:57:49,726 - DatabaseIndexer - INFO - Creating Azure AI Search Index.\n",
      "2024-12-09 15:57:49,728 - DatabaseIndexer - INFO - SearchIndexClient created.\n"
     ]
    },
    {
     "name": "stderr",
     "output_type": "stream",
     "text": [
      "2024-12-09 15:57:50,023 - DatabaseIndexer - INFO - Index 'adventureworks' does not exist. Creating a new one.\n",
      "2024-12-09 15:57:50,024 - DatabaseIndexer - INFO - Fields for the index defined.\n",
      "2024-12-09 15:57:50,025 - DatabaseIndexer - INFO - Vector search configuration defined.\n",
      "2024-12-09 15:57:50,026 - DatabaseIndexer - INFO - Semantic configuration defined.\n",
      "2024-12-09 15:57:50,027 - DatabaseIndexer - INFO - Semantic search configuration defined.\n",
      "2024-12-09 15:57:50,466 - DatabaseIndexer - INFO - Index 'adventureworks' created successfully.\n"
     ]
    }
   ],
   "source": [
    "search_endpoint = os.getenv('AI_SEARCH_ENDPOINT')\n",
    "search_key = os.getenv('AI_SEARCH_API_KEY')\n",
    "embedding_deployment = os.getenv('OPENAI_EMBEDDING_DEPLOYMENT')\n",
    "\n",
    "index_name = 'adventureworks'\n",
    "\n",
    "indexer.create_azure_ai_search_index(\n",
    "    search_endpoint=search_endpoint,\n",
    "    search_credential=search_key,\n",
    "    index_name=index_name,\n",
    "    embedding_deployment=embedding_deployment,\n",
    "    openai_endpoint=aoai_endpoint,\n",
    "    openai_key=aoai_key,\n",
    ")"
   ]
  },
  {
   "cell_type": "code",
   "execution_count": 6,
   "metadata": {},
   "outputs": [
    {
     "name": "stderr",
     "output_type": "stream",
     "text": [
      "2024-12-09 15:58:43,476 - DatabaseIndexer - INFO - Pushing metadata for 12 tables to Azure AI Search.\n"
     ]
    },
    {
     "name": "stdout",
     "output_type": "stream",
     "text": [
      "Pushing data for table SalesLT.Customer to the index.\n"
     ]
    },
    {
     "name": "stderr",
     "output_type": "stream",
     "text": [
      "2024-12-09 15:58:43,812 - DatabaseIndexer - INFO - Data for table SalesLT.Customer pushed to the index.\n",
      "2024-12-09 15:58:43,898 - DatabaseIndexer - INFO - Data for table SalesLT.ProductModel pushed to the index.\n",
      "2024-12-09 15:58:43,999 - DatabaseIndexer - INFO - Data for table SalesLT.ProductDescription pushed to the index.\n"
     ]
    },
    {
     "name": "stdout",
     "output_type": "stream",
     "text": [
      "Pushing data for table SalesLT.ProductModel to the index.\n",
      "Pushing data for table SalesLT.ProductDescription to the index.\n",
      "Pushing data for table SalesLT.Product to the index.\n"
     ]
    },
    {
     "name": "stderr",
     "output_type": "stream",
     "text": [
      "2024-12-09 15:58:44,116 - DatabaseIndexer - INFO - Data for table SalesLT.Product pushed to the index.\n",
      "2024-12-09 15:58:44,206 - DatabaseIndexer - INFO - Data for table SalesLT.ProductModelProductDescription pushed to the index.\n",
      "2024-12-09 15:58:44,284 - DatabaseIndexer - INFO - Data for table SalesLT.ProductCategory pushed to the index.\n"
     ]
    },
    {
     "name": "stdout",
     "output_type": "stream",
     "text": [
      "Pushing data for table SalesLT.ProductModelProductDescription to the index.\n",
      "Pushing data for table SalesLT.ProductCategory to the index.\n",
      "Pushing data for table dbo.BuildVersion to the index.\n"
     ]
    },
    {
     "name": "stderr",
     "output_type": "stream",
     "text": [
      "2024-12-09 15:58:44,380 - DatabaseIndexer - INFO - Data for table dbo.BuildVersion pushed to the index.\n",
      "2024-12-09 15:58:44,455 - DatabaseIndexer - INFO - Data for table dbo.ErrorLog pushed to the index.\n",
      "2024-12-09 15:58:44,529 - DatabaseIndexer - INFO - Data for table SalesLT.Address pushed to the index.\n"
     ]
    },
    {
     "name": "stdout",
     "output_type": "stream",
     "text": [
      "Pushing data for table dbo.ErrorLog to the index.\n",
      "Pushing data for table SalesLT.Address to the index.\n",
      "Pushing data for table SalesLT.CustomerAddress to the index.\n"
     ]
    },
    {
     "name": "stderr",
     "output_type": "stream",
     "text": [
      "2024-12-09 15:58:44,612 - DatabaseIndexer - INFO - Data for table SalesLT.CustomerAddress pushed to the index.\n",
      "2024-12-09 15:58:44,706 - DatabaseIndexer - INFO - Data for table SalesLT.SalesOrderDetail pushed to the index.\n"
     ]
    },
    {
     "name": "stdout",
     "output_type": "stream",
     "text": [
      "Pushing data for table SalesLT.SalesOrderDetail to the index.\n",
      "Pushing data for table SalesLT.SalesOrderHeader to the index.\n"
     ]
    },
    {
     "name": "stderr",
     "output_type": "stream",
     "text": [
      "2024-12-09 15:58:44,829 - DatabaseIndexer - INFO - Data for table SalesLT.SalesOrderHeader pushed to the index.\n"
     ]
    }
   ],
   "source": [
    "# write to AI Search\n",
    "indexer.push_to_ai_search()"
   ]
  },
  {
   "cell_type": "markdown",
   "metadata": {},
   "source": [
    "### RAG + Query generation with gpt-4o"
   ]
  },
  {
   "cell_type": "code",
   "execution_count": 8,
   "metadata": {},
   "outputs": [],
   "source": [
    "from azure.search.documents import SearchClient\n",
    "from azure.search.documents.models import QueryType, QueryCaptionType, QueryAnswerType\n",
    "from azure.search.documents.models import VectorizableTextQuery\n",
    "from azure.core.credentials import AzureKeyCredential\n",
    "import json\n",
    "\n",
    "search_client = SearchClient(endpoint=search_endpoint, \n",
    "                             credential=AzureKeyCredential(search_key), \n",
    "                             index_name=index_name)\n",
    "\n",
    "user_question = \"What is the first name of the customer that put in the most orders?\"\n",
    "\n",
    "  \n",
    "vector_query = VectorizableTextQuery(text=user_question, k_nearest_neighbors=50, fields=\"embedding\")\n",
    "\n",
    "results = search_client.search(  \n",
    "    search_text=user_question,  \n",
    "    vector_queries=[vector_query],\n",
    "    query_type=QueryType.SEMANTIC,\n",
    "    semantic_configuration_name='my-semantic-config',\n",
    "    query_caption=QueryCaptionType.EXTRACTIVE,\n",
    "    query_answer=QueryAnswerType.EXTRACTIVE,\n",
    "    top=3\n",
    ")\n",
    "  \n",
    "candidate_tables = []\n",
    "for result in results:\n",
    "    candidate_tables.append(\n",
    "        json.dumps({key: result[key] for key in ['name',\n",
    "                                                 'business_readable_name',\n",
    "                                                 'description',\n",
    "                                                 'columns'] if key in result}, indent=4))\n"
   ]
  },
  {
   "cell_type": "code",
   "execution_count": 14,
   "metadata": {},
   "outputs": [
    {
     "name": "stdout",
     "output_type": "stream",
     "text": [
      "{\n",
      "    \"name\": \"SalesLT.Customer\",\n",
      "    \"business_readable_name\": \"Customer Details\",\n",
      "    \"description\": \"The SalesLT.Customer table contains detailed information about customers within a sales or business database. Each entry represents a unique customer, identified by a primary key. The table includes various fields such as names, titles, contact details, company affiliation, sales representatives, and security-related information like password hashes and salts. Additionally, it tracks record modifications through a timestamp, ensuring that customer data can be accurately maintained and updated.\",\n",
      "    \"columns\": [\n",
      "        {\n",
      "            \"name\": \"CustomerID\",\n",
      "            \"type\": \"int\",\n",
      "            \"description\": null,\n",
      "            \"definition\": \"CustomerID is an integer column in the SalesLT.Customer table. This column serves as the primary key, uniquely identifying each customer in the table. It contains unique numeric values assigned to each customer, ensuring that no two customers share the same CustomerID. This column is instrumental in linking customer data to other tables and records within the database.\",\n",
      "            \"primary_key\": true,\n",
      "            \"sample_values\": [\n",
      "                \"1\",\n",
      "                \"2\",\n",
      "                \"3\",\n",
      "                \"4\",\n",
      "                \"5\",\n",
      "                \"6\",\n",
      "                \"7\",\n",
      "                \"10\",\n",
      "                \"11\",\n",
      "                \"12\"\n",
      "            ]\n",
      "        },\n",
      "        {\n",
      "            \"name\": \"NameStyle\",\n",
      "            \"type\": \"bit\",\n",
      "            \"description\": null,\n",
      "            \"definition\": \"The NameStyle column in the SalesLT.Customer table is a bit data type that indicates whether a customer's name is formatted or styled. This column is used to differentiate between names that should be treated with a specific naming style, for example, names that include titles or special capitalization. Values in this column are typically 0 (false) or 1 (true), where false indicates a standard name format and true stands for a non-standard or special styled name. This helps in applying consistent formatting rules when processing or displaying customer names.\",\n",
      "            \"primary_key\": false,\n",
      "            \"sample_values\": [\n",
      "                \"False\"\n",
      "            ]\n",
      "        },\n",
      "        {\n",
      "            \"name\": \"Title\",\n",
      "            \"type\": \"nvarchar\",\n",
      "            \"description\": null,\n",
      "            \"definition\": \"The \\\"Title\\\" column in the SalesLT.Customer table contains the honorifics or titles associated with each customer, such as \\\"Mr.\\\", \\\"Ms.\\\", \\\"Sr.\\\", and \\\"Sra.\\\". These titles are used to address customers formally and can provide contextual information about the customer's gender or marital status. The data type of this column is \\\"nvarchar,\\\" indicating that it stores variable-length Unicode character strings. This column is not the primary key and does not contain any constraints or unique values by itself.\",\n",
      "            \"primary_key\": false,\n",
      "            \"sample_values\": [\n",
      "                \"Mr.\",\n",
      "                \"Ms.\",\n",
      "                \"Sr.\",\n",
      "                \"Sra.\"\n",
      "            ]\n",
      "        },\n",
      "        {\n",
      "            \"name\": \"FirstName\",\n",
      "            \"type\": \"nvarchar\",\n",
      "            \"description\": null,\n",
      "            \"definition\": \"The FirstName column in the SalesLT.Customer table contains the given names of customers. This column stores data as nvarchar, indicating that it supports variable-length Unicode character strings. Typical values include common first names such as \\\"Abigail,\\\" \\\"Aidan,\\\" and \\\"Alice.\\\" This column does not serve as a primary key but is essential for identifying and addressing customers in a personalized manner.\",\n",
      "            \"primary_key\": false,\n",
      "            \"sample_values\": [\n",
      "                \"A.\",\n",
      "                \"Abigail\",\n",
      "                \"Abraham\",\n",
      "                \"Aidan\",\n",
      "                \"Ajay\",\n",
      "                \"Alan\",\n",
      "                \"Alberto\",\n",
      "                \"Alexander\",\n",
      "                \"Alice\",\n",
      "                \"Alvaro\"\n",
      "            ]\n",
      "        },\n",
      "        {\n",
      "            \"name\": \"MiddleName\",\n",
      "            \"type\": \"nvarchar\",\n",
      "            \"description\": null,\n",
      "            \"definition\": \"The \\\"MiddleName\\\" column in the SalesLT.Customer table contains the middle names of customers. The values in this column are of type nvarchar, and can include full middle names, initials, or may even be null for customers without a middle name. This information is used to provide complete customer identification and may be used in queries to filter or display customers based on their middle name.\",\n",
      "            \"primary_key\": false,\n",
      "            \"sample_values\": [\n",
      "                \"A.\",\n",
      "                \"B\",\n",
      "                \"B.\",\n",
      "                \"C.\",\n",
      "                \"D.\",\n",
      "                \"E.\",\n",
      "                \"F.\",\n",
      "                \"Francesca\",\n",
      "                \"Greg\"\n",
      "            ]\n",
      "        },\n",
      "        {\n",
      "            \"name\": \"LastName\",\n",
      "            \"type\": \"nvarchar\",\n",
      "            \"description\": null,\n",
      "            \"definition\": \"The LastName column in the SalesLT.Customer table contains the surname of the customer. It is a text field of type nvarchar and records the family name used by individuals in their full name. This column helps identify and differentiate customers and can be useful for sorting or searching customer records by their surname.\",\n",
      "            \"primary_key\": false,\n",
      "            \"sample_values\": [\n",
      "                \"Abel\",\n",
      "                \"Abercrombie\",\n",
      "                \"Adams\",\n",
      "                \"Agcaoili\",\n",
      "                \"Ahlering\",\n",
      "                \"Alan\",\n",
      "                \"Alberts\",\n",
      "                \"Alcorn\",\n",
      "                \"Alderson\",\n",
      "                \"Alexander\"\n",
      "            ]\n",
      "        },\n",
      "        {\n",
      "            \"name\": \"Suffix\",\n",
      "            \"type\": \"nvarchar\",\n",
      "            \"description\": null,\n",
      "            \"definition\": \"The \\\"Suffix\\\" column in the \\\"SalesLT.Customer\\\" table contains suffixes associated with customers' names. These suffixes are typically honorary or generational titles such as \\\"Jr.,\\\" \\\"Sr.,\\\" \\\"II,\\\" \\\"IV,\\\" and \\\"PhD.\\\" This column helps provide additional context and distinction to a customer's full name, particularly in cases where multiple individuals within the same family or with similar names exist. The data type for this column is \\\"nvarchar,\\\" indicating that it stores string values.\",\n",
      "            \"primary_key\": false,\n",
      "            \"sample_values\": [\n",
      "                \"II\",\n",
      "                \"IV\",\n",
      "                \"Jr.\",\n",
      "                \"PhD\",\n",
      "                \"Sr.\"\n",
      "            ]\n",
      "        },\n",
      "        {\n",
      "            \"name\": \"CompanyName\",\n",
      "            \"type\": \"nvarchar\",\n",
      "            \"description\": null,\n",
      "            \"definition\": \"The CompanyName column in the SalesLT.Customer table contains the names of the companies associated with each customer. This column is of the nvarchar data type, indicating that it stores variable-length Unicode string data. The company names typically represent the commercial entities or businesses that the customers are affiliated with. The data in this column can be used for identifying and filtering records based on the company names associated with the customers.\",\n",
      "            \"primary_key\": false,\n",
      "            \"sample_values\": [\n",
      "                \"A Bike Store\",\n",
      "                \"A Cycle Shop\",\n",
      "                \"A Great Bicycle Company\",\n",
      "                \"A Typical Bike Shop\",\n",
      "                \"Acceptable Sales & Service\",\n",
      "                \"Action Bicycle Specialists\",\n",
      "                \"Active Life Toys\",\n",
      "                \"Active Systems\",\n",
      "                \"Advanced Bike Components\",\n",
      "                \"Aerobic Exercise Company\"\n",
      "            ]\n",
      "        },\n",
      "        {\n",
      "            \"name\": \"SalesPerson\",\n",
      "            \"type\": \"nvarchar\",\n",
      "            \"description\": null,\n",
      "            \"definition\": \"The SalesPerson column in the SalesLT.Customer table contains the usernames of the sales representatives assigned to individual customers. The usernames follow the format \\\"adventure-works\\\\\\\\{username}\\\", where \\\"adventure-works\\\" is the domain and \\\"{username}\\\" is the unique identifier for the salesperson. This column is used to identify which salesperson is responsible for each customer within the database.\",\n",
      "            \"primary_key\": false,\n",
      "            \"sample_values\": [\n",
      "                \"adventure-works\\\\david8\",\n",
      "                \"adventure-works\\\\garrett1\",\n",
      "                \"adventure-works\\\\jae0\",\n",
      "                \"adventure-works\\\\jillian0\",\n",
      "                \"adventure-works\\\\jos\\u00e91\",\n",
      "                \"adventure-works\\\\linda3\",\n",
      "                \"adventure-works\\\\michael9\",\n",
      "                \"adventure-works\\\\pamela0\",\n",
      "                \"adventure-works\\\\shu0\"\n",
      "            ]\n",
      "        },\n",
      "        {\n",
      "            \"name\": \"EmailAddress\",\n",
      "            \"type\": \"nvarchar\",\n",
      "            \"description\": null,\n",
      "            \"definition\": \"The EmailAddress column in the SalesLT.Customer table contains the email addresses of customers. The data type for this column is nvarchar, suggesting that the values are stored as variable-length strings. Each email address is unique to a customer and is used for communication purposes. The format generally follows the standard email format (e.g., username@domain.com). This column is not a primary key but is essential for contacting and identifying customers electronically.\",\n",
      "            \"primary_key\": false,\n",
      "            \"sample_values\": [\n",
      "                \"a0@adventure-works.com\",\n",
      "                \"abigail0@adventure-works.com\",\n",
      "                \"abraham0@adventure-works.com\",\n",
      "                \"aidan0@adventure-works.com\",\n",
      "                \"ajay0@adventure-works.com\",\n",
      "                \"alan1@adventure-works.com\",\n",
      "                \"alan4@adventure-works.com\",\n",
      "                \"alberto0@adventure-works.com\",\n",
      "                \"alexander0@adventure-works.com\",\n",
      "                \"alexander1@adventure-works.com\"\n",
      "            ]\n",
      "        },\n",
      "        {\n",
      "            \"name\": \"Phone\",\n",
      "            \"type\": \"nvarchar\",\n",
      "            \"description\": null,\n",
      "            \"definition\": \"The Phone column in the SalesLT.Customer table contains the phone numbers of customers. These phone numbers are stored as strings in various formats, including country codes and area codes. The data in this column is used to store and retrieve the contact phone number for each customer in the database.\",\n",
      "            \"primary_key\": false,\n",
      "            \"sample_values\": [\n",
      "                \"1 (11) 500 555-0110\",\n",
      "                \"1 (11) 500 555-0113\",\n",
      "                \"1 (11) 500 555-0114\",\n",
      "                \"1 (11) 500 555-0115\",\n",
      "                \"1 (11) 500 555-0116\",\n",
      "                \"1 (11) 500 555-0118\",\n",
      "                \"1 (11) 500 555-0119\",\n",
      "                \"1 (11) 500 555-0120\",\n",
      "                \"1 (11) 500 555-0122\",\n",
      "                \"1 (11) 500 555-0126\"\n",
      "            ]\n",
      "        },\n",
      "        {\n",
      "            \"name\": \"PasswordHash\",\n",
      "            \"type\": \"varchar\",\n",
      "            \"description\": null,\n",
      "            \"definition\": \"The PasswordHash column in the SalesLT.Customer table stores the hashed version of customers' passwords. This ensures that the actual passwords are not stored directly in the database, providing an added layer of security. The values in this column are generated using a hash function and are typically in a unique, encrypted format for each customer.\",\n",
      "            \"primary_key\": false,\n",
      "            \"sample_values\": [\n",
      "                \"+CFHIbYlE+nsmSbCpJOTLZXChbtYA9JzdSnd1Qejk5g=\",\n",
      "                \"+gtwbVycsIIj2loVtrHNRN6IBLl20lQpRK8+JhzxyEo=\",\n",
      "                \"+hCthjbuE+VctSZXuurfmfusjXPrneMHQFQLVjTsnuE=\",\n",
      "                \"/1zuZO01NBBN+zaoVVHAp+srLdfFp0nBmPrSBGPulOc=\",\n",
      "                \"/96oQfFuq06DWi8P5TZqIU/tF2E/GKRMliIjGRWKRDE=\",\n",
      "                \"/hDOTbr9X/E4UE8H6wjOGHYZ6Gb8GDpmutPWgFTXQnc=\",\n",
      "                \"/RLlmUbwfhuCElQyoZ6r3d8DDXVYF3kfkJma4R7pL8g=\",\n",
      "                \"/upSM1yXqGCA1vtYL9IB/NcKFrE3cg7HvqSYGTsQprM=\",\n",
      "                \"/yVQQacXlcqZVH6x20kKCxCJ+sP4EjmPQXwwwInfNH0=\",\n",
      "                \"056V7iOc8FPUiLanlyEqQX6cAWuL0TJ8fQBhX7mEjMU=\"\n",
      "            ]\n",
      "        },\n",
      "        {\n",
      "            \"name\": \"PasswordSalt\",\n",
      "            \"type\": \"varchar\",\n",
      "            \"description\": null,\n",
      "            \"definition\": \"PasswordSalt is a column in the SalesLT.Customer table and contains strings of characters used to add additional security to user passwords. This salt value is combined with the actual password before hashing, making it more difficult for attackers to reverse-engineer the original password from the hash. The contents of this column are unique for each customer and are stored as varchar data types. This column is crucial for enhancing the security of stored password hashes.\",\n",
      "            \"primary_key\": false,\n",
      "            \"sample_values\": [\n",
      "                \"+apUSQU=\",\n",
      "                \"+iF/Sqs=\",\n",
      "                \"+v0uddA=\",\n",
      "                \"+Yo0P+0=\",\n",
      "                \"/4/gh8A=\",\n",
      "                \"/9h1e7s=\",\n",
      "                \"/kc6RdY=\",\n",
      "                \"/P0XMaQ=\",\n",
      "                \"/PSiwRg=\",\n",
      "                \"/Q1sZG0=\"\n",
      "            ]\n",
      "        },\n",
      "        {\n",
      "            \"name\": \"rowguid\",\n",
      "            \"type\": \"uniqueidentifier\",\n",
      "            \"description\": null,\n",
      "            \"definition\": \"The rowguid column in the SalesLT.Customer table stores a unique identifier for each record in the form of a globally unique identifier (GUID). This value ensures that each row can be distinctly identified across distributed systems or merged datasets, providing a consistent and unique reference. The data type is uniqueidentifier, and it typically contains string values that are 36 characters long, represented in the format 8-4-4-4-12 (e.g., 947BCAF1-1F32-44F3-B9C3-0011F95FBE54). This column is not a primary key, but it is unique for every row in the table.\",\n",
      "            \"primary_key\": false,\n",
      "            \"sample_values\": [\n",
      "                \"947BCAF1-1F32-44F3-B9C3-0011F95FBE54\",\n",
      "                \"45F0A45D-6EC0-4F4C-A5AB-00B128AF62FD\",\n",
      "                \"D5AE552E-FAFD-49AB-AC05-014484CA1139\",\n",
      "                \"3CEF570C-26DD-478E-9F28-015037841EE2\",\n",
      "                \"7C96C878-A038-4B2F-825F-016C922D6407\",\n",
      "                \"C8099813-1F08-41C6-8567-025CAB01F0FA\",\n",
      "                \"592B130D-BFF6-4744-B0B6-02F706504993\",\n",
      "                \"625F2B1D-2F34-4020-88B8-032310645B2E\",\n",
      "                \"CB6D6A16-6722-457B-94BF-03F5CAC268A3\",\n",
      "                \"ECA7C8FA-490B-4B97-9C32-043C90F789E8\"\n",
      "            ]\n",
      "        },\n",
      "        {\n",
      "            \"name\": \"ModifiedDate\",\n",
      "            \"type\": \"datetime\",\n",
      "            \"description\": null,\n",
      "            \"definition\": \"The ModifiedDate column in the SalesLT.Customer table contains values that store the date and time when a record was last modified. This column is of the datetime data type, which includes both the date and time, ensuring precise tracking of changes made to customer data. The values in this column help in maintaining a history of updates and can be used to identify the most recent changes or filter records based on modification periods.\",\n",
      "            \"primary_key\": false,\n",
      "            \"sample_values\": [\n",
      "                \"2005-07-01\",\n",
      "                \"2005-08-01\",\n",
      "                \"2005-09-01\",\n",
      "                \"2005-10-01\",\n",
      "                \"2005-11-01\",\n",
      "                \"2005-12-01\",\n",
      "                \"2006-01-01\",\n",
      "                \"2006-03-01\",\n",
      "                \"2006-06-01\",\n",
      "                \"2006-07-01\"\n",
      "            ]\n",
      "        }\n",
      "    ]\n",
      "}\n"
     ]
    }
   ],
   "source": [
    "print(candidate_tables[0])"
   ]
  },
  {
   "cell_type": "code",
   "execution_count": 10,
   "metadata": {},
   "outputs": [
    {
     "data": {
      "text/plain": [
       "{'chain_of_thought': 'To determine the first name of the customer who placed the most orders, we will follow these steps:\\n1. Count the number of orders placed by each customer in the SalesLT.SalesOrderHeader table, grouping by CustomerID.\\n2. Identify the CustomerID with the highest count of orders.\\n3. Retrieve the first name of the customer with the identified CustomerID from the SalesLT.Customer table.',\n",
       " 'sql_query': 'WITH OrderCounts AS (\\n    SELECT CustomerID, COUNT(*) AS OrderCount\\n    FROM SalesLT.SalesOrderHeader\\n    GROUP BY CustomerID\\n), MaxOrderCustomer AS (\\n    SELECT TOP 1 CustomerID\\n    FROM OrderCounts\\n    ORDER BY OrderCount DESC\\n)\\nSELECT c.FirstName\\nFROM SalesLT.Customer c\\nINNER JOIN MaxOrderCustomer moc ON c.CustomerID = moc.CustomerID;'}"
      ]
     },
     "execution_count": 10,
     "metadata": {},
     "output_type": "execute_result"
    }
   ],
   "source": [
    "\n",
    "tables_prompt = candidate_tables\n",
    "\n",
    "system_prompt = f\"\"\"\n",
    "You are a helpful AI data analyst assistant, \n",
    "     You can execute SQL queries to retrieve information from a sql database,\n",
    "     The database is SQL server, use the right syntax to generate queries\n",
    "\n",
    "\n",
    "     ### These are the available tables in the database alongside their descriptions:\n",
    "    {tables_prompt}\n",
    "\n",
    "     When asked a question that could be answered with a SQL query: \n",
    "     - Break down the question into smaller parts that can be answered with SQL queries\n",
    "    - Identify the tables that contains the information needed to answer the question\n",
    "     - Only once this is done, create a sql query to retrieve the information based on your understanding of the table\n",
    " \n",
    "    Think step by step, before doing anything, share the different steps you'll execute to get the answer\n",
    "    \n",
    "    Your response should be in JSON format with the following structure:\n",
    "    \"chain_of_thought\": \"Your reasoning\",\n",
    "     \"sql_query\": \"The generated sql query\"\n",
    "\n",
    "    Example:    \n",
    "    question: \"Show me the first 5 rows of the sales_data table\"\n",
    "    output: \"chain_of_thought\": \"Your reasoning\",\n",
    "     \"sql_query\": \"SELECT TOP 5 * FROM sales_data\"\n",
    "\n",
    "\"\"\"\n",
    "\n",
    "messages =[\n",
    "    {\n",
    "        \"role\": \"system\",\n",
    "        \"content\": system_prompt\n",
    "    },\n",
    "    {\n",
    "        \"role\": \"user\",\n",
    "        \"content\": user_question\n",
    "    }\n",
    "]\n",
    "\n",
    "response = openai_client.chat.completions.create(\n",
    "                model=\"gpt-4o-global\",\n",
    "                messages=messages,\n",
    "                response_format={\"type\": \"json_object\"}\n",
    "               )\n",
    "\n",
    "response_message = response.choices[0].message.content\n",
    "response_json = json.loads(response_message)\n",
    "\n",
    "response_json\n",
    "\n"
   ]
  },
  {
   "cell_type": "code",
   "execution_count": 12,
   "metadata": {},
   "outputs": [
    {
     "name": "stdout",
     "output_type": "stream",
     "text": [
      "WITH OrderCounts AS (\n",
      "    SELECT CustomerID, COUNT(*) AS OrderCount\n",
      "    FROM SalesLT.SalesOrderHeader\n",
      "    GROUP BY CustomerID\n",
      "), MaxOrderCustomer AS (\n",
      "    SELECT TOP 1 CustomerID\n",
      "    FROM OrderCounts\n",
      "    ORDER BY OrderCount DESC\n",
      ")\n",
      "SELECT c.FirstName\n",
      "FROM SalesLT.Customer c\n",
      "INNER JOIN MaxOrderCustomer moc ON c.CustomerID = moc.CustomerID;\n"
     ]
    }
   ],
   "source": [
    "print(response_json['sql_query'])"
   ]
  },
  {
   "cell_type": "code",
   "execution_count": null,
   "metadata": {},
   "outputs": [],
   "source": []
  }
 ],
 "metadata": {
  "kernelspec": {
   "display_name": "openai",
   "language": "python",
   "name": "python3"
  },
  "language_info": {
   "codemirror_mode": {
    "name": "ipython",
    "version": 3
   },
   "file_extension": ".py",
   "mimetype": "text/x-python",
   "name": "python",
   "nbconvert_exporter": "python",
   "pygments_lexer": "ipython3",
   "version": "3.11.8"
  }
 },
 "nbformat": 4,
 "nbformat_minor": 2
}
