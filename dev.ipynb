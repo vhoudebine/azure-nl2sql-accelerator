{
 "cells": [
  {
   "cell_type": "code",
   "execution_count": null,
   "metadata": {},
   "outputs": [],
   "source": [
    "from sqltoolkit.connectors import AzureSQLConnector\n",
    "from sqltoolkit.client import DatabaseClient\n",
    "from sqltoolkit.entities import Table, TableColumn\n",
    "  \n",
    "# Azure SQL Connection  \n",
    "server = 'vince-h-sql.database.windows.net'  \n",
    "database = 'adventureworks'  \n",
    "azure_connector = AzureSQLConnector(server=server, database=database)  \n",
    "sql_client = DatabaseClient(azure_connector)\n",
    "  "
   ]
  },
  {
   "cell_type": "code",
   "execution_count": null,
   "metadata": {},
   "outputs": [],
   "source": [
    "table = Table(name='SalesLT.ProductModel',\n",
    "                 db_client=sql_client)\n",
    "\n",
    "table.get_columns()\n",
    "table.extract_column_values()"
   ]
  },
  {
   "cell_type": "code",
   "execution_count": 4,
   "metadata": {},
   "outputs": [
    {
     "data": {
      "text/plain": [
       "[TableColumn(name='ProductModelID', type='int', description=None, sample_values=[1, 2, 3, 4, 5, 6, 7, 8, 9, 10], distinct_values=None, primary_key=False),\n",
       " TableColumn(name='Name', type='nvarchar', description=None, sample_values=['All-Purpose Bike Stand', 'Bike Wash', 'Cable Lock', 'Chain', 'Classic Vest', 'Cycling Cap', 'Fender Set - Mountain', 'Front Brakes', 'Front Derailleur', 'Full-Finger Gloves'], distinct_values=None, primary_key=False),\n",
       " TableColumn(name='CatalogDescription', type='xml', description=None, sample_values=[], distinct_values=None, primary_key=False),\n",
       " TableColumn(name='rowguid', type='uniqueidentifier', description=None, sample_values=['0481D7E1-4970-4EFA-A560-020F6579918D', 'CA18ECFD-2023-4FA7-A556-0321153BCA34', '219E2F87-26A9-483B-B968-04578E943096', '0D48C51D-7603-4010-9265-0491805BB010', 'F06999A1-3AA7-4E85-B8CB-049EB2C391FA', 'F570E0D1-E978-4FF2-B5B1-08F01AB60219', 'E3CDC5DD-27C3-4891-9D5E-0D46D1B8457F', 'D71BD21C-239E-4C2B-98A3-101962D6B2D3', '45FE0D77-6645-473C-A116-1232BAEA8D43', 'CCA597FB-195F-4EC5-BF5C-15B98D176F4C'], distinct_values=None, primary_key=False),\n",
       " TableColumn(name='ModifiedDate', type='datetime', description=None, sample_values=['2002-05-02 00:00:00.000', '2005-06-01 00:00:00.000', '2006-06-01 00:00:00.000', '2006-11-20 09:56:38.273', '2007-06-01 00:00:00.000', '2009-05-16 16:34:28.980', '2009-05-16 16:34:28.997', '2009-05-16 16:34:29.010', '2009-05-16 16:34:29.027', '2009-05-16 16:34:29.043'], distinct_values=None, primary_key=False)]"
      ]
     },
     "execution_count": 4,
     "metadata": {},
     "output_type": "execute_result"
    }
   ],
   "source": [
    "table.columns"
   ]
  },
  {
   "cell_type": "code",
   "execution_count": 7,
   "metadata": {},
   "outputs": [
    {
     "data": {
      "text/plain": [
       "{'name': 'SalesLT.ProductModel',\n",
       " 'business_readable_name': None,\n",
       " 'description': None,\n",
       " 'columns': [{'name': 'ProductModelID',\n",
       "   'type': 'int',\n",
       "   'description': None,\n",
       "   'sample_values': [1, 2, 3, 4, 5, 6, 7, 8, 9, 10],\n",
       "   'distinct_values': None,\n",
       "   'primary_key': False},\n",
       "  {'name': 'Name',\n",
       "   'type': 'nvarchar',\n",
       "   'description': None,\n",
       "   'sample_values': ['All-Purpose Bike Stand',\n",
       "    'Bike Wash',\n",
       "    'Cable Lock',\n",
       "    'Chain',\n",
       "    'Classic Vest',\n",
       "    'Cycling Cap',\n",
       "    'Fender Set - Mountain',\n",
       "    'Front Brakes',\n",
       "    'Front Derailleur',\n",
       "    'Full-Finger Gloves'],\n",
       "   'distinct_values': None,\n",
       "   'primary_key': False},\n",
       "  {'name': 'CatalogDescription',\n",
       "   'type': 'xml',\n",
       "   'description': None,\n",
       "   'sample_values': [],\n",
       "   'distinct_values': None,\n",
       "   'primary_key': False},\n",
       "  {'name': 'rowguid',\n",
       "   'type': 'uniqueidentifier',\n",
       "   'description': None,\n",
       "   'sample_values': ['0481D7E1-4970-4EFA-A560-020F6579918D',\n",
       "    'CA18ECFD-2023-4FA7-A556-0321153BCA34',\n",
       "    '219E2F87-26A9-483B-B968-04578E943096',\n",
       "    '0D48C51D-7603-4010-9265-0491805BB010',\n",
       "    'F06999A1-3AA7-4E85-B8CB-049EB2C391FA',\n",
       "    'F570E0D1-E978-4FF2-B5B1-08F01AB60219',\n",
       "    'E3CDC5DD-27C3-4891-9D5E-0D46D1B8457F',\n",
       "    'D71BD21C-239E-4C2B-98A3-101962D6B2D3',\n",
       "    '45FE0D77-6645-473C-A116-1232BAEA8D43',\n",
       "    'CCA597FB-195F-4EC5-BF5C-15B98D176F4C'],\n",
       "   'distinct_values': None,\n",
       "   'primary_key': False},\n",
       "  {'name': 'ModifiedDate',\n",
       "   'type': 'datetime',\n",
       "   'description': None,\n",
       "   'sample_values': ['2002-05-02 00:00:00.000',\n",
       "    '2005-06-01 00:00:00.000',\n",
       "    '2006-06-01 00:00:00.000',\n",
       "    '2006-11-20 09:56:38.273',\n",
       "    '2007-06-01 00:00:00.000',\n",
       "    '2009-05-16 16:34:28.980',\n",
       "    '2009-05-16 16:34:28.997',\n",
       "    '2009-05-16 16:34:29.010',\n",
       "    '2009-05-16 16:34:29.027',\n",
       "    '2009-05-16 16:34:29.043'],\n",
       "   'distinct_values': None,\n",
       "   'primary_key': False}]}"
      ]
     },
     "execution_count": 7,
     "metadata": {},
     "output_type": "execute_result"
    }
   ],
   "source": [
    "table.dict(exclude=['db_client'])"
   ]
  },
  {
   "cell_type": "code",
   "execution_count": 4,
   "metadata": {},
   "outputs": [
    {
     "name": "stdout",
     "output_type": "stream",
     "text": [
      "ChatCompletionMessage(content='This table contains information related to product models. The table includes an identifier for each product model, a name for the product model, an optional catalog description, a unique identifier for each row, and the date when the data was last modified. \\n\\nPotential use cases of this table include:\\n- Tracking different product models and their attributes.\\n- Analyzing changes and updates over time by reviewing the modification dates.\\n- Ensuring data integrity and uniqueness with unique row identifiers.\\n- Associating specific product models with detailed descriptions for catalog purposes.', refusal=None, role='assistant', function_call=None, tool_calls=None)\n"
     ]
    }
   ],
   "source": [
    "from openai import AzureOpenAI\n",
    "from dotenv import load_dotenv\n",
    "import os\n",
    "\n",
    "load_dotenv()\n",
    "\n",
    "aoai_endpoint = os.getenv('OPENAI_ENDPOINT')\n",
    "aoai_key = os.getenv('OPENAI_API_KEY')\n",
    "aoai_deployment = os.getenv('OPENAI_DEPLOYMENT')\n",
    "\n",
    "client = AzureOpenAI(azure_endpoint=aoai_endpoint,\n",
    "    api_key=aoai_key,\n",
    "    api_version='2024-02-01')\n",
    "\n",
    "table_summary_prompt = f\"\"\"\n",
    "Summarize below table by the given context.\n",
    "\n",
    "===Table Schema\n",
    "{table_schema}\n",
    "\n",
    "===Sample Rows\n",
    "{table_sample}\n",
    "\n",
    "===Response guideline\n",
    "\n",
    "You shall write a short table description based only on provided information.\n",
    "Do Not use any column name or data value in the table.\n",
    "Do not use any adjective to describe the table. For example, the importance of the table, its comprehensiveness or if it is crucial, or who may be using it. For example, you can say that a table contains certain types of data, but you cannot say that the table contains a 'wealth' of data, or that it is 'comprehensive'.\n",
    "Please also include some potential usecases of the table, e.g. what kind of questions can be answered by the table, what kind of analysis can be done by the table, etc.\n",
    "\"\"\"\n",
    "\n",
    "messages = [{\"role\":\"system\", \"content\": \"You are a data analyst that can help summarize SQL tables.\"}, \n",
    "            {\"role\": \"user\", \"content\": table_summary_prompt}]\n",
    "\n",
    "response = client.chat.completions.create(\n",
    "        model=aoai_deployment,\n",
    "        messages=messages)\n",
    "\n",
    "response_message = response.choices[0].message\n",
    "print(response_message)"
   ]
  },
  {
   "cell_type": "code",
   "execution_count": null,
   "metadata": {},
   "outputs": [],
   "source": []
  },
  {
   "cell_type": "code",
   "execution_count": null,
   "metadata": {},
   "outputs": [],
   "source": []
  }
 ],
 "metadata": {
  "kernelspec": {
   "display_name": "openai",
   "language": "python",
   "name": "python3"
  },
  "language_info": {
   "codemirror_mode": {
    "name": "ipython",
    "version": 3
   },
   "file_extension": ".py",
   "mimetype": "text/x-python",
   "name": "python",
   "nbconvert_exporter": "python",
   "pygments_lexer": "ipython3",
   "version": "3.11.8"
  }
 },
 "nbformat": 4,
 "nbformat_minor": 2
}
