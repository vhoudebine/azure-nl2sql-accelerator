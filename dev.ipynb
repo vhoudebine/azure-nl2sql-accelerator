{
 "cells": [
  {
   "cell_type": "code",
   "execution_count": 1,
   "metadata": {},
   "outputs": [],
   "source": [
    "from sqltoolkit.connectors import AzureSQLConnector\n",
    "from sqltoolkit.client import DatabaseClient\n",
    "from sqltoolkit.entities import Table, TableColumn\n",
    "  \n",
    "# Azure SQL Connection  \n",
    "server = 'vince-h-sql.database.windows.net'  \n",
    "database = 'adventureworks'  \n",
    "azure_connector = AzureSQLConnector(server=server, database=database)  \n",
    "sql_client = DatabaseClient(azure_connector)\n",
    "  "
   ]
  },
  {
   "cell_type": "code",
   "execution_count": 3,
   "metadata": {},
   "outputs": [],
   "source": [
    "from openai import AzureOpenAI\n",
    "from dotenv import load_dotenv\n",
    "import os\n",
    "\n",
    "load_dotenv()\n",
    "\n",
    "aoai_endpoint = os.getenv('OPENAI_ENDPOINT')\n",
    "aoai_key = os.getenv('OPENAI_API_KEY')\n",
    "aoai_deployment = os.getenv('OPENAI_DEPLOYMENT')\n",
    "\n",
    "openai_client = AzureOpenAI(azure_endpoint=aoai_endpoint,\n",
    "    api_key=aoai_key,\n",
    "    api_version='2024-02-01')"
   ]
  },
  {
   "cell_type": "markdown",
   "metadata": {},
   "source": [
    "### Generating table descriptions from the database"
   ]
  },
  {
   "cell_type": "code",
   "execution_count": 10,
   "metadata": {},
   "outputs": [
    {
     "name": "stderr",
     "output_type": "stream",
     "text": [
      "2024-12-04 09:59:25,923 - DatabaseIndexer - INFO - Fetching tables from the database.\n",
      "2024-12-04 09:59:25,923 - DatabaseIndexer - INFO - Fetching tables from the database.\n",
      "2024-12-04 09:59:26,018 - DatabaseIndexer - INFO - Filtered tables: ['SalesLT.Customer', 'SalesLT.Product', 'SalesLT.ProductCategory', 'SalesLT.SalesOrderDetail', 'SalesLT.SalesOrderHeader']\n",
      "2024-12-04 09:59:26,018 - DatabaseIndexer - INFO - Filtered tables: ['SalesLT.Customer', 'SalesLT.Product', 'SalesLT.ProductCategory', 'SalesLT.SalesOrderDetail', 'SalesLT.SalesOrderHeader']\n",
      "2024-12-04 09:59:26,020 - DatabaseIndexer - INFO - Processing table: SalesLT.Customer\n",
      "2024-12-04 09:59:26,020 - DatabaseIndexer - INFO - Processing table: SalesLT.Customer\n",
      "2024-12-04 10:00:22,272 - DatabaseIndexer - INFO - Completed processing table: SalesLT.Customer\n",
      "2024-12-04 10:00:22,272 - DatabaseIndexer - INFO - Completed processing table: SalesLT.Customer\n",
      "2024-12-04 10:00:22,274 - DatabaseIndexer - INFO - Processing table: SalesLT.Product\n",
      "2024-12-04 10:00:22,274 - DatabaseIndexer - INFO - Processing table: SalesLT.Product\n",
      "2024-12-04 10:01:08,387 - DatabaseIndexer - INFO - Completed processing table: SalesLT.Product\n",
      "2024-12-04 10:01:08,387 - DatabaseIndexer - INFO - Completed processing table: SalesLT.Product\n",
      "2024-12-04 10:01:08,388 - DatabaseIndexer - INFO - Processing table: SalesLT.ProductCategory\n",
      "2024-12-04 10:01:08,388 - DatabaseIndexer - INFO - Processing table: SalesLT.ProductCategory\n",
      "2024-12-04 10:01:26,477 - DatabaseIndexer - INFO - Completed processing table: SalesLT.ProductCategory\n",
      "2024-12-04 10:01:26,477 - DatabaseIndexer - INFO - Completed processing table: SalesLT.ProductCategory\n",
      "2024-12-04 10:01:26,479 - DatabaseIndexer - INFO - Processing table: SalesLT.SalesOrderDetail\n",
      "2024-12-04 10:01:26,479 - DatabaseIndexer - INFO - Processing table: SalesLT.SalesOrderDetail\n",
      "2024-12-04 10:01:59,260 - DatabaseIndexer - INFO - Completed processing table: SalesLT.SalesOrderDetail\n",
      "2024-12-04 10:01:59,260 - DatabaseIndexer - INFO - Completed processing table: SalesLT.SalesOrderDetail\n",
      "2024-12-04 10:01:59,261 - DatabaseIndexer - INFO - Processing table: SalesLT.SalesOrderHeader\n",
      "2024-12-04 10:01:59,261 - DatabaseIndexer - INFO - Processing table: SalesLT.SalesOrderHeader\n",
      "2024-12-04 10:03:06,999 - DatabaseIndexer - INFO - Completed processing table: SalesLT.SalesOrderHeader\n",
      "2024-12-04 10:03:06,999 - DatabaseIndexer - INFO - Completed processing table: SalesLT.SalesOrderHeader\n",
      "2024-12-04 10:03:07,002 - DatabaseIndexer - INFO - Completed fetching and processing all tables.\n",
      "2024-12-04 10:03:07,002 - DatabaseIndexer - INFO - Completed fetching and processing all tables.\n"
     ]
    }
   ],
   "source": [
    "from sqltoolkit.indexer import DatabaseIndexer\n",
    "\n",
    "indexer = DatabaseIndexer(sql_client, openai_client)\n",
    "manifest = indexer.fetch_and_describe_tables(table_list=['SalesLT.SalesOrderHeader', \n",
    "                                                   'SalesLT.SalesOrderDetail',\n",
    "                                                   'SalesLT.Product',\n",
    "                                                   'SalesLT.Customer',\n",
    "                                                   'SalesLT.ProductCategory'])\n",
    "indexer.generate_table_embeddings()\n",
    "\n",
    "tables_dict = indexer.export_json_manifest()\n",
    "\n",
    "with open('tables_manifest.json', 'w') as f:\n",
    "    f.write(tables_dict)"
   ]
  },
  {
   "cell_type": "code",
   "execution_count": 11,
   "metadata": {},
   "outputs": [
    {
     "name": "stdout",
     "output_type": "stream",
     "text": [
      "The SalesLT.Customer table stores information about customers, including their personal details and contact information. Each customer is uniquely identified by a CustomerID, which serves as the primary key. The table includes attributes such as names, related company details, contact details like email and phone, and information about associated sales personnel. It also contains security-related information for customer authentication, such as hashed passwords and cryptographic salts. Data modification tracking is facilitated through the ModifiedDate column.\n"
     ]
    }
   ],
   "source": [
    "print(indexer.tables[0].description)"
   ]
  },
  {
   "cell_type": "markdown",
   "metadata": {},
   "source": [
    "### Building AI Search Index and pushing data"
   ]
  },
  {
   "cell_type": "code",
   "execution_count": null,
   "metadata": {},
   "outputs": [],
   "source": []
  },
  {
   "cell_type": "markdown",
   "metadata": {},
   "source": [
    "### Testing"
   ]
  },
  {
   "cell_type": "code",
   "execution_count": 13,
   "metadata": {},
   "outputs": [
    {
     "name": "stdout",
     "output_type": "stream",
     "text": [
      "To determine the top 3 selling product categories, we need to follow these steps:\n",
      "\n",
      "1. **Identify the tables involved:**\n",
      "   - We need to determine where the sales details (quantity and product) are stored. This information can be found in the `SalesLT.SalesOrderDetail` table.\n",
      "   - We need to determine the product information (including product category). This information can be found in the `SalesLT.Product` table.\n",
      "   - We need to determine the category information (names of the categories). This information can be found in the `SalesLT.ProductCategory` table.\n",
      "\n",
      "2. **Determine the necessary columns:**\n",
      "   - From `SalesLT.SalesOrderDetail`: `ProductID`, `OrderQty`.\n",
      "   - From `SalesLT.Product`: `ProductID`, `ProductCategoryID`.\n",
      "   - From `SalesLT.ProductCategory`: `ProductCategoryID`, `Name`.\n",
      "\n",
      "3. **Write the SQL query:**\n",
      "   - We need to join these three tables on their respective keys (`ProductID` and `ProductCategoryID`).\n",
      "   - We will sum up the `OrderQty` for each product category.\n",
      "   - We then need to order the results by the summed quantity in descending order.\n",
      "   - Finally, we limit the results to the top 3 categories.\n",
      "\n",
      "Here's the SQL query based on these steps:\n",
      "\n",
      "```sql\n",
      "SELECT TOP 3 \n",
      "    pc.Name AS ProductCategoryName,\n",
      "    SUM(sod.OrderQty) AS TotalQuantitySold\n",
      "FROM SalesLT.SalesOrderDetail sod\n",
      "JOIN SalesLT.Product p ON sod.ProductID = p.ProductID\n",
      "JOIN SalesLT.ProductCategory pc ON p.ProductCategoryID = pc.ProductCategoryID\n",
      "GROUP BY pc.Name\n",
      "ORDER BY TotalQuantitySold DESC;\n",
      "```\n",
      "\n",
      "<RESPONSE>: The SQL query to execute is as provided above.\n"
     ]
    }
   ],
   "source": [
    "tables_prompt = {\"tables\":[table.model_dump(exclude=['embedding']) for table in indexer.tables]}\n",
    "\n",
    "system_prompt = f\"\"\"\n",
    "You are a helpful AI data analyst assistant, \n",
    "     You can execute SQL queries to retrieve information from a sql database,\n",
    "     The database is SQL server, use the right syntax to generate queries\n",
    "\n",
    "\n",
    "     ### These are the available tables in the database alongside their descriptions:\n",
    "    {tables_prompt}\n",
    "\n",
    "     When asked a question that could be answered with a SQL query: \n",
    "     - Break down the question into smaller parts that can be answered with SQL queries\n",
    "    - Identify the tables that contains the information needed to answer the question\n",
    "     - Only once this is done, create a sql query to retrieve the information based on your understanding of the table\n",
    " \n",
    "    Think step by step, before doing anything, share the different steps you'll execute to get the answer\n",
    "    When you get to a final answer use the following structure to provide the answer:\n",
    "    <RESPONSE>: The SQL query to execute\n",
    "\n",
    "    Example:    \n",
    "    question: \"Show me the first 5 rows of the sales_data table\"\n",
    "    output: Your thought process <RESPONSE>: SELECT TOP 5 * FROM sales_data  \n",
    "\n",
    "\"\"\"\n",
    "\n",
    "messages =[\n",
    "    {\n",
    "        \"role\": \"system\",\n",
    "        \"content\": system_prompt\n",
    "    },\n",
    "    {\n",
    "        \"role\": \"user\",\n",
    "        \"content\": \"What are the top 3 selling product categories?\"\n",
    "    }\n",
    "]\n",
    "\n",
    "response = openai_client.chat.completions.create(\n",
    "                model=\"gpt-4o-global\",\n",
    "                messages=messages)\n",
    "\n",
    "response_message = response.choices[0].message.content\n",
    "print(response_message)\n",
    "\n"
   ]
  },
  {
   "cell_type": "code",
   "execution_count": null,
   "metadata": {},
   "outputs": [],
   "source": []
  }
 ],
 "metadata": {
  "kernelspec": {
   "display_name": "openai",
   "language": "python",
   "name": "python3"
  },
  "language_info": {
   "codemirror_mode": {
    "name": "ipython",
    "version": 3
   },
   "file_extension": ".py",
   "mimetype": "text/x-python",
   "name": "python",
   "nbconvert_exporter": "python",
   "pygments_lexer": "ipython3",
   "version": "3.11.8"
  }
 },
 "nbformat": 4,
 "nbformat_minor": 2
}
