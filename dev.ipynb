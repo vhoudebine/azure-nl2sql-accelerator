{
 "cells": [
  {
   "cell_type": "code",
   "execution_count": null,
   "metadata": {},
   "outputs": [
    {
     "ename": "ImportError",
     "evalue": "cannot import name 'AzureSQLConnector' from 'sql_odbc_toolkit.connectors' (/home/vhoudebine/azure_openai/azure-nl2sql-accelerator/sql_odbc_toolkit/connectors.py)",
     "output_type": "error",
     "traceback": [
      "\u001b[0;31m---------------------------------------------------------------------------\u001b[0m",
      "\u001b[0;31mImportError\u001b[0m                               Traceback (most recent call last)",
      "Cell \u001b[0;32mIn[1], line 1\u001b[0m\n\u001b[0;32m----> 1\u001b[0m \u001b[38;5;28;01mfrom\u001b[39;00m \u001b[38;5;21;01msql_odbc_toolkit\u001b[39;00m\u001b[38;5;21;01m.\u001b[39;00m\u001b[38;5;21;01mconnectors\u001b[39;00m \u001b[38;5;28;01mimport\u001b[39;00m AzureSQLConnector\n\u001b[1;32m      2\u001b[0m \u001b[38;5;28;01mfrom\u001b[39;00m \u001b[38;5;21;01msql_odbc_toolkit\u001b[39;00m\u001b[38;5;21;01m.\u001b[39;00m\u001b[38;5;21;01mdbutils\u001b[39;00m \u001b[38;5;28;01mimport\u001b[39;00m DatabaseUtils\n\u001b[1;32m      4\u001b[0m \u001b[38;5;66;03m# Azure SQL Connection  \u001b[39;00m\n",
      "File \u001b[0;32m~/azure_openai/azure-nl2sql-accelerator/sql_odbc_toolkit/__init__.py:2\u001b[0m\n\u001b[1;32m      1\u001b[0m \u001b[38;5;66;03m# src/sql_odbc_toolkit/__init__.py  \u001b[39;00m\n\u001b[0;32m----> 2\u001b[0m \u001b[38;5;28;01mfrom\u001b[39;00m \u001b[38;5;21;01m.\u001b[39;00m\u001b[38;5;21;01mconnectors\u001b[39;00m \u001b[38;5;28;01mimport\u001b[39;00m AzureSQLConnector, OdbcConnector\n\u001b[1;32m      3\u001b[0m \u001b[38;5;28;01mfrom\u001b[39;00m \u001b[38;5;21;01m.\u001b[39;00m\u001b[38;5;21;01mdbutils\u001b[39;00m \u001b[38;5;28;01mimport\u001b[39;00m DatabaseUtils\n",
      "\u001b[0;31mImportError\u001b[0m: cannot import name 'AzureSQLConnector' from 'sql_odbc_toolkit.connectors' (/home/vhoudebine/azure_openai/azure-nl2sql-accelerator/sql_odbc_toolkit/connectors.py)"
     ]
    }
   ],
   "source": [
    "from module.connectors import AzureSQLConnector\n",
    "from module.dbutils import DatabaseUtils\n",
    "  \n",
    "# Azure SQL Connection  \n",
    "server = 'vince-h-sql.database.windows.net'  \n",
    "database = 'adventureworks'  \n",
    "azure_connector = AzureSQLConnector(server=server, database=database)  \n",
    "db_utils = DatabaseUtils(azure_connector)  \n",
    "  \n",
    "# List tables in the database  \n",
    "print(db_utils.list_database_tables())"
   ]
  },
  {
   "cell_type": "code",
   "execution_count": null,
   "metadata": {},
   "outputs": [],
   "source": [
    "from module.sample_class import AzureSQLConnector"
   ]
  },
  {
   "cell_type": "code",
   "execution_count": null,
   "metadata": {},
   "outputs": [],
   "source": []
  }
 ],
 "metadata": {
  "kernelspec": {
   "display_name": "openai",
   "language": "python",
   "name": "python3"
  },
  "language_info": {
   "codemirror_mode": {
    "name": "ipython",
    "version": 3
   },
   "file_extension": ".py",
   "mimetype": "text/x-python",
   "name": "python",
   "nbconvert_exporter": "python",
   "pygments_lexer": "ipython3",
   "version": "3.11.8"
  }
 },
 "nbformat": 4,
 "nbformat_minor": 2
}
