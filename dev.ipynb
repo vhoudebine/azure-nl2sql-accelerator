{
 "cells": [
  {
   "cell_type": "code",
   "execution_count": 7,
   "metadata": {},
   "outputs": [],
   "source": [
    "import warnings\n",
    "\n",
    "warnings.filterwarnings('ignore')"
   ]
  },
  {
   "cell_type": "code",
   "execution_count": 1,
   "metadata": {},
   "outputs": [
    {
     "name": "stdout",
     "output_type": "stream",
     "text": [
      "[{\"TABLE_NAME\": \"Customer\"}, {\"TABLE_NAME\": \"ProductModel\"}, {\"TABLE_NAME\": \"ProductDescription\"}, {\"TABLE_NAME\": \"Product\"}, {\"TABLE_NAME\": \"ProductModelProductDescription\"}, {\"TABLE_NAME\": \"ProductCategory\"}, {\"TABLE_NAME\": \"BuildVersion\"}, {\"TABLE_NAME\": \"ErrorLog\"}, {\"TABLE_NAME\": \"Address\"}, {\"TABLE_NAME\": \"CustomerAddress\"}, {\"TABLE_NAME\": \"SalesOrderDetail\"}, {\"TABLE_NAME\": \"SalesOrderHeader\"}]\n"
     ]
    },
    {
     "name": "stderr",
     "output_type": "stream",
     "text": [
      "/home/vhoudebine/azure_openai/azure-nl2sql-accelerator/sqltoolkit/dbutils.py:18: UserWarning: pandas only supports SQLAlchemy connectable (engine/connection) or database string URI or sqlite3 DBAPI2 connection. Other DBAPI2 objects are not tested. Please consider using SQLAlchemy.\n",
      "  df = pd.read_sql(query, self.connection)\n"
     ]
    }
   ],
   "source": [
    "from sqltoolkit.connectors import AzureSQLConnector\n",
    "from sqltoolkit.dbutils import DatabaseUtils\n",
    "  \n",
    "# Azure SQL Connection  \n",
    "server = 'vince-h-sql.database.windows.net'  \n",
    "database = 'adventureworks'  \n",
    "azure_connector = AzureSQLConnector(server=server, database=database)  \n",
    "db_utils = DatabaseUtils(azure_connector)  \n",
    "  \n",
    "# List tables in the database  \n",
    "print(db_utils.list_database_tables())"
   ]
  },
  {
   "cell_type": "code",
   "execution_count": null,
   "metadata": {},
   "outputs": [],
   "source": []
  }
 ],
 "metadata": {
  "kernelspec": {
   "display_name": "openai",
   "language": "python",
   "name": "python3"
  },
  "language_info": {
   "codemirror_mode": {
    "name": "ipython",
    "version": 3
   },
   "file_extension": ".py",
   "mimetype": "text/x-python",
   "name": "python",
   "nbconvert_exporter": "python",
   "pygments_lexer": "ipython3",
   "version": "3.11.8"
  }
 },
 "nbformat": 4,
 "nbformat_minor": 2
}
