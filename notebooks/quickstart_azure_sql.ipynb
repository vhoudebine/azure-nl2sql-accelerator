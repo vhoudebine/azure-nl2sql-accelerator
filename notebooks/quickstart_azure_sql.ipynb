{
 "cells": [
  {
   "cell_type": "code",
   "execution_count": null,
   "metadata": {},
   "outputs": [],
   "source": [
    "import sys\n",
    "sys.path.append('..')\n",
    "\n",
    "from sqltoolkit.connectors import AzureSQLConnector\n",
    "from sqltoolkit.client import DatabaseClient\n",
    "from sqltoolkit.entities import Table, TableColumn\n",
    "  \n",
    "# Azure SQL Connection  \n",
    "server = 'vince-h-sql.database.windows.net'  \n",
    "database = 'adventureworks'  \n",
    "azure_connector = AzureSQLConnector(server=server, database=database)  \n",
    "sql_client = DatabaseClient(azure_connector)\n",
    "  "
   ]
  },
  {
   "cell_type": "code",
   "execution_count": 2,
   "metadata": {},
   "outputs": [],
   "source": [
    "from openai import AzureOpenAI\n",
    "from dotenv import load_dotenv\n",
    "import os\n",
    "\n",
    "load_dotenv()\n",
    "\n",
    "aoai_endpoint = os.getenv('OPENAI_ENDPOINT')\n",
    "aoai_key = os.getenv('OPENAI_API_KEY')\n",
    "aoai_deployment = os.getenv('OPENAI_4o_DEPLOYMENT') # should be GPT-4o\n",
    "aoai_embedding_deployment = os.getenv('OPENAI_EMBEDDING_DEPLOYMENT') # should be text-embedding-small\n",
    "\n",
    "openai_client = AzureOpenAI(azure_endpoint=aoai_endpoint,\n",
    "    api_key=aoai_key,\n",
    "    api_version='2024-10-21')"
   ]
  },
  {
   "cell_type": "markdown",
   "metadata": {},
   "source": [
    "### Generating table descriptions from the database"
   ]
  },
  {
   "cell_type": "code",
   "execution_count": 3,
   "metadata": {},
   "outputs": [
    {
     "name": "stderr",
     "output_type": "stream",
     "text": [
      "2024-12-17 12:12:05,296 - DatabaseIndexer - INFO - Fetching tables from the database.\n",
      "2024-12-17 12:12:05,662 - DatabaseIndexer - INFO - Filtered tables: ['SalesLT.SalesOrderHeader']\n",
      "2024-12-17 12:12:05,664 - DatabaseIndexer - INFO - Processing table: SalesLT.SalesOrderHeader\n",
      "2024-12-17 12:12:37,719 - DatabaseIndexer - INFO - Completed processing table: SalesLT.SalesOrderHeader\n",
      "2024-12-17 12:12:37,720 - DatabaseIndexer - INFO - Completed fetching and processing all tables.\n"
     ]
    }
   ],
   "source": [
    "from sqltoolkit.indexer import DatabaseIndexer\n",
    "\n",
    "indexer = DatabaseIndexer(sql_client, \n",
    "                          openai_client, \n",
    "                          aoai_deployment,\n",
    "                          aoai_embedding_deployment)\n",
    "\n",
    "table_subset = ['SalesLT.SalesOrderHeader', \n",
    "                'SalesLT.SalesOrderDetail',\n",
    "                'SalesLT.Product',\n",
    "                'SalesLT.Customer',\n",
    "                'SalesLT.ProductCategory']\n",
    "\n",
    "table_subset = ['SalesLT.SalesOrderHeader']\n",
    "manifest = indexer.fetch_and_describe_tables(table_list=table_subset)\n",
    "indexer.generate_table_embeddings()\n",
    "\n",
    "tables_dict = indexer.export_json_manifest()\n",
    "\n",
    "with open('tables_manifest.json', 'w') as f:\n",
    "    f.write(tables_dict)"
   ]
  },
  {
   "cell_type": "code",
   "execution_count": 4,
   "metadata": {},
   "outputs": [
    {
     "name": "stdout",
     "output_type": "stream",
     "text": [
      "The SalesLT.SalesOrderHeader table contains information related to sales orders, including details such as order dates, shipping and billing addresses, and payment specifics. This table is essential for managing and tracking sales orders from initiation through fulfillment and delivery. It includes identifiers for sales, customer, and purchase orders, as well as financial data like subtotals, taxes, and totals due. The table also provides status updates and comments for each order, facilitating comprehensive order management and analysis.\n"
     ]
    }
   ],
   "source": [
    "print(indexer.tables[0].description)"
   ]
  },
  {
   "cell_type": "markdown",
   "metadata": {},
   "source": [
    "### Building AI Search Index and pushing data"
   ]
  },
  {
   "cell_type": "code",
   "execution_count": 15,
   "metadata": {},
   "outputs": [],
   "source": [
    "search_endpoint = os.getenv('AI_SEARCH_ENDPOINT')\n",
    "search_key = os.getenv('AI_SEARCH_API_KEY')\n",
    "embedding_deployment = os.getenv('OPENAI_EMBEDDING_DEPLOYMENT')\n",
    "index_name = 'adventureworks'\n"
   ]
  },
  {
   "cell_type": "code",
   "execution_count": null,
   "metadata": {},
   "outputs": [],
   "source": [
    "\n",
    "indexer.create_azure_ai_search_index(\n",
    "    search_endpoint=search_endpoint,\n",
    "    search_credential=search_key,\n",
    "    index_name=index_name,\n",
    "    embedding_deployment=aoai_embedding_deployment,\n",
    "    openai_endpoint=aoai_endpoint,\n",
    "    openai_key=aoai_key,\n",
    ")"
   ]
  },
  {
   "cell_type": "code",
   "execution_count": 6,
   "metadata": {},
   "outputs": [
    {
     "name": "stderr",
     "output_type": "stream",
     "text": [
      "2024-12-09 15:58:43,476 - DatabaseIndexer - INFO - Pushing metadata for 12 tables to Azure AI Search.\n"
     ]
    },
    {
     "name": "stdout",
     "output_type": "stream",
     "text": [
      "Pushing data for table SalesLT.Customer to the index.\n"
     ]
    },
    {
     "name": "stderr",
     "output_type": "stream",
     "text": [
      "2024-12-09 15:58:43,812 - DatabaseIndexer - INFO - Data for table SalesLT.Customer pushed to the index.\n",
      "2024-12-09 15:58:43,898 - DatabaseIndexer - INFO - Data for table SalesLT.ProductModel pushed to the index.\n",
      "2024-12-09 15:58:43,999 - DatabaseIndexer - INFO - Data for table SalesLT.ProductDescription pushed to the index.\n"
     ]
    },
    {
     "name": "stdout",
     "output_type": "stream",
     "text": [
      "Pushing data for table SalesLT.ProductModel to the index.\n",
      "Pushing data for table SalesLT.ProductDescription to the index.\n",
      "Pushing data for table SalesLT.Product to the index.\n"
     ]
    },
    {
     "name": "stderr",
     "output_type": "stream",
     "text": [
      "2024-12-09 15:58:44,116 - DatabaseIndexer - INFO - Data for table SalesLT.Product pushed to the index.\n",
      "2024-12-09 15:58:44,206 - DatabaseIndexer - INFO - Data for table SalesLT.ProductModelProductDescription pushed to the index.\n",
      "2024-12-09 15:58:44,284 - DatabaseIndexer - INFO - Data for table SalesLT.ProductCategory pushed to the index.\n"
     ]
    },
    {
     "name": "stdout",
     "output_type": "stream",
     "text": [
      "Pushing data for table SalesLT.ProductModelProductDescription to the index.\n",
      "Pushing data for table SalesLT.ProductCategory to the index.\n",
      "Pushing data for table dbo.BuildVersion to the index.\n"
     ]
    },
    {
     "name": "stderr",
     "output_type": "stream",
     "text": [
      "2024-12-09 15:58:44,380 - DatabaseIndexer - INFO - Data for table dbo.BuildVersion pushed to the index.\n",
      "2024-12-09 15:58:44,455 - DatabaseIndexer - INFO - Data for table dbo.ErrorLog pushed to the index.\n",
      "2024-12-09 15:58:44,529 - DatabaseIndexer - INFO - Data for table SalesLT.Address pushed to the index.\n"
     ]
    },
    {
     "name": "stdout",
     "output_type": "stream",
     "text": [
      "Pushing data for table dbo.ErrorLog to the index.\n",
      "Pushing data for table SalesLT.Address to the index.\n",
      "Pushing data for table SalesLT.CustomerAddress to the index.\n"
     ]
    },
    {
     "name": "stderr",
     "output_type": "stream",
     "text": [
      "2024-12-09 15:58:44,612 - DatabaseIndexer - INFO - Data for table SalesLT.CustomerAddress pushed to the index.\n",
      "2024-12-09 15:58:44,706 - DatabaseIndexer - INFO - Data for table SalesLT.SalesOrderDetail pushed to the index.\n"
     ]
    },
    {
     "name": "stdout",
     "output_type": "stream",
     "text": [
      "Pushing data for table SalesLT.SalesOrderDetail to the index.\n",
      "Pushing data for table SalesLT.SalesOrderHeader to the index.\n"
     ]
    },
    {
     "name": "stderr",
     "output_type": "stream",
     "text": [
      "2024-12-09 15:58:44,829 - DatabaseIndexer - INFO - Data for table SalesLT.SalesOrderHeader pushed to the index.\n"
     ]
    }
   ],
   "source": [
    "# write to AI Search\n",
    "indexer.push_to_ai_search()"
   ]
  },
  {
   "cell_type": "markdown",
   "metadata": {},
   "source": [
    "### RAG + Query generation with gpt-4o"
   ]
  },
  {
   "cell_type": "code",
   "execution_count": 26,
   "metadata": {},
   "outputs": [
    {
     "name": "stdout",
     "output_type": "stream",
     "text": [
      "Which product has the highest customer rating or sales in the database?\n"
     ]
    }
   ],
   "source": [
    "# query rewriting\n",
    "user_question = \"what's the best product\"\n",
    "\n",
    "rewriter_prompt = f\"\"\"\n",
    "You are a helpful AI SQL Agent. Your role is to help people translate their questions \n",
    "into better questions that can be translated into SQL queries.\n",
    "You should disimbiguate the question and provide a more specific version of the question to the best of your ability\n",
    "You should rewrite the question in a way that is more likely to be answered by the database.\n",
    "\n",
    "You must only return a single sentence that is a better version of the user's question.\n",
    "\n",
    "\"\"\"\n",
    "\n",
    "messages =[\n",
    "    {\n",
    "        \"role\": \"system\",\n",
    "        \"content\": rewriter_prompt\n",
    "    },\n",
    "    {\n",
    "        \"role\": \"user\",\n",
    "        \"content\": user_question\n",
    "    }\n",
    "]\n",
    "\n",
    "rewriter_response = openai_client.chat.completions.create(\n",
    "                model=\"gpt-4o-mini\",\n",
    "                messages=messages,\n",
    "               )\n",
    "\n",
    "rewriter_response = rewriter_response.choices[0].message.content\n",
    "print(rewriter_response)"
   ]
  },
  {
   "cell_type": "code",
   "execution_count": 22,
   "metadata": {},
   "outputs": [],
   "source": [
    "from azure.search.documents import SearchClient\n",
    "from azure.search.documents.models import QueryType, QueryCaptionType, QueryAnswerType\n",
    "from azure.search.documents.models import VectorizableTextQuery\n",
    "from azure.core.credentials import AzureKeyCredential\n",
    "import json\n",
    "\n",
    "search_client = SearchClient(endpoint=search_endpoint, \n",
    "                             credential=AzureKeyCredential(search_key), \n",
    "                             index_name=index_name)\n",
    "\n",
    "  \n",
    "vector_query = VectorizableTextQuery(text=rewriter_response, \n",
    "                                     k_nearest_neighbors=50, \n",
    "                                     fields=\"embedding\")\n",
    "\n",
    "results = search_client.search(  \n",
    "    search_text=user_question,  \n",
    "    vector_queries=[vector_query],\n",
    "    query_type=QueryType.SEMANTIC,\n",
    "    semantic_configuration_name='my-semantic-config',\n",
    "    query_caption=QueryCaptionType.EXTRACTIVE,\n",
    "    query_answer=QueryAnswerType.EXTRACTIVE,\n",
    "    top=3\n",
    ")\n",
    "  \n",
    "candidate_tables = []\n",
    "for result in results:\n",
    "    candidate_tables.append(\n",
    "        json.dumps({key: result[key] for key in ['name',\n",
    "                                                 'business_readable_name',\n",
    "                                                 'description',\n",
    "                                                 'columns'] if key in result}, indent=4))\n"
   ]
  },
  {
   "cell_type": "code",
   "execution_count": 21,
   "metadata": {},
   "outputs": [
    {
     "data": {
      "text/plain": [
       "['{\\n    \"name\": \"SalesLT.Product\",\\n    \"business_readable_name\": \"Product Details\",\\n    \"description\": \"The SalesLT.Product table in the database contains detailed information about products available for sale. It includes identifiers for products and their categories and models, as well as attributes such as product names, numbers, colors, sizes, weights, costs, and prices. The table also records important dates related to product availability and discontinuation, as well as details for managing product images. This table is essential for inventory management, product categorization, and sales analysis.\",\\n    \"columns\": [\\n        {\\n            \"name\": \"ProductID\",\\n            \"type\": \"int\",\\n            \"description\": null,\\n            \"definition\": \"The ProductID column in the SalesLT.Product table is an integer field that serves as the primary key for the table, uniquely identifying each product entry. It contains distinct numerical identifiers assigned to each product in the table. This column is essential for establishing relationships with other tables and ensuring that each product can be referenced accurately and efficiently.\",\\n            \"primary_key\": true,\\n            \"sample_values\": [\\n                \"680\",\\n                \"706\",\\n                \"707\",\\n                \"708\",\\n                \"709\",\\n                \"710\",\\n                \"711\",\\n                \"712\",\\n                \"713\",\\n                \"714\"\\n            ]\\n        },\\n        {\\n            \"name\": \"Name\",\\n            \"type\": \"nvarchar\",\\n            \"description\": null,\\n            \"definition\": \"The Name column in the SalesLT.Product table contains the complete names of the products. Each entry in this column is a descriptive string that uniquely identifies a product, such as \\\\\"All-Purpose Bike Stand\\\\\" or \\\\\"AWC Logo Cap\\\\\". The values in this column are used to provide a clear and specific identification of each product in the inventory. This column is particularly useful for displaying product names in user interfaces and for identifying items in queries.\",\\n            \"primary_key\": false,\\n            \"sample_values\": [\\n                \"All-Purpose Bike Stand\",\\n                \"AWC Logo Cap\",\\n                \"Bike Wash - Dissolver\",\\n                \"Cable Lock\",\\n                \"Chain\",\\n                \"Classic Vest, L\",\\n                \"Classic Vest, M\",\\n                \"Classic Vest, S\",\\n                \"Fender Set - Mountain\",\\n                \"Front Brakes\"\\n            ]\\n        },\\n        {\\n            \"name\": \"ProductNumber\",\\n            \"type\": \"nvarchar\",\\n            \"description\": null,\\n            \"definition\": \"The ProductNumber column in the SalesLT.Product table contains alphanumeric strings that uniquely identify each product within the product inventory. These identifiers follow a specific format typically including both letters and numbers, which can be useful for categorizing and distinguishing between different products. The ProductNumber is a crucial attribute for lookup and reference in managing product data and is often used in conjunction with other product attributes in queries.\",\\n            \"primary_key\": false,\\n            \"sample_values\": [\\n                \"BB-7421\",\\n                \"BB-8107\",\\n                \"BB-9108\",\\n                \"BC-M005\",\\n                \"BC-R205\",\\n                \"BK-M18B-40\",\\n                \"BK-M18B-42\",\\n                \"BK-M18B-44\",\\n                \"BK-M18B-48\",\\n                \"BK-M18B-52\"\\n            ]\\n        },\\n        {\\n            \"name\": \"Color\",\\n            \"type\": \"nvarchar\",\\n            \"description\": null,\\n            \"definition\": \"The \\\\\"Color\\\\\" column in the \\\\\"SalesLT.Product\\\\\" table contains data representing the color of each product. It is stored as an nvarchar data type, which suggests that the color names are stored as text values. The possible values in this column include a variety of colors such as \\\\\"Black,\\\\\" \\\\\"Blue,\\\\\" \\\\\"Grey,\\\\\" and combinations like \\\\\"Silver/Black.\\\\\" This column can be used to filter products based on their color.\",\\n            \"primary_key\": false,\\n            \"sample_values\": [\\n                \"Black\",\\n                \"Blue\",\\n                \"Grey\",\\n                \"Multi\",\\n                \"Red\",\\n                \"Silver\",\\n                \"Silver/Black\",\\n                \"White\",\\n                \"Yellow\"\\n            ]\\n        },\\n        {\\n            \"name\": \"StandardCost\",\\n            \"type\": \"money\",\\n            \"description\": null,\\n            \"definition\": \"The StandardCost column in the SalesLT.Product table represents the base cost to produce or purchase a product. This column is of the money data type, indicating that it contains monetary values. The values in this column are utilized to determine the profitability and pricing strategies for products. StandardCost is essential for financial analysis and inventory management within the sales and production processes.\",\\n            \"primary_key\": false,\\n            \"sample_values\": [\\n                \"0.8565\",\\n                \"1.4923\",\\n                \"1.8663\",\\n                \"2.9733\",\\n                \"3.3623\",\\n                \"3.3963\",\\n                \"3.7363\",\\n                \"5.7709\",\\n                \"6.9223\",\\n                \"8.0373\"\\n            ]\\n        },\\n        {\\n            \"name\": \"ListPrice\",\\n            \"type\": \"money\",\\n            \"description\": null,\\n            \"definition\": \"The ListPrice column in the SalesLT.Product table contains the monetary value at which a product is listed for sale. It represents the price consumers need to pay to purchase each product from the inventory. This column is crucial for sales and pricing analysis within the product catalog. The data type is money, indicating that it can contain fractional values to accommodate precise pricing.\",\\n            \"primary_key\": false,\\n            \"sample_values\": [\\n                \"2.29\",\\n                \"3.99\",\\n                \"4.99\",\\n                \"7.95\",\\n                \"8.99\",\\n                \"9.5\",\\n                \"9.99\",\\n                \"13.99\",\\n                \"19.99\",\\n                \"20.24\"\\n            ]\\n        },\\n        {\\n            \"name\": \"Size\",\\n            \"type\": \"nvarchar\",\\n            \"description\": null,\\n            \"definition\": \"The \\\\\"Size\\\\\" column in the SalesLT.Product table contains data regarding the size specification of the product. The values in this column are of nvarchar type and typically represent numerical size designations, such as \\\\\"38\\\\\", \\\\\"40\\\\\", \\\\\"42\\\\\", etc. This column is used to indicate the physical size of a product, which can vary depending on the type of product being described (e.g., clothing, equipment). This information is crucial for sorting, filtering, and selecting products based on their size attributes in queries.\",\\n            \"primary_key\": false,\\n            \"sample_values\": [\\n                \"38\",\\n                \"40\",\\n                \"42\",\\n                \"44\",\\n                \"46\",\\n                \"48\",\\n                \"50\",\\n                \"52\",\\n                \"54\"\\n            ]\\n        },\\n        {\\n            \"name\": \"Weight\",\\n            \"type\": \"decimal\",\\n            \"description\": null,\\n            \"definition\": \"The Weight column in the SalesLT.Product table stores the weight of each product as a decimal value. This field may contain null values, indicating that the weight is not available for certain products. The weight is measured in a consistent unit (not specified) and varies significantly between different products. It is useful for various calculations such as shipping costs and inventory management.\",\\n            \"primary_key\": false,\\n            \"sample_values\": [\\n                \"nan\",\\n                \"88.0\",\\n                \"149.0\",\\n                \"168.0\",\\n                \"170.0\",\\n                \"185.0\",\\n                \"189.0\",\\n                \"215.0\",\\n                \"218.0\",\\n                \"223.0\"\\n            ]\\n        },\\n        {\\n            \"name\": \"ProductCategoryID\",\\n            \"type\": \"int\",\\n            \"description\": null,\\n            \"definition\": \"ProductCategoryID is an integer column in the SalesLT.Product table that identifies the category to which each product belongs. This identifier helps in categorizing and grouping products for organizational and analytical purposes. Each unique ProductCategoryID corresponds to a specific category in the product catalog.\",\\n            \"primary_key\": false,\\n            \"sample_values\": [\\n                \"5\",\\n                \"6\",\\n                \"7\",\\n                \"8\",\\n                \"9\",\\n                \"10\",\\n                \"11\",\\n                \"12\",\\n                \"13\",\\n                \"14\"\\n            ]\\n        },\\n        {\\n            \"name\": \"ProductModelID\",\\n            \"type\": \"int\",\\n            \"description\": null,\\n            \"definition\": \"The ProductModelID column in the SalesLT.Product table is an integer that uniquely identifies the model of a particular product. It is a foreign key reference to another table that contains detailed information about each product model. This column helps in associating products with their respective models, facilitating comprehensive product management and categorization.\",\\n            \"primary_key\": false,\\n            \"sample_values\": [\\n                \"1\",\\n                \"2\",\\n                \"3\",\\n                \"4\",\\n                \"5\",\\n                \"6\",\\n                \"7\",\\n                \"8\",\\n                \"9\",\\n                \"10\"\\n            ]\\n        },\\n        {\\n            \"name\": \"SellStartDate\",\\n            \"type\": \"datetime\",\\n            \"description\": null,\\n            \"definition\": \"The SellStartDate column in the SalesLT.Product table represents the date and time when a product became available for sale. This column is of the datetime data type and contains the exact timestamp for when the sales for a particular product started. It is used to determine the sales lifecycle and can be useful for filtering products based on their availability start date.\",\\n            \"primary_key\": false,\\n            \"sample_values\": [\\n                \"2002-06-01\",\\n                \"2005-07-01\",\\n                \"2006-07-01\",\\n                \"2007-07-01\"\\n            ]\\n        },\\n        {\\n            \"name\": \"SellEndDate\",\\n            \"type\": \"datetime\",\\n            \"description\": null,\\n            \"definition\": \"The SellEndDate column in the SalesLT.Product table contains the date and time when the product was no longer available for sale. The data in this column is of the datetime type, which includes both date and time information. If a product is still available for sale, the SellEndDate value may be null or not applicable. When querying this column, one might filter out products that are no longer sold or determine the time frame during which a product was available for sale.\",\\n            \"primary_key\": false,\\n            \"sample_values\": [\\n                \"NaT\",\\n                \"2006-06-30\",\\n                \"2007-06-30\"\\n            ]\\n        },\\n        {\\n            \"name\": \"DiscontinuedDate\",\\n            \"type\": \"datetime\",\\n            \"description\": null,\\n            \"definition\": \"The DiscontinuedDate column in the SalesLT.Product table represents the date when a product was officially discontinued. This column contains datetime data and indicates when the product stopped being available for sale. It may have null values for products that have not been discontinued. This information is critical for understanding the lifecycle of a product and can be used for filtering out discontinued items in queries.\",\\n            \"primary_key\": false,\\n            \"sample_values\": []\\n        },\\n        {\\n            \"name\": \"ThumbNailPhoto\",\\n            \"type\": \"varbinary\",\\n            \"description\": null,\\n            \"definition\": \"The \\\\\"ThumbNailPhoto\\\\\" column in the \\\\\"SalesLT.Product\\\\\" table contains binary data representing thumbnail images associated with each product. This column stores the image data in a varbinary format. It is used to provide a visual representation of the respective product in a small-sized image format. The actual image data is not directly readable but can be rendered appropriately by applications that support image binary data.\",\\n            \"primary_key\": false,\\n            \"sample_values\": []\\n        },\\n        {\\n            \"name\": \"ThumbnailPhotoFileName\",\\n            \"type\": \"nvarchar\",\\n            \"description\": null,\\n            \"definition\": \"The column ThumbnailPhotoFileName in the SalesLT.Product table stores the filename of the thumbnail photo associated with each product. It is a string (nvarchar) that includes the name and extension of the image file. This column helps identify and retrieve the specific thumbnail photo representing the product in the database.\",\\n            \"primary_key\": false,\\n            \"sample_values\": [\\n                \"awc_jersey_male_small.gif\",\\n                \"awc_tee_male_yellow_small.gif\",\\n                \"bike_lock_small.gif\",\\n                \"bikepump_small.gif\",\\n                \"clipless_pedals_small.gif\",\\n                \"double_headlight_small.gif\",\\n                \"fork_small.gif\",\\n                \"frame_black_small.gif\",\\n                \"frame_silver_small.gif\",\\n                \"frame_small.gif\"\\n            ]\\n        },\\n        {\\n            \"name\": \"rowguid\",\\n            \"type\": \"uniqueidentifier\",\\n            \"description\": null,\\n            \"definition\": \"The rowguid column in the SalesLT.Product table is a uniqueidentifier data type that stores globally unique identifiers (GUIDs). Each value in this column is a unique string that identifies a specific row within the table, ensuring that each product entry can be distinctly referenced. This column is typically used for synchronization purposes or to ensure the uniqueness of records when integrating with other databases or systems. It is not intended to convey any business-relevant information about the product itself, but rather to serve as a means of identifying each row uniquely.\",\\n            \"primary_key\": false,\\n            \"sample_values\": [\\n                \"7A927632-99A4-4F24-ADCE-0062D2D113D9\",\\n                \"CA74B54E-FC30-4464-8B83-019BFD1B2DBB\",\\n                \"87B81A1A-A5B5-43D2-A20D-0230800490B9\",\\n                \"9E66DE78-DECB-438A-B9A9-023C773C60A2\",\\n                \"F246ACAA-A80B-40EC-9208-02EDEF885129\",\\n                \"0C61E8AF-003D-4E4B-B5B7-02F01A26BE26\",\\n                \"906D42F6-C21F-4D20-B528-02FFDB55FD1E\",\\n                \"C9FD1DF4-9512-420A-B379-067108033B75\",\\n                \"DEA33347-FCD3-4346-AA0F-068CD6B3AD06\",\\n                \"FC362C1A-4B9C-4D5F-A6D3-0775846C61F0\"\\n            ]\\n        },\\n        {\\n            \"name\": \"ModifiedDate\",\\n            \"type\": \"datetime\",\\n            \"description\": null,\\n            \"definition\": \"The ModifiedDate column in the SalesLT.Product table represents the date and time when a particular product record was last updated. This column is of the datetime data type, indicating that it contains both date and time information. It is used to track changes and updates made to the product information, helping to maintain data accuracy and historical records. The ModifiedDate is essential for auditing and synchronization purposes within the database.\",\\n            \"primary_key\": false,\\n            \"sample_values\": [\\n                \"2008-03-11 10:01:36.827\",\\n                \"2008-03-11 10:03:55.510\"\\n            ]\\n        }\\n    ]\\n}',\n",
       " '{\\n    \"name\": \"SalesLT.ProductCategory\",\\n    \"business_readable_name\": \"Product Categories\",\\n    \"description\": \"The SalesLT.ProductCategory table contains information about the different product categories in a sales database. Each category is uniquely identified and can have a hierarchical relationship with other categories through a parent category. The table also stores the name of each category, a unique identifier for each row, and the date and time when the category was last modified. This allows for efficient organization, navigation, and tracking of product categories within the product catalog.\",\\n    \"columns\": [\\n        {\\n            \"name\": \"ProductCategoryID\",\\n            \"type\": \"int\",\\n            \"description\": null,\\n            \"definition\": \"ProductCategoryID is an integer column in the SalesLT.ProductCategory table and serves as the primary key. It uniquely identifies each product category within the table. Values in this column are unique and are used to differentiate one product category from another.\",\\n            \"primary_key\": true,\\n            \"sample_values\": [\\n                \"1\",\\n                \"2\",\\n                \"3\",\\n                \"4\",\\n                \"5\",\\n                \"6\",\\n                \"7\",\\n                \"8\",\\n                \"9\",\\n                \"10\"\\n            ]\\n        },\\n        {\\n            \"name\": \"ParentProductCategoryID\",\\n            \"type\": \"int\",\\n            \"description\": null,\\n            \"definition\": \"The ParentProductCategoryID column in the SalesLT.ProductCategory table is an integer that identifies the parent category of a given product category. This column contains integer values or may be null if the product category does not have a parent category, indicating it is a top-level category. It is used to establish a hierarchical relationship among product categories, where each category can have a parent category, facilitating category organization and navigation within the product catalog.\",\\n            \"primary_key\": false,\\n            \"sample_values\": [\\n                \"nan\",\\n                \"1.0\",\\n                \"2.0\",\\n                \"3.0\",\\n                \"4.0\"\\n            ]\\n        },\\n        {\\n            \"name\": \"Name\",\\n            \"type\": \"nvarchar\",\\n            \"description\": null,\\n            \"definition\": \"The \\\\\"Name\\\\\" column in the SalesLT.ProductCategory table contains the names of different product categories. These names are stored as nvarchar strings and represent various categories such as \\\\\"Accessories,\\\\\" \\\\\"Bikes,\\\\\" and \\\\\"Brakes.\\\\\" The values in this column are unique identifiers for the types of products being categorized within the database.\",\\n            \"primary_key\": false,\\n            \"sample_values\": [\\n                \"Accessories\",\\n                \"Bib-Shorts\",\\n                \"Bike Racks\",\\n                \"Bike Stands\",\\n                \"Bikes\",\\n                \"Bottles and Cages\",\\n                \"Bottom Brackets\",\\n                \"Brakes\",\\n                \"Caps\",\\n                \"Chains\"\\n            ]\\n        },\\n        {\\n            \"name\": \"rowguid\",\\n            \"type\": \"uniqueidentifier\",\\n            \"description\": null,\\n            \"definition\": \"The rowguid column in the SalesLT.ProductCategory table is a unique identifier for each row, typically used to uniquely identify records in the table. This column\\'s data type is uniqueidentifier, which allows for the storage of globally unique values. It ensures that each record can be distinctly retrieved and is commonly used for database replication or to merge and synchronize data across different systems.\",\\n            \"primary_key\": false,\\n            \"sample_values\": [\\n                \"7C782BBE-5A16-495A-AA50-10AFE5A84AF2\",\\n                \"9B7DFF41-9FA3-4776-8DEF-2C9A48C8B779\",\\n                \"FE4D46F2-C87C-48C5-A4A1-3F55712D80B1\",\\n                \"92D5657B-0032-4E49-BAD5-41A441A70942\",\\n                \"5515F857-075B-4F9A-87B7-43B4997077B3\",\\n                \"000310C0-BCC8-42C4-B0C3-45AE611AF06B\",\\n                \"10A7C342-CA82-48D4-8A38-46A2EB089B74\",\\n                \"D43BA4A3-EF0D-426B-90EB-4BE4547DD30C\",\\n                \"61B21B65-E16A-4BE7-9300-4D8E9DB861BE\",\\n                \"1A5BA5B3-03C3-457C-B11E-4FA85EDE87DA\"\\n            ]\\n        },\\n        {\\n            \"name\": \"ModifiedDate\",\\n            \"type\": \"datetime\",\\n            \"description\": null,\\n            \"definition\": \"The ModifiedDate column in the SalesLT.ProductCategory table is of datetime type and records the date and time when a product category was last updated. This column helps in tracking changes and maintaining the history of modifications made to the product categories. The values in this column can be used to filter and identify records that have been updated within a specific timeframe.\",\\n            \"primary_key\": false,\\n            \"sample_values\": [\\n                \"2002-06-01\"\\n            ]\\n        }\\n    ]\\n}',\n",
       " '{\\n    \"name\": \"SalesLT.SalesOrderDetail\",\\n    \"business_readable_name\": \"Sales Order Line Items\",\\n    \"description\": \"The SalesLT.SalesOrderDetail table stores detailed information about each sales order in the system. It includes various data points for each order line, such as the quantity ordered, product identification, pricing, discounts, and the total cost of each line item. This table is essential for tracking individual sales transactions, calculating total sales amounts, and managing inventory accurately. It also provides timestamps for the modification dates of each order detail, aiding in data integrity and audit trails.\",\\n    \"columns\": [\\n        {\\n            \"name\": \"SalesOrderID\",\\n            \"type\": \"int\",\\n            \"description\": null,\\n            \"definition\": \"SalesOrderID is an integer column in the SalesLT.SalesOrderDetail table that serves as a primary key. This column uniquely identifies each sales order in the database and is used to establish relationships between different tables, such as linking order details to their respective sales orders. SalesOrderID values are essential for joining tables and querying specific order-related information.\",\\n            \"primary_key\": false,\\n            \"sample_values\": [\\n                \"71774\",\\n                \"71776\",\\n                \"71780\",\\n                \"71782\",\\n                \"71783\",\\n                \"71784\",\\n                \"71796\",\\n                \"71797\",\\n                \"71815\",\\n                \"71816\"\\n            ]\\n        },\\n        {\\n            \"name\": \"SalesOrderID\",\\n            \"type\": \"int\",\\n            \"description\": null,\\n            \"definition\": \"The SalesOrderID column in the SalesLT.SalesOrderDetail table contains integer values that uniquely identify each sales order. This column is a primary key, meaning each value in the column is unique and cannot be null. It is used to reference and link sales order details to the corresponding sales orders. This identifier is essential for tracking and managing individual sales transactions in the database.\",\\n            \"primary_key\": true,\\n            \"sample_values\": [\\n                \"71774\",\\n                \"71776\",\\n                \"71780\",\\n                \"71782\",\\n                \"71783\",\\n                \"71784\",\\n                \"71796\",\\n                \"71797\",\\n                \"71815\",\\n                \"71816\"\\n            ]\\n        },\\n        {\\n            \"name\": \"SalesOrderDetailID\",\\n            \"type\": \"int\",\\n            \"description\": null,\\n            \"definition\": \"SalesOrderDetailID is a column in the SalesLT.SalesOrderDetail table that contains unique integers identifying each specific detail entry within a sales order. Each value in this column is distinct and serves as a primary key to ensure the uniqueness of each row. This column helps in differentiating each detailed line item in a sales order from others in the same table.\",\\n            \"primary_key\": true,\\n            \"sample_values\": [\\n                \"110562\",\\n                \"110563\",\\n                \"110567\",\\n                \"110616\",\\n                \"110617\",\\n                \"110618\",\\n                \"110619\",\\n                \"110620\",\\n                \"110621\",\\n                \"110622\"\\n            ]\\n        },\\n        {\\n            \"name\": \"OrderQty\",\\n            \"type\": \"smallint\",\\n            \"description\": null,\\n            \"definition\": \"The OrderQty column in the SalesLT.SalesOrderDetail table represents the quantity of a specific product ordered in a particular sales order. This column contains small integer values indicating how many units of the product were ordered. It is crucial for tracking the number of items purchased in each transaction and is used in calculating the total price for the sales order.\",\\n            \"primary_key\": false,\\n            \"sample_values\": [\\n                \"1\",\\n                \"2\",\\n                \"3\",\\n                \"4\",\\n                \"5\",\\n                \"6\",\\n                \"7\",\\n                \"8\",\\n                \"9\",\\n                \"10\"\\n            ]\\n        },\\n        {\\n            \"name\": \"ProductID\",\\n            \"type\": \"int\",\\n            \"description\": null,\\n            \"definition\": \"ProductID is an integer column in the SalesLT.SalesOrderDetail table that uniquely identifies the product associated with each sales order detail. This column is critical for linking each sales order detail to a specific product in the inventory. It is used to determine which product was sold, allowing for detailed sales tracking and inventory management. ProductID is not a primary key but is essential for proper product identification within sales transactions.\",\\n            \"primary_key\": false,\\n            \"sample_values\": [\\n                \"707\",\\n                \"708\",\\n                \"711\",\\n                \"712\",\\n                \"714\",\\n                \"715\",\\n                \"716\",\\n                \"717\",\\n                \"718\",\\n                \"722\"\\n            ]\\n        },\\n        {\\n            \"name\": \"UnitPrice\",\\n            \"type\": \"money\",\\n            \"description\": null,\\n            \"definition\": \"The UnitPrice column in the SalesLT.SalesOrderDetail table represents the price at which a single unit of a product is sold. This column stores data in the \\'money\\' datatype, indicating monetary values. It is crucial for calculating the total sales amount for each order line when combined with the OrderQty and any applicable discounts in the UnitPriceDiscount column. Accurate entries in this column are essential for proper financial reporting and sales analysis.\",\\n            \"primary_key\": false,\\n            \"sample_values\": [\\n                \"1.374\",\\n                \"2.8942\",\\n                \"2.994\",\\n                \"4.3725\",\\n                \"4.77\",\\n                \"5.2142\",\\n                \"5.394\",\\n                \"12.144\",\\n                \"14.694\",\\n                \"16.272\"\\n            ]\\n        },\\n        {\\n            \"name\": \"UnitPriceDiscount\",\\n            \"type\": \"money\",\\n            \"description\": null,\\n            \"definition\": \"The UnitPriceDiscount column in the SalesLT.SalesOrderDetail table stores the discount applied to the unit price of a product in a sales order. The values are in monetary format, representing the amount subtracted from the UnitPrice. This field helps calculate the final price a customer pays per unit of the product. The discount values typically range from 0.0 to a certain maximum value, reflecting different promotion levels or sales incentives.\",\\n            \"primary_key\": false,\\n            \"sample_values\": [\\n                \"0.0\",\\n                \"0.02\",\\n                \"0.05\",\\n                \"0.1\",\\n                \"0.4\"\\n            ]\\n        },\\n        {\\n            \"name\": \"LineTotal\",\\n            \"type\": \"numeric\",\\n            \"description\": null,\\n            \"definition\": \"The LineTotal column in the SalesLT.SalesOrderDetail table represents the total monetary value of a sales order line, calculated as the product of the quantity ordered, the unit price, and any applicable discounts. The column stores numeric values, indicating the overall cost for each item listed within a sales order. It is used to summarize the financial amount due for each line item in an order. This column is essential for financial analysis and reporting within the sales order details.\",\\n            \"primary_key\": false,\\n            \"sample_values\": [\\n                \"2.994\",\\n                \"4.77\",\\n                \"5.394\",\\n                \"8.244\",\\n                \"10.788\",\\n                \"10.992\",\\n                \"12.144\",\\n                \"14.694\",\\n                \"16.182\",\\n                \"16.272\"\\n            ]\\n        },\\n        {\\n            \"name\": \"rowguid\",\\n            \"type\": \"uniqueidentifier\",\\n            \"description\": null,\\n            \"definition\": \"The column \\\\\"rowguid\\\\\" in the SalesLT.SalesOrderDetail table contains uniqueidentifier data which serves as a globally unique identifier (GUID) for each row. This column is used to ensure that each row can be uniquely identified across the entire table, regardless of the primary key constraints. The values in this column are typically generated automatically and can be used to track and reference specific rows throughout the database.\",\\n            \"primary_key\": false,\\n            \"sample_values\": [\\n                \"6A7322F6-6E11-45C2-8B9E-004714CD9716\",\\n                \"93D36328-D201-49C3-981B-0082F93F305A\",\\n                \"3FDA5638-56EA-411A-A131-01CF7AC0D771\",\\n                \"B9E766B8-CE94-4452-BB4B-02FA8138B193\",\\n                \"CC0C8BE2-787B-4C97-A568-02FACC05D55B\",\\n                \"169C75F6-A364-46E3-8DDB-033528177458\",\\n                \"598385DD-EA19-409E-8F17-03AB651165D0\",\\n                \"CFE87323-1BCA-4443-B4E5-05177FD80E7D\",\\n                \"74E94A04-5C2B-4821-8FC7-069204B0BA4A\",\\n                \"0437F448-EDF0-48ED-8A88-0743E136D2DA\"\\n            ]\\n        },\\n        {\\n            \"name\": \"ModifiedDate\",\\n            \"type\": \"datetime\",\\n            \"description\": null,\\n            \"definition\": \"The ModifiedDate column in the SalesLT.SalesOrderDetail table holds datetime values that indicate the last date and time when the sales order detail record was modified. This column is useful for tracking the most recent updates to the order details and for auditing purposes. It ensures that any changes to the sales order details are accurately recorded with a precise timestamp.\",\\n            \"primary_key\": false,\\n            \"sample_values\": [\\n                \"2008-06-01\"\\n            ]\\n        }\\n    ]\\n}']"
      ]
     },
     "execution_count": 21,
     "metadata": {},
     "output_type": "execute_result"
    }
   ],
   "source": [
    "candidate_tables"
   ]
  },
  {
   "cell_type": "code",
   "execution_count": 23,
   "metadata": {},
   "outputs": [
    {
     "data": {
      "text/plain": [
       "{'chain_of_thought': \"To determine the difference between the most popular and least popular products, we first need to identify what metric we are using to determine popularity. Usually, this metric could be based on sales numbers, quantities sold, or customer reviews. Since the provided information does not include such metrics, we'll assume sales numbers as the determining factor.\\n We assume that there is another table that tracks sales transactions including product sales metrics. Let's break this down step-by-step:\\n\\n1. Identify the table that includes sales information related to products (this information is not given, but I'll assume a common name for such a table such as `SalesLT.SalesOrderDetail`).\\n2. Calculate the total sales for each product.\\n3. Identify the most popular product (highest sales) and the least popular product (lowest sales).\\n4. Calculate the difference between the sales of the most popular and least popular products.\",\n",
       " 'sql_query': 'WITH ProductSales AS (\\n    SELECT\\n        ProductID,\\n        SUM(OrderQty) AS TotalSales\\n    FROM SalesLT.SalesOrderDetail\\n    GROUP BY ProductID\\n),\\nMostPopularProduct AS (\\n    SELECT TOP 1\\n        ProductID,\\n        TotalSales\\n    FROM ProductSales\\n    ORDER BY TotalSales DESC\\n),\\nLeastPopularProduct AS (\\n    SELECT TOP 1\\n        ProductID,\\n        TotalSales\\n    FROM ProductSales\\n    ORDER BY TotalSales ASC\\n)\\nSELECT\\n    mp.ProductID AS MostPopularProductID,\\n    mp.TotalSales AS MostPopularSales,\\n    lp.ProductID AS LeastPopularProductID,\\n    lp.TotalSales AS LeastPopularSales,\\n    (mp.TotalSales - lp.TotalSales) AS SalesDifference\\nFROM MostPopularProduct mp,\\n     LeastPopularProduct lp'}"
      ]
     },
     "execution_count": 23,
     "metadata": {},
     "output_type": "execute_result"
    }
   ],
   "source": [
    "\n",
    "tables_prompt = candidate_tables\n",
    "\n",
    "system_prompt = f\"\"\"\n",
    "You are a helpful AI data analyst assistant, \n",
    "     You can execute SQL queries to retrieve information from a sql database,\n",
    "     The database is SQL server, use the right syntax to generate queries\n",
    "\n",
    "\n",
    "     ### These are the available tables in the database alongside their descriptions:\n",
    "    {tables_prompt}\n",
    "\n",
    "     When asked a question that could be answered with a SQL query: \n",
    "     - Break down the question into smaller parts that can be answered with SQL queries\n",
    "    - Identify the tables that contains the information needed to answer the question\n",
    "     - Only once this is done, create a sql query to retrieve the information based on your understanding of the table\n",
    " \n",
    "    Think step by step, before doing anything, share the different steps you'll execute to get the answer\n",
    "    \n",
    "    Your response should be in JSON format with the following structure:\n",
    "    \"chain_of_thought\": \"Your reasoning\",\n",
    "     \"sql_query\": \"The generated sql query\"\n",
    "\n",
    "    Example:    \n",
    "    question: \"Show me the first 5 rows of the sales_data table\"\n",
    "    output: \"chain_of_thought\": \"Your reasoning\",\n",
    "     \"sql_query\": \"SELECT TOP 5 * FROM sales_data\"\n",
    "\n",
    "\"\"\"\n",
    "\n",
    "messages =[\n",
    "    {\n",
    "        \"role\": \"system\",\n",
    "        \"content\": system_prompt\n",
    "    },\n",
    "    {\n",
    "        \"role\": \"user\",\n",
    "        \"content\": user_question\n",
    "    }\n",
    "]\n",
    "\n",
    "response = openai_client.chat.completions.create(\n",
    "                model=\"gpt-4o-global\",\n",
    "                messages=messages,\n",
    "                response_format={\"type\": \"json_object\"}\n",
    "               )\n",
    "\n",
    "response_message = response.choices[0].message.content\n",
    "response_json = json.loads(response_message)\n",
    "\n",
    "response_json\n",
    "\n"
   ]
  },
  {
   "cell_type": "code",
   "execution_count": 24,
   "metadata": {},
   "outputs": [
    {
     "name": "stdout",
     "output_type": "stream",
     "text": [
      "WITH ProductSales AS (\n",
      "    SELECT\n",
      "        ProductID,\n",
      "        SUM(OrderQty) AS TotalSales\n",
      "    FROM SalesLT.SalesOrderDetail\n",
      "    GROUP BY ProductID\n",
      "),\n",
      "MostPopularProduct AS (\n",
      "    SELECT TOP 1\n",
      "        ProductID,\n",
      "        TotalSales\n",
      "    FROM ProductSales\n",
      "    ORDER BY TotalSales DESC\n",
      "),\n",
      "LeastPopularProduct AS (\n",
      "    SELECT TOP 1\n",
      "        ProductID,\n",
      "        TotalSales\n",
      "    FROM ProductSales\n",
      "    ORDER BY TotalSales ASC\n",
      ")\n",
      "SELECT\n",
      "    mp.ProductID AS MostPopularProductID,\n",
      "    mp.TotalSales AS MostPopularSales,\n",
      "    lp.ProductID AS LeastPopularProductID,\n",
      "    lp.TotalSales AS LeastPopularSales,\n",
      "    (mp.TotalSales - lp.TotalSales) AS SalesDifference\n",
      "FROM MostPopularProduct mp,\n",
      "     LeastPopularProduct lp\n"
     ]
    }
   ],
   "source": [
    "print(response_json['sql_query'])"
   ]
  },
  {
   "cell_type": "code",
   "execution_count": 25,
   "metadata": {},
   "outputs": [
    {
     "data": {
      "text/plain": [
       "'[{\"MostPopularProductID\": 864, \"MostPopularSales\": 87, \"LeastPopularProductID\": 886, \"LeastPopularSales\": 1, \"SalesDifference\": 86}]'"
      ]
     },
     "execution_count": 25,
     "metadata": {},
     "output_type": "execute_result"
    }
   ],
   "source": [
    "sql_client.query(response_json['sql_query'])"
   ]
  },
  {
   "cell_type": "code",
   "execution_count": null,
   "metadata": {},
   "outputs": [],
   "source": []
  }
 ],
 "metadata": {
  "kernelspec": {
   "display_name": "openai",
   "language": "python",
   "name": "python3"
  },
  "language_info": {
   "codemirror_mode": {
    "name": "ipython",
    "version": 3
   },
   "file_extension": ".py",
   "mimetype": "text/x-python",
   "name": "python",
   "nbconvert_exporter": "python",
   "pygments_lexer": "ipython3",
   "version": "3.11.8"
  }
 },
 "nbformat": 4,
 "nbformat_minor": 2
}
