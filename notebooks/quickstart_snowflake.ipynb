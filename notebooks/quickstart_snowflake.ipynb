{
 "cells": [
  {
   "cell_type": "code",
   "execution_count": 5,
   "metadata": {},
   "outputs": [],
   "source": [
    "import sys\n",
    "sys.path.append('..')\n",
    "\n",
    "from sqltoolkit.connectors import SnowflakeConnector\n",
    "from sqltoolkit.client import DatabaseClient\n",
    "from sqltoolkit.entities import Table, TableColumn\n",
    "import pandas as pd\n",
    "from dotenv import load_dotenv\n",
    "import os\n",
    "\n",
    "load_dotenv()\n",
    "\n",
    "\n",
    "user = os.getenv(\"SNOWFLAKE_USER\")\n",
    "password = os.getenv(\"SNOWFLAKE_PWD\")\n",
    "account = os.getenv(\"SNOWFLAKE_ACCOUNT\")\n",
    "warehouse = os.getenv(\"SNOWFLAKE_WAREHOUSE\")\n",
    "database = os.getenv(\"SNOWFLAKE_DB\")\n",
    "schema = os.getenv(\"SNOWFLAKE_SCHEMA\")\n",
    "\n",
    "snowflake_connector = SnowflakeConnector(\n",
    "    user=user, password=password, account=account,\n",
    "    warehouse=warehouse, database=database, schema=schema\n",
    ")\n",
    "sql_client = DatabaseClient(snowflake_connector)"
   ]
  },
  {
   "cell_type": "code",
   "execution_count": 6,
   "metadata": {},
   "outputs": [],
   "source": [
    "from openai import AzureOpenAI\n",
    "\n",
    "aoai_endpoint = os.getenv('OPENAI_ENDPOINT')\n",
    "aoai_key = os.getenv('OPENAI_API_KEY')\n",
    "aoai_deployment = os.getenv('OPENAI_4o_DEPLOYMENT') # should be GPT-4o\n",
    "aoai_embedding_deployment = os.getenv('OPENAI_EMBEDDING_DEPLOYMENT') # should be text-embedding-small\n",
    "\n",
    "openai_client = AzureOpenAI(azure_endpoint=aoai_endpoint,\n",
    "    api_key=aoai_key,\n",
    "    api_version='2024-10-21')"
   ]
  },
  {
   "cell_type": "markdown",
   "metadata": {},
   "source": [
    "### 1. Generating metadata from the Snowflake Database"
   ]
  },
  {
   "cell_type": "code",
   "execution_count": 7,
   "metadata": {},
   "outputs": [
    {
     "name": "stderr",
     "output_type": "stream",
     "text": [
      "2025-03-03 14:17:04,062 - DatabaseIndexer - INFO - Fetching tables from the database.\n",
      "2025-03-03 14:17:05,759 - DatabaseIndexer - INFO - Filtered tables by regex: ['RAW_POS.COUNTRY', 'RAW_POS.LOCATION', 'RAW_POS.MENU', 'RAW_POS.ORDER_DETAIL', 'RAW_POS.TRUCK', 'RAW_POS.FRANCHISE', 'RAW_POS.ORDER_HEADER']\n",
      "2025-03-03 14:17:05,760 - DatabaseIndexer - INFO - Processing table: RAW_POS.COUNTRY\n",
      "2025-03-03 14:17:23,005 - DatabaseIndexer - INFO - Completed processing table: RAW_POS.COUNTRY\n",
      "2025-03-03 14:17:23,007 - DatabaseIndexer - INFO - Processing table: RAW_POS.LOCATION\n",
      "2025-03-03 14:17:43,037 - DatabaseIndexer - INFO - Completed processing table: RAW_POS.LOCATION\n",
      "2025-03-03 14:17:43,038 - DatabaseIndexer - INFO - Processing table: RAW_POS.MENU\n",
      "2025-03-03 14:18:12,271 - DatabaseIndexer - INFO - Completed processing table: RAW_POS.MENU\n",
      "2025-03-03 14:18:12,272 - DatabaseIndexer - INFO - Processing table: RAW_POS.ORDER_DETAIL\n",
      "2025-03-03 14:18:39,330 - DatabaseIndexer - INFO - Completed processing table: RAW_POS.ORDER_DETAIL\n",
      "2025-03-03 14:18:39,331 - DatabaseIndexer - INFO - Processing table: RAW_POS.TRUCK\n",
      "2025-03-03 14:19:15,426 - DatabaseIndexer - INFO - Completed processing table: RAW_POS.TRUCK\n",
      "2025-03-03 14:19:15,427 - DatabaseIndexer - INFO - Processing table: RAW_POS.FRANCHISE\n",
      "2025-03-03 14:19:34,017 - DatabaseIndexer - INFO - Completed processing table: RAW_POS.FRANCHISE\n",
      "2025-03-03 14:19:34,018 - DatabaseIndexer - INFO - Processing table: RAW_POS.ORDER_HEADER\n",
      "2025-03-03 14:20:07,941 - DatabaseIndexer - INFO - Completed processing table: RAW_POS.ORDER_HEADER\n",
      "2025-03-03 14:20:07,943 - DatabaseIndexer - INFO - Completed fetching and processing all tables.\n"
     ]
    }
   ],
   "source": [
    "from sqltoolkit.indexer import DatabaseIndexer\n",
    "\n",
    "context = \"\"\"\n",
    "The database contains table about a food delivery service called Tasty Bytes\n",
    "Tasty Bytes is a global food truck network with localized menu options, 15 countries, 30 major cities and 15 core brands\n",
    "\n",
    "\"\"\"\n",
    "\n",
    "indexer = DatabaseIndexer(sql_client, \n",
    "                          openai_client, \n",
    "                          aoai_deployment,\n",
    "                          aoai_embedding_deployment,\n",
    "                          extra_context=context)\n",
    "\n",
    "manifest = indexer.fetch_and_describe_tables(regex_filter=\"RAW_POS*\")\n",
    "indexer.generate_table_embeddings()\n",
    "\n",
    "tables_dict = indexer.export_json_manifest()"
   ]
  },
  {
   "cell_type": "code",
   "execution_count": 11,
   "metadata": {},
   "outputs": [
    {
     "name": "stdout",
     "output_type": "stream",
     "text": [
      "Table Name: RAW_POS.COUNTRY\n",
      "Table Description: The RAW_POS.COUNTRY table is a key component of the Tasty Bytes database, providing detailed information on the countries and cities where the food delivery service operates. The table includes numerical identifiers and textual details for countries and cities, enhancing data categorization and retrieval. It covers essential data points like ISO currency and country codes, as well as city-specific identifiers and population figures. This data is integral for analyzing regional performance, understanding market demographics, and facilitating financial transactions across Tasty Bytes' global network. The table is foundational for ensuring data accuracy and segmentation based on geographic locations in the network.\n"
     ]
    }
   ],
   "source": [
    "print(f'Table Name: {indexer.tables[0].name}')\n",
    "print(f'Table Description: {indexer.tables[0].description}')"
   ]
  },
  {
   "cell_type": "markdown",
   "metadata": {},
   "source": [
    "### 2. Pushing metadata to an Azure AI Search Index"
   ]
  },
  {
   "cell_type": "code",
   "execution_count": 12,
   "metadata": {},
   "outputs": [],
   "source": [
    "search_endpoint = os.getenv('AI_SEARCH_ENDPOINT')\n",
    "search_key = os.getenv('AI_SEARCH_API_KEY')\n",
    "embedding_deployment = os.getenv('OPENAI_EMBEDDING_DEPLOYMENT')\n",
    "index_name = 'tasty_bytes_snowflake'"
   ]
  },
  {
   "cell_type": "code",
   "execution_count": 13,
   "metadata": {},
   "outputs": [
    {
     "name": "stderr",
     "output_type": "stream",
     "text": [
      "2025-03-03 14:27:09,897 - DatabaseIndexer - INFO - Creating Azure AI Search Index.\n",
      "2025-03-03 14:27:09,912 - DatabaseIndexer - INFO - SearchIndexClient created.\n",
      "2025-03-03 14:27:10,233 - DatabaseIndexer - INFO - Index 'tasty_bytes_snowflake' does not exist. Creating a new one.\n",
      "2025-03-03 14:27:10,234 - DatabaseIndexer - INFO - Fields for the index defined.\n",
      "2025-03-03 14:27:10,234 - DatabaseIndexer - INFO - Vector search configuration defined.\n",
      "2025-03-03 14:27:10,235 - DatabaseIndexer - INFO - Semantic configuration defined.\n",
      "2025-03-03 14:27:10,236 - DatabaseIndexer - INFO - Semantic search configuration defined.\n",
      "2025-03-03 14:27:11,374 - DatabaseIndexer - INFO - Index 'tasty_bytes_snowflake' created successfully.\n",
      "2025-03-03 14:27:11,378 - DatabaseIndexer - INFO - Pushing metadata for 7 tables to Azure AI Search.\n"
     ]
    },
    {
     "name": "stdout",
     "output_type": "stream",
     "text": [
      "Pushing data for table RAW_POS.COUNTRY to the index.\n"
     ]
    },
    {
     "name": "stderr",
     "output_type": "stream",
     "text": [
      "2025-03-03 14:27:11,734 - DatabaseIndexer - INFO - Data for table RAW_POS.COUNTRY pushed to the index.\n",
      "2025-03-03 14:27:11,863 - DatabaseIndexer - INFO - Data for table RAW_POS.LOCATION pushed to the index.\n"
     ]
    },
    {
     "name": "stdout",
     "output_type": "stream",
     "text": [
      "Pushing data for table RAW_POS.LOCATION to the index.\n",
      "Pushing data for table RAW_POS.MENU to the index.\n"
     ]
    },
    {
     "name": "stderr",
     "output_type": "stream",
     "text": [
      "2025-03-03 14:27:11,978 - DatabaseIndexer - INFO - Data for table RAW_POS.MENU pushed to the index.\n",
      "2025-03-03 14:27:12,113 - DatabaseIndexer - INFO - Data for table RAW_POS.ORDER_DETAIL pushed to the index.\n"
     ]
    },
    {
     "name": "stdout",
     "output_type": "stream",
     "text": [
      "Pushing data for table RAW_POS.ORDER_DETAIL to the index.\n",
      "Pushing data for table RAW_POS.TRUCK to the index.\n"
     ]
    },
    {
     "name": "stderr",
     "output_type": "stream",
     "text": [
      "2025-03-03 14:27:12,217 - DatabaseIndexer - INFO - Data for table RAW_POS.TRUCK pushed to the index.\n",
      "2025-03-03 14:27:12,326 - DatabaseIndexer - INFO - Data for table RAW_POS.FRANCHISE pushed to the index.\n"
     ]
    },
    {
     "name": "stdout",
     "output_type": "stream",
     "text": [
      "Pushing data for table RAW_POS.FRANCHISE to the index.\n",
      "Pushing data for table RAW_POS.ORDER_HEADER to the index.\n"
     ]
    },
    {
     "name": "stderr",
     "output_type": "stream",
     "text": [
      "2025-03-03 14:27:12,429 - DatabaseIndexer - INFO - Data for table RAW_POS.ORDER_HEADER pushed to the index.\n"
     ]
    }
   ],
   "source": [
    "indexer.create_azure_ai_search_index(\n",
    "    search_endpoint=search_endpoint,\n",
    "    search_credential=search_key,\n",
    "    index_name=index_name,\n",
    "    embedding_deployment=aoai_embedding_deployment,\n",
    "    openai_endpoint=aoai_endpoint,\n",
    "    openai_key=aoai_key,\n",
    ")\n",
    "\n",
    "# write to AI Search\n",
    "indexer.push_to_ai_search()"
   ]
  },
  {
   "cell_type": "markdown",
   "metadata": {},
   "source": [
    "### 3. RETRIEVAL: Query rewriter call\n",
    "This step ensures the query is rewritten in a way that will improve table search results"
   ]
  },
  {
   "cell_type": "code",
   "execution_count": 14,
   "metadata": {},
   "outputs": [
    {
     "name": "stdout",
     "output_type": "stream",
     "text": [
      "What is the name and total sales amount of the top-selling menu item in the restaurant's sales database?\n"
     ]
    }
   ],
   "source": [
    "# query rewriting\n",
    "user_question = \"What is the top selling menu item?\"\n",
    "\n",
    "rewriter_prompt = f\"\"\"\n",
    "You are a helpful AI SQL Agent. Your role is to help people translate their questions \n",
    "into better questions that can be translated into SQL queries.\n",
    "You should disimbiguate the question and provide a more specific version of the question to the best of your ability\n",
    "You should rewrite the question in a way that is more likely to be answered by the database.\n",
    "\n",
    "You must only return a single sentence that is a better version of the user's question.\n",
    "\n",
    "\"\"\"\n",
    "\n",
    "messages =[\n",
    "    {\n",
    "        \"role\": \"system\",\n",
    "        \"content\": rewriter_prompt\n",
    "    },\n",
    "    {\n",
    "        \"role\": \"user\",\n",
    "        \"content\": user_question\n",
    "    }\n",
    "]\n",
    "\n",
    "rewriter_response = openai_client.chat.completions.create(\n",
    "                model=\"gpt-4o-mini\",\n",
    "                messages=messages,\n",
    "               )\n",
    "\n",
    "rewriter_response = rewriter_response.choices[0].message.content\n",
    "print(rewriter_response)"
   ]
  },
  {
   "cell_type": "markdown",
   "metadata": {},
   "source": [
    "### 3. RETRIEVAL: Table metadata retrieval from Azure AI Search\n",
    "\n",
    "This narrows down the table metadata that is retrieved and passed to the LLM inference call"
   ]
  },
  {
   "cell_type": "code",
   "execution_count": 15,
   "metadata": {},
   "outputs": [],
   "source": [
    "from azure.search.documents import SearchClient\n",
    "from azure.search.documents.models import QueryType, QueryCaptionType, QueryAnswerType\n",
    "from azure.search.documents.models import VectorizableTextQuery\n",
    "from azure.core.credentials import AzureKeyCredential\n",
    "import json\n",
    "\n",
    "search_client = SearchClient(endpoint=search_endpoint, \n",
    "                             credential=AzureKeyCredential(search_key), \n",
    "                             index_name=index_name)\n",
    "\n",
    "  \n",
    "vector_query = VectorizableTextQuery(text=rewriter_response, \n",
    "                                     k_nearest_neighbors=50, \n",
    "                                     fields=\"embedding\")\n",
    "\n",
    "results = search_client.search(  \n",
    "    search_text=user_question,  \n",
    "    vector_queries=[vector_query],\n",
    "    query_type=QueryType.SEMANTIC,\n",
    "    semantic_configuration_name='my-semantic-config',\n",
    "    query_caption=QueryCaptionType.EXTRACTIVE,\n",
    "    query_answer=QueryAnswerType.EXTRACTIVE,\n",
    "    top=3\n",
    ")\n",
    "  \n",
    "candidate_tables = []\n",
    "for result in results:\n",
    "    candidate_tables.append(\n",
    "        json.dumps({key: result[key] for key in ['name',\n",
    "                                                 'business_readable_name',\n",
    "                                                 'description',\n",
    "                                                 'columns'] if key in result}, indent=4))"
   ]
  },
  {
   "cell_type": "code",
   "execution_count": 16,
   "metadata": {},
   "outputs": [
    {
     "data": {
      "text/plain": [
       "['{\\n    \"name\": \"RAW_POS.MENU\",\\n    \"business_readable_name\": \"Menu Information\",\\n    \"description\": \"The RAW_POS.MENU table contains detailed information about the various menus offered by Tasty Bytes, a global food truck network that operates across multiple countries and cities. This table includes data on specific menu items, their associated costs, sale prices, and health metrics, as well as classification details such as menu types and categories. It serves as a central resource for managing menu details, linking them to truck brand names and different cuisine styles. The table is essential for understanding the diversity of culinary offerings, pricing strategies, and health considerations of menu items within the Tasty Bytes network.\",\\n    \"columns\": [\\n        {\\n            \"name\": \"MENU_ID\",\\n            \"type\": \"NUMBER\",\\n            \"description\": null,\\n            \"definition\": \"The MENU_ID column is a numerical identifier that uniquely distinguishes each menu offered by Tasty Bytes, a global food truck network. It helps identify specific menus across various locations and brands within the company\\'s operations. This column is critical for referencing and querying menu-related data, such as item details, costs, and truck brand affiliations. Since it is not a primary key, it might be associated with other fields to form a composite key or used for indexing purposes. This numerical ID facilitates efficient data operations and retrieval specific to the company\\'s diverse menu offerings.\",\\n            \"primary_key\": false,\\n            \"sample_values\": [\\n                \"10001\",\\n                \"10002\",\\n                \"10003\",\\n                \"10004\",\\n                \"10005\",\\n                \"10006\",\\n                \"10007\",\\n                \"10008\",\\n                \"10009\",\\n                \"10010\"\\n            ]\\n        },\\n        {\\n            \"name\": \"MENU_TYPE_ID\",\\n            \"type\": \"NUMBER\",\\n            \"description\": null,\\n            \"definition\": \"The column represents a numeric identifier used to categorize different types of menus in the Tasty Bytes food delivery service. Each unique number in this column corresponds to a specific cuisine or food category offered by the network, such as BBQ, Chinese, or Crepes. This identifier serves as a reference to link each menu item to its associated menu type, facilitating organization and retrieval of menu information based on the type of cuisine or food category. In the context of Tasty Bytes, this can be important for distinguishing localized or diverse food offerings across various regions and brands.\",\\n            \"primary_key\": false,\\n            \"sample_values\": [\\n                \"1\",\\n                \"2\",\\n                \"3\",\\n                \"4\",\\n                \"5\",\\n                \"6\",\\n                \"7\",\\n                \"8\",\\n                \"9\",\\n                \"10\"\\n            ]\\n        },\\n        {\\n            \"name\": \"MENU_TYPE\",\\n            \"type\": \"TEXT\",\\n            \"description\": null,\\n            \"definition\": \"The column represents the type of cuisine featured on the menu of Tasty Bytes\\' food trucks. Each menu type is categorized based on different culinary styles such as BBQ, Chinese, Crepes, Ethiopian, and others. This classification is used to identify the specific thematic or cultural style of food offerings available from the food trucks. Understanding the menu type is essential for filtering or selecting menus that meet specific customer preferences or cultural themes. This column serves as a textual identifier for the kind of cuisine associated with each menu in their network.\",\\n            \"primary_key\": false,\\n            \"sample_values\": [\\n                \"BBQ\",\\n                \"Chinese\",\\n                \"Crepes\",\\n                \"Ethiopian\",\\n                \"Grilled Cheese\",\\n                \"Gyros\",\\n                \"Hot Dogs\",\\n                \"Ice Cream\",\\n                \"Indian\",\\n                \"Mac & Cheese\"\\n            ]\\n        },\\n        {\\n            \"name\": \"TRUCK_BRAND_NAME\",\\n            \"type\": \"TEXT\",\\n            \"description\": null,\\n            \"definition\": \"The truck brand name column contains textual data representing the names of different food truck brands within the Tasty Bytes food delivery service. These brands are part of a global food truck network that offers various cuisine options across 15 countries and 30 major cities. Each brand name is associated with specific menu offerings, allowing customers to identify and select their preferred trucks based on culinary type and brand recognition. This column is useful for filtering or grouping operations in query generation, such as identifying the menu items associated with a specific brand or analyzing sales performance by brand.\",\\n            \"primary_key\": false,\\n            \"sample_values\": [\\n                \"Amped Up Franks\",\\n                \"Better Off Bread\",\\n                \"Cheeky Greek\",\\n                \"Freezing Point\",\\n                \"Guac n\\' Roll\",\\n                \"Kitakata Ramen Bar\",\\n                \"Le Coin des Cr\\\\u00eapes\",\\n                \"Nani\\'s Kitchen\",\\n                \"Peking Truck\",\\n                \"Plant Palace\"\\n            ]\\n        },\\n        {\\n            \"name\": \"MENU_ITEM_ID\",\\n            \"type\": \"NUMBER\",\\n            \"description\": null,\\n            \"definition\": \"The column contains numerical identifiers assigned to specific food items offered by Tasty Bytes\\' food truck network. Each menu item identifier is unique and corresponds to a food or beverage option available across different food truck locations operated by the company. This identifier is used to differentiate menu items for data management, ordering, and inventory purposes. It assists in efficiently tracking and querying specific menu items across multiple countries and cities served by Tasty Bytes. Such identifiers are particularly useful for filtering or aggregating data based on specific menu items in SQL queries.\",\\n            \"primary_key\": false,\\n            \"sample_values\": [\\n                \"10\",\\n                \"11\",\\n                \"12\",\\n                \"13\",\\n                \"14\",\\n                \"15\",\\n                \"16\",\\n                \"17\",\\n                \"18\",\\n                \"19\"\\n            ]\\n        },\\n        {\\n            \"name\": \"MENU_ITEM_NAME\",\\n            \"type\": \"TEXT\",\\n            \"description\": null,\\n            \"definition\": \"The column contains the names of individual items available on the menu for the Tasty Bytes food delivery service. Each entry represents a distinct food or beverage option that is offered by various food trucks within the network. These names help in identifying specific menu items available for order across different truck brands and menu types. The data in this column is used to display or select menu items for customers when placing an order through the service. The information is essential for tracking and managing the diversity of food offerings provided by the company\\'s food trucks worldwide.\",\\n            \"primary_key\": false,\\n            \"sample_values\": [\\n                \"Bottled Soda\",\\n                \"Bottled Water\",\\n                \"Breakfast Crepe\",\\n                \"Buffalo Mac & Cheese\",\\n                \"Chicago Dog\",\\n                \"Chicken Burrito\",\\n                \"Chicken Pot Pie Crepe\",\\n                \"Combination Curry\",\\n                \"Combo Fried Rice\",\\n                \"Combo Lo Mein\"\\n            ]\\n        },\\n        {\\n            \"name\": \"ITEM_CATEGORY\",\\n            \"type\": \"TEXT\",\\n            \"description\": null,\\n            \"definition\": \"The ITEM_CATEGORY column contains categorical information that classifies menu items into distinct groups such as Beverage, Dessert, Main, and Snack. This classification helps in organizing menu items based on their primary food type or role in a meal. It is a textual data field that can be used for filtering and sorting menu items across different food trucks within the Tasty Bytes network. This categorization plays a critical role in menu management and in crafting differentiated menu experiences tailored for diverse customer preferences.\",\\n            \"primary_key\": false,\\n            \"sample_values\": [\\n                \"Beverage\",\\n                \"Dessert\",\\n                \"Main\",\\n                \"Snack\"\\n            ]\\n        },\\n        {\\n            \"name\": \"ITEM_SUBCATEGORY\",\\n            \"type\": \"TEXT\",\\n            \"description\": null,\\n            \"definition\": \"The column represents the subcategory classification of menu items available in the Tasty Bytes food delivery service. It provides additional details about the temperature or serving style of an item, such as whether it is a cold, warm, or hot option. This helps categorize menu offerings beyond primary categories like beverage or main course. Understanding the item subcategory can be useful for filtering menu items based on customer preferences for temperature-related attributes.\",\\n            \"primary_key\": false,\\n            \"sample_values\": [\\n                \"Cold Option\",\\n                \"Hot Option\",\\n                \"Warm Option\"\\n            ]\\n        },\\n        {\\n            \"name\": \"COST_OF_GOODS_USD\",\\n            \"type\": \"NUMBER\",\\n            \"description\": null,\\n            \"definition\": \"This column represents the cost to Tasty Bytes for each menu item in U.S. dollars. It quantifies the expense incurred in acquiring or producing the goods that make up a specific menu item offered across the food truck network. This figure is crucial in determining the profitability of menu items when compared to their sale prices. By understanding these costs, the business can make informed decisions on pricing strategies and cost management. This data is typically used for financial analysis to optimize operations within Tasty Bytes.\",\\n            \"primary_key\": false,\\n            \"sample_values\": [\\n                \"0.5\",\\n                \"0.65\",\\n                \"0.75\",\\n                \"1.0\",\\n                \"1.25\",\\n                \"1.5\",\\n                \"2.0\",\\n                \"2.25\",\\n                \"2.4\",\\n                \"2.5\"\\n            ]\\n        },\\n        {\\n            \"name\": \"SALE_PRICE_USD\",\\n            \"type\": \"NUMBER\",\\n            \"description\": null,\\n            \"definition\": \"The sale price in USD represents the price at which a menu item is sold to customers within the Tasty Bytes food delivery service. It reflects the amount charged for each individual menu item and is critical for revenue calculations and setting pricing strategies. Understanding the sale price is key for profit margin analysis when compared with the cost of goods for each menu item. This column is essential for generating financial reports and analyzing sales data across different trucks and regions.\",\\n            \"primary_key\": false,\\n            \"sample_values\": [\\n                \"2.0\",\\n                \"3.0\",\\n                \"3.5\",\\n                \"4.0\",\\n                \"5.0\",\\n                \"6.0\",\\n                \"7.0\",\\n                \"8.0\",\\n                \"9.0\",\\n                \"10.0\"\\n            ]\\n        },\\n        {\\n            \"name\": \"MENU_ITEM_HEALTH_METRICS_OBJ\",\\n            \"type\": \"VARIANT\",\\n            \"description\": null,\\n            \"definition\": \"The column stores detailed health metrics about menu items offered by the food delivery service, Tasty Bytes. It contains JSON objects that include information about ingredients and various dietary flags, such as whether the item is dairy-free, gluten-free, and nut-free. Additionally, it indicates if the menu item is considered healthy. Each JSON object is associated with a specific menu item ID, providing a comprehensive view of its health attributes.\",\\n            \"primary_key\": false,\\n            \"sample_values\": [\\n                \"{\\\\n  \\\\\"menu_item_health_metrics\\\\\": [\\\\n    {\\\\n      \\\\\"ingredients\\\\\": [\\\\n        \\\\\"12 Oz Bottle Ice Tea\\\\\"\\\\n      ],\\\\n      \\\\\"is_dairy_free_flag\\\\\": \\\\\"Y\\\\\",\\\\n      \\\\\"is_gluten_free_flag\\\\\": \\\\\"Y\\\\\",\\\\n      \\\\\"is_healthy_flag\\\\\": \\\\\"N\\\\\",\\\\n      \\\\\"is_nut_free_flag\\\\\": \\\\\"Y\\\\\"\\\\n    }\\\\n  ],\\\\n  \\\\\"menu_item_id\\\\\": 16\\\\n}\",\\n                \"{\\\\n  \\\\\"menu_item_health_metrics\\\\\": [\\\\n    {\\\\n      \\\\\"ingredients\\\\\": [\\\\n        \\\\\"12 Oz Bottle Ice Tea\\\\\"\\\\n      ],\\\\n      \\\\\"is_dairy_free_flag\\\\\": \\\\\"Y\\\\\",\\\\n      \\\\\"is_gluten_free_flag\\\\\": \\\\\"Y\\\\\",\\\\n      \\\\\"is_healthy_flag\\\\\": \\\\\"N\\\\\",\\\\n      \\\\\"is_nut_free_flag\\\\\": \\\\\"Y\\\\\"\\\\n    }\\\\n  ],\\\\n  \\\\\"menu_item_id\\\\\": 26\\\\n}\",\\n                \"{\\\\n  \\\\\"menu_item_health_metrics\\\\\": [\\\\n    {\\\\n      \\\\\"ingredients\\\\\": [\\\\n        \\\\\"12 Oz Bottle Ice Tea\\\\\"\\\\n      ],\\\\n      \\\\\"is_dairy_free_flag\\\\\": \\\\\"Y\\\\\",\\\\n      \\\\\"is_gluten_free_flag\\\\\": \\\\\"Y\\\\\",\\\\n      \\\\\"is_healthy_flag\\\\\": \\\\\"N\\\\\",\\\\n      \\\\\"is_nut_free_flag\\\\\": \\\\\"Y\\\\\"\\\\n    }\\\\n  ],\\\\n  \\\\\"menu_item_id\\\\\": 36\\\\n}\",\\n                \"{\\\\n  \\\\\"menu_item_health_metrics\\\\\": [\\\\n    {\\\\n      \\\\\"ingredients\\\\\": [\\\\n        \\\\\"12 Oz Bottle Ice Tea\\\\\"\\\\n      ],\\\\n      \\\\\"is_dairy_free_flag\\\\\": \\\\\"Y\\\\\",\\\\n      \\\\\"is_gluten_free_flag\\\\\": \\\\\"Y\\\\\",\\\\n      \\\\\"is_healthy_flag\\\\\": \\\\\"N\\\\\",\\\\n      \\\\\"is_nut_free_flag\\\\\": \\\\\"Y\\\\\"\\\\n    }\\\\n  ],\\\\n  \\\\\"menu_item_id\\\\\": 46\\\\n}\",\\n                \"{\\\\n  \\\\\"menu_item_health_metrics\\\\\": [\\\\n    {\\\\n      \\\\\"ingredients\\\\\": [\\\\n        \\\\\"12 Oz Bottle Ice Tea\\\\\"\\\\n      ],\\\\n      \\\\\"is_dairy_free_flag\\\\\": \\\\\"Y\\\\\",\\\\n      \\\\\"is_gluten_free_flag\\\\\": \\\\\"Y\\\\\",\\\\n      \\\\\"is_healthy_flag\\\\\": \\\\\"N\\\\\",\\\\n      \\\\\"is_nut_free_flag\\\\\": \\\\\"Y\\\\\"\\\\n    }\\\\n  ],\\\\n  \\\\\"menu_item_id\\\\\": 56\\\\n}\",\\n                \"{\\\\n  \\\\\"menu_item_health_metrics\\\\\": [\\\\n    {\\\\n      \\\\\"ingredients\\\\\": [\\\\n        \\\\\"12 Oz Bottle Ice Tea\\\\\"\\\\n      ],\\\\n      \\\\\"is_dairy_free_flag\\\\\": \\\\\"Y\\\\\",\\\\n      \\\\\"is_gluten_free_flag\\\\\": \\\\\"Y\\\\\",\\\\n      \\\\\"is_healthy_flag\\\\\": \\\\\"N\\\\\",\\\\n      \\\\\"is_nut_free_flag\\\\\": \\\\\"Y\\\\\"\\\\n    }\\\\n  ],\\\\n  \\\\\"menu_item_id\\\\\": 66\\\\n}\",\\n                \"{\\\\n  \\\\\"menu_item_health_metrics\\\\\": [\\\\n    {\\\\n      \\\\\"ingredients\\\\\": [\\\\n        \\\\\"12 Oz Bottle Ice Tea\\\\\"\\\\n      ],\\\\n      \\\\\"is_dairy_free_flag\\\\\": \\\\\"Y\\\\\",\\\\n      \\\\\"is_gluten_free_flag\\\\\": \\\\\"Y\\\\\",\\\\n      \\\\\"is_healthy_flag\\\\\": \\\\\"N\\\\\",\\\\n      \\\\\"is_nut_free_flag\\\\\": \\\\\"Y\\\\\"\\\\n    }\\\\n  ],\\\\n  \\\\\"menu_item_id\\\\\": 76\\\\n}\",\\n                \"{\\\\n  \\\\\"menu_item_health_metrics\\\\\": [\\\\n    {\\\\n      \\\\\"ingredients\\\\\": [\\\\n        \\\\\"12 Oz Bottle Ice Tea\\\\\"\\\\n      ],\\\\n      \\\\\"is_dairy_free_flag\\\\\": \\\\\"Y\\\\\",\\\\n      \\\\\"is_gluten_free_flag\\\\\": \\\\\"Y\\\\\",\\\\n      \\\\\"is_healthy_flag\\\\\": \\\\\"N\\\\\",\\\\n      \\\\\"is_nut_free_flag\\\\\": \\\\\"Y\\\\\"\\\\n    }\\\\n  ],\\\\n  \\\\\"menu_item_id\\\\\": 86\\\\n}\",\\n                \"{\\\\n  \\\\\"menu_item_health_metrics\\\\\": [\\\\n    {\\\\n      \\\\\"ingredients\\\\\": [\\\\n        \\\\\"12 Oz Bottle Ice Tea\\\\\"\\\\n      ],\\\\n      \\\\\"is_dairy_free_flag\\\\\": \\\\\"Y\\\\\",\\\\n      \\\\\"is_gluten_free_flag\\\\\": \\\\\"Y\\\\\",\\\\n      \\\\\"is_healthy_flag\\\\\": \\\\\"N\\\\\",\\\\n      \\\\\"is_nut_free_flag\\\\\": \\\\\"Y\\\\\"\\\\n    }\\\\n  ],\\\\n  \\\\\"menu_item_id\\\\\": 96\\\\n}\",\\n                \"{\\\\n  \\\\\"menu_item_health_metrics\\\\\": [\\\\n    {\\\\n      \\\\\"ingredients\\\\\": [\\\\n        \\\\\"12 Oz Bottle Ice Tea\\\\\"\\\\n      ],\\\\n      \\\\\"is_dairy_free_flag\\\\\": \\\\\"Y\\\\\",\\\\n      \\\\\"is_gluten_free_flag\\\\\": \\\\\"Y\\\\\",\\\\n      \\\\\"is_healthy_flag\\\\\": \\\\\"N\\\\\",\\\\n      \\\\\"is_nut_free_flag\\\\\": \\\\\"Y\\\\\"\\\\n    }\\\\n  ],\\\\n  \\\\\"menu_item_id\\\\\": 106\\\\n}\"\\n            ]\\n        }\\n    ]\\n}',\n",
       " '{\\n    \"name\": \"RAW_POS.ORDER_DETAIL\",\\n    \"business_readable_name\": \"Order Line Details\",\\n    \"description\": \"The RAW_POS.ORDER_DETAIL table captures detailed records of individual line items within customer orders for Tasty Bytes, a global network of food trucks. This table provides insights into each component of an order, including the menu items selected, quantity, unit price, and any applied discounts. It plays a crucial role in tracking customer purchasing behavior and assists in analyzing sales and inventory data. The table is essential for operational efficiency, supporting accurate reporting and facilitating the management of orders across Tasty Bytes\\' international markets.\",\\n    \"columns\": [\\n        {\\n            \"name\": \"ORDER_DETAIL_ID\",\\n            \"type\": \"NUMBER\",\\n            \"description\": null,\\n            \"definition\": \"The ORDER_DETAIL_ID column in the RAW_POS.ORDER_DETAIL table is a numeric identifier used to uniquely distinguish each detailed entry of an order within the Tasty Bytes food delivery service. Despite not being a primary key, it plays a crucial role in identifying individual order line items, which may include multiple entries related to a single order. This column helps in tracking specific items ordered, their details, and possibly their line number or sequence within the order. This identifier is essential for queries that aim to extract information on particular order details or for joining tables where order specifics are necessary.\",\\n            \"primary_key\": false,\\n            \"sample_values\": [\\n                \"11110323\",\\n                \"11110324\",\\n                \"11110325\",\\n                \"11110326\",\\n                \"11110327\",\\n                \"11110328\",\\n                \"11110329\",\\n                \"11110330\",\\n                \"11110331\",\\n                \"11110332\"\\n            ]\\n        },\\n        {\\n            \"name\": \"ORDER_ID\",\\n            \"type\": \"NUMBER\",\\n            \"description\": null,\\n            \"definition\": \"The ORDER_ID column in the RAW_POS.ORDER_DETAIL table represents a unique identifier assigned to each order placed within the Tasty Bytes food delivery service. It is a numeric value that links order details to a specific order in the system, serving as a reference point for tracking and organizing order information. This column is utilized to consolidate all order-related data, such as items ordered, quantities, and associated prices, ensuring accurate record-keeping and reporting. It is essential for executing queries that assess order performance, customer purchasing behavior, and operational efficiency across Tasty Bytes\\' global network.\",\\n            \"primary_key\": false,\\n            \"sample_values\": [\\n                \"4063758\",\\n                \"4063759\",\\n                \"4063760\",\\n                \"4063761\",\\n                \"4063762\",\\n                \"4063763\",\\n                \"4063764\",\\n                \"4063765\",\\n                \"4063766\",\\n                \"4063767\"\\n            ]\\n        },\\n        {\\n            \"name\": \"MENU_ITEM_ID\",\\n            \"type\": \"NUMBER\",\\n            \"description\": null,\\n            \"definition\": \"The MENU_ITEM_ID column contains numerical identifiers that uniquely represent individual menu items within the Tasty Bytes food delivery service. Each ID corresponds to a specific dish or drink available across the network\\'s various food trucks. These IDs are crucial for linking order details with the specific menu items ordered, allowing the system to track sales and inventory of different menu options. The values can be used to filter and retrieve detailed information about menu items in orders, enabling targeted analyses of item popularity and sales trends across the global network.\",\\n            \"primary_key\": false,\\n            \"sample_values\": [\\n                \"10\",\\n                \"11\",\\n                \"12\",\\n                \"13\",\\n                \"14\",\\n                \"15\",\\n                \"16\",\\n                \"17\",\\n                \"18\",\\n                \"19\"\\n            ]\\n        },\\n        {\\n            \"name\": \"DISCOUNT_ID\",\\n            \"type\": \"TEXT\",\\n            \"description\": null,\\n            \"definition\": \"The DISCOUNT_ID column in the RAW_POS.ORDER_DETAIL table stores identifiers related to any discounts applied to specific order details within Tasty Bytes food delivery service. These identifiers serve as references to discount types or campaigns that may have been applied to the menu items ordered, providing a way to track which discounts are associated with particular transactions. It is likely a text format to accommodate for various types of discount codes or promotions that can differ across the 15 countries and 30 major cities where Tasty Bytes operates. Understanding and utilizing these discount identifiers can help in analyzing promotional impacts on sales and customer choices. For generating SQL queries, values in the DISCOUNT_ID column can be used to filter or join with other tables containing detailed discount information, ensuring accurate reporting and insights into the effectiveness of discount campaigns.\",\\n            \"primary_key\": false,\\n            \"sample_values\": []\\n        },\\n        {\\n            \"name\": \"LINE_NUMBER\",\\n            \"type\": \"NUMBER\",\\n            \"description\": null,\\n            \"definition\": \"The LINE_NUMBER column in the RAW_POS.ORDER_DETAIL table represents the sequence order of items within a specific customer order. It is a numerical identifier that indicates the line position for each item in an order, starting from zero. This information is crucial for parsing and displaying the exact order of items as they appear in the customer\\'s order receipt or invoice. It is useful for operations that require item-by-item breakdowns within an order, helping with data organization and detailed order processing.\",\\n            \"primary_key\": false,\\n            \"sample_values\": [\\n                \"0\",\\n                \"1\",\\n                \"2\",\\n                \"3\",\\n                \"4\",\\n                \"5\",\\n                \"6\",\\n                \"7\",\\n                \"8\",\\n                \"9\"\\n            ]\\n        },\\n        {\\n            \"name\": \"QUANTITY\",\\n            \"type\": \"NUMBER\",\\n            \"description\": null,\\n            \"definition\": \"The column \\\\\"QUANTITY\\\\\" represents the number of units of a particular menu item ordered in a specific transaction within the Tasty Bytes food delivery service. This numerical value indicates the total count of a single menu item included in an order. It is crucial for calculating the total price of the order by multiplying it with the unit price of the item. This column helps in tracking inventory and understanding the demand for different menu items across various locations. It may vary from one order to another depending on customer preferences and order size.\",\\n            \"primary_key\": false,\\n            \"sample_values\": [\\n                \"1\",\\n                \"2\",\\n                \"3\",\\n                \"4\",\\n                \"5\",\\n                \"6\",\\n                \"7\",\\n                \"8\",\\n                \"9\",\\n                \"10\"\\n            ]\\n        },\\n        {\\n            \"name\": \"UNIT_PRICE\",\\n            \"type\": \"NUMBER\",\\n            \"description\": null,\\n            \"definition\": \"The column \\\\\"UNIT_PRICE\\\\\" in the RAW_POS.ORDER_DETAIL table represents the cost of a single unit of a specific menu item in an order within Tasty Bytes\\' food delivery service. This value is expressed as a numerical amount and indicates the price per item before any discounts or modifications are applied. The unit price is crucial for calculating the total cost of an order line by multiplying it with the quantity of items ordered. It helps in analyzing the pricing structure and sales performance of individual menu items across Tasty Bytes\\' global network.\",\\n            \"primary_key\": false,\\n            \"sample_values\": [\\n                \"2.0\",\\n                \"3.0\",\\n                \"3.5\",\\n                \"4.0\",\\n                \"5.0\",\\n                \"6.0\",\\n                \"7.0\",\\n                \"8.0\",\\n                \"9.0\",\\n                \"10.0\"\\n            ]\\n        },\\n        {\\n            \"name\": \"PRICE\",\\n            \"type\": \"NUMBER\",\\n            \"description\": null,\\n            \"definition\": \"The PRICE column in the RAW_POS.ORDER_DETAIL table represents the total cost associated with a specific menu item within an order, as determined at the time of purchase. It is calculated by multiplying the UNIT_PRICE of the item by the QUANTITY ordered. This column helps in understanding the financial aspect of each item ordered through Tasty Bytes\\' food delivery service. The values in the PRICE column are typically numerical and reflect the actual amount charged to the customer for that particular item on the order. This column is crucial for generating reports on sales revenue and analyzing pricing trends across different orders.\",\\n            \"primary_key\": false,\\n            \"sample_values\": [\\n                \"2.0\",\\n                \"3.0\",\\n                \"3.5\",\\n                \"4.0\",\\n                \"5.0\",\\n                \"6.0\",\\n                \"7.0\",\\n                \"8.0\",\\n                \"9.0\",\\n                \"10.0\"\\n            ]\\n        },\\n        {\\n            \"name\": \"ORDER_ITEM_DISCOUNT_AMOUNT\",\\n            \"type\": \"TEXT\",\\n            \"description\": null,\\n            \"definition\": \"The ORDER_ITEM_DISCOUNT_AMOUNT column represents the amount of discount applied to a specific item within a customer\\'s order in the Tasty Bytes food delivery service. This discount amount is associated with individual menu items and reflects the savings applied before calculating the final price for that item. The data contained in this column is likely a numeric value, although it\\'s labeled as TEXT in the schema, indicating potential formatting or data entry practices that store numeric data as text. Understanding this discount amount is crucial for analyzing pricing strategies, evaluating promotions, and determining the overall impact of discounts on sales and profitability. When generating SQL queries involving this column, it may be necessary to consider converting the text data to numeric for accurate calculations and comparisons.\",\\n            \"primary_key\": false,\\n            \"sample_values\": []\\n        }\\n    ]\\n}',\n",
       " '{\\n    \"name\": \"RAW_POS.TRUCK\",\\n    \"business_readable_name\": \"Food Truck Details\",\\n    \"description\": \"The RAW_POS.TRUCK table provides detailed information about the food trucks within the Tasty Bytes network, a global food delivery service operating across 15 countries and 30 major cities. It contains data on various attributes of the trucks, such as unique identifiers, menu types, and operational details like primary city and region. Additionally, the table includes information on the truck\\'s franchise status, manufacture year, make and model, and whether the truck is an electric vehicle. This comprehensive dataset is vital for managing and analyzing the distribution, performance, and logistical aspects of the Tasty Bytes fleet across different regions and markets.\",\\n    \"columns\": [\\n        {\\n            \"name\": \"TRUCK_ID\",\\n            \"type\": \"NUMBER\",\\n            \"description\": null,\\n            \"definition\": \"The TRUCK_ID column represents a unique identifier for each food truck within the Tasty Bytes network. This numeric value is used to distinguish individual trucks operating across various global locations in the food delivery service. The TRUCK_ID is essential for tracking and managing operational data such as menu types, location details, and other truck-specific attributes. This identifier is crucial for querying specific truck data and linking it with associated information like city, region, and franchise status. While not a primary key, it plays a significant role in the relational aspects of the database related to trucks.\",\\n            \"primary_key\": false,\\n            \"sample_values\": [\\n                \"1\",\\n                \"2\",\\n                \"3\",\\n                \"4\",\\n                \"5\",\\n                \"6\",\\n                \"7\",\\n                \"8\",\\n                \"9\",\\n                \"10\"\\n            ]\\n        },\\n        {\\n            \"name\": \"MENU_TYPE_ID\",\\n            \"type\": \"NUMBER\",\\n            \"description\": null,\\n            \"definition\": \"The MENU_TYPE_ID column contains numerical identifiers that categorize the types of menus offered by Tasty Bytes food trucks. These identifiers are likely used to distinguish between various menu offerings that may vary by location, brand, or specific food options available on each truck. The values in this column are utilized to associate each food truck with a specific menu type, facilitating the management and organization of diverse menu offerings across different regions and trucks within the food delivery network. This column plays a crucial role in filtering or selecting trucks based on the type of menu they provide, which can be important for queries relating to menu diversity or targeting specific menu styles in the database.\",\\n            \"primary_key\": false,\\n            \"sample_values\": [\\n                \"1\",\\n                \"2\",\\n                \"3\",\\n                \"4\",\\n                \"5\",\\n                \"6\",\\n                \"7\",\\n                \"8\",\\n                \"9\",\\n                \"10\"\\n            ]\\n        },\\n        {\\n            \"name\": \"PRIMARY_CITY\",\\n            \"type\": \"TEXT\",\\n            \"description\": null,\\n            \"definition\": \"The PRIMARY_CITY column contains text data representing the main city where a food truck from the Tasty Bytes network primarily operates. This city information helps categorize and identify the geographical location for each truck\\'s operations within the global network, which is crucial for localization and logistical purposes. It is particularly useful for filtering and grouping operations based on city-specific queries, allowing users to extract insights and conduct analyses on truck activities in particular urban regions.\",\\n            \"primary_key\": false,\\n            \"sample_values\": [\\n                \"Barcelona\",\\n                \"Berlin\",\\n                \"Boston\",\\n                \"Cairo\",\\n                \"Cape Town\",\\n                \"Delhi\",\\n                \"Denver\",\\n                \"Hamburg\",\\n                \"Krakow\",\\n                \"London\"\\n            ]\\n        },\\n        {\\n            \"name\": \"REGION\",\\n            \"type\": \"TEXT\",\\n            \"description\": null,\\n            \"definition\": \"The REGION column contains textual data representing the administrative or geographical area where a food truck operates within the 15 countries and 30 major cities served by Tasty Bytes. These regions are often defined by provinces, states, or equivalent divisions within a country, such as \\\\\"Barcelona provincia\\\\\" or \\\\\"Greater London.\\\\\" This column is crucial for analysis regarding the specific locations and operational areas of the food trucks. It helps in filtering and grouping data based on location, crucial for regional sales and operational analytics within the food delivery service.\",\\n            \"primary_key\": false,\\n            \"sample_values\": [\\n                \"Barcelona provincia\",\\n                \"Bavaria\",\\n                \"Brandenburg\",\\n                \"British Columbia\",\\n                \"Cairo Governorate\",\\n                \"California\",\\n                \"Colorado\",\\n                \"Delhi\",\\n                \"Greater London\",\\n                \"Greater Manchester\"\\n            ]\\n        },\\n        {\\n            \"name\": \"ISO_REGION\",\\n            \"type\": \"TEXT\",\\n            \"description\": null,\\n            \"definition\": \"The ISO_REGION column contains text entries that represent standardized region codes or names associated with specific geographic areas where the Tasty Bytes food trucks operate. This information assists in identifying and categorizing regions based on widely recognized codes or names, such as state or provincial abbreviations like \\\\\"CA\\\\\" for California or more specific areas like \\\\\"Greater London.\\\\\" These region identifiers are crucial for location-based analysis, reporting, and filtering within the Tasty Bytes network across different countries and cities. Understanding and utilizing this column is essential for accurately mapping trucks to their respective operational regions.\",\\n            \"primary_key\": false,\\n            \"sample_values\": [\\n                \"Al Qahirah\",\\n                \"Alpes-Maritimes\",\\n                \"BC\",\\n                \"Barcelona\",\\n                \"Bayern\",\\n                \"Berlin\",\\n                \"CA\",\\n                \"CO\",\\n                \"Delhi\",\\n                \"Greater London\"\\n            ]\\n        },\\n        {\\n            \"name\": \"COUNTRY\",\\n            \"type\": \"TEXT\",\\n            \"description\": null,\\n            \"definition\": \"The COUNTRY column in the RAW_POS.TRUCK table represents the name of the country where each food truck in the Tasty Bytes network is located. It stores textual data indicating the specific nation, such as Australia, Brazil, or Germany, where the truck operates. This information is crucial for identifying the geographic distribution of the food trucks within the global network, allowing for analyses based on country-specific operations. The column aids in filtering and aggregating truck data according to their operating countries to gain insights into regional performance and reach of the Tasty Bytes brand.\",\\n            \"primary_key\": false,\\n            \"sample_values\": [\\n                \"Australia\",\\n                \"Brazil\",\\n                \"Canada\",\\n                \"Egypt\",\\n                \"England\",\\n                \"France\",\\n                \"Germany\",\\n                \"India\",\\n                \"Japan\",\\n                \"Poland\"\\n            ]\\n        },\\n        {\\n            \"name\": \"ISO_COUNTRY_CODE\",\\n            \"type\": \"TEXT\",\\n            \"description\": null,\\n            \"definition\": \"The ISO country code column contains standardized country codes as per the ISO 3166-1 alpha-2 format, which consists of two-letter codes representing countries or significant geographical areas. In the context of the Tasty Bytes food delivery service, this column is used to denote the country where a particular food truck operates. This allows for easy identification and categorization of trucks based on their operating countries within Tasty Bytes\\' global network. This column can be particularly useful for querying data to filter or aggregate information by country.\",\\n            \"primary_key\": false,\\n            \"sample_values\": [\\n                \"AU\",\\n                \"BR\",\\n                \"CA\",\\n                \"DE\",\\n                \"EG\",\\n                \"ES\",\\n                \"FR\",\\n                \"GB\",\\n                \"IN\",\\n                \"JP\"\\n            ]\\n        },\\n        {\\n            \"name\": \"FRANCHISE_FLAG\",\\n            \"type\": \"NUMBER\",\\n            \"description\": null,\\n            \"definition\": \"The FRANCHISE_FLAG column is a numeric indicator used to determine whether a food truck within the Tasty Bytes network is part of a franchise. The value of this column is either 1 or 0, where 1 signifies that the truck is a franchised operation and 0 signifies that it is not. This flag helps in filtering and analyzing trucks based on their operational model, allowing for insights into the performance and distribution of franchise versus non-franchise trucks within the network. It aids in generating reports and queries that distinguish between different business setups, which can be crucial for decision-making and strategic planning.\",\\n            \"primary_key\": false,\\n            \"sample_values\": [\\n                \"0\",\\n                \"1\"\\n            ]\\n        },\\n        {\\n            \"name\": \"YEAR\",\\n            \"type\": \"NUMBER\",\\n            \"description\": null,\\n            \"definition\": \"The YEAR column in the RAW_POS.TRUCK table represents the manufacturing year of the food trucks in the Tasty Bytes network. This column is a numerical value that indicates the specific year a truck was manufactured or first registered. It helps to identify the age and potential durability of each truck within the fleet. Additionally, this information can be used to analyze trends or patterns related to the performance and maintenance needs of older versus newer trucks. The data within this column can range across various decades, providing critical insights for operational planning and fleet management.\",\\n            \"primary_key\": false,\\n            \"sample_values\": [\\n                \"1972\",\\n                \"1974\",\\n                \"1978\",\\n                \"1981\",\\n                \"1997\",\\n                \"1999\",\\n                \"2000\",\\n                \"2001\",\\n                \"2002\",\\n                \"2003\"\\n            ]\\n        },\\n        {\\n            \"name\": \"MAKE\",\\n            \"type\": \"TEXT\",\\n            \"description\": null,\\n            \"definition\": \"The \\\\\"MAKE\\\\\" column in the Tasty Bytes database captures the brand or manufacturer of the food trucks within the global food truck network. It contains text entries representing various well-known vehicle manufacturers such as Chevrolet, Ford, and Volkswagen among others. This column is crucial for identifying the types of vehicles utilized in different regions, which might also relate to maintenance records or customization that aligns with specific brand capabilities. Understanding the distribution of truck makes could help in logistical planning, fleet management, and aligning brand partnerships.\",\\n            \"primary_key\": false,\\n            \"sample_values\": [\\n                \"Airstream\",\\n                \"Chevrolet\",\\n                \"Citro\\\\u00ebn\",\\n                \"Custom\",\\n                \"Ford_\",\\n                \"Freightliner\",\\n                \"Nissan\",\\n                \"Volkswagen\"\\n            ]\\n        },\\n        {\\n            \"name\": \"MODEL\",\\n            \"type\": \"TEXT\",\\n            \"description\": null,\\n            \"definition\": \"The \\\\\"MODEL\\\\\" column in the Tasty Bytes food delivery service database represents the specific model of the food truck utilized in their global operations. This column contains textual data that identifies different truck models, such as \\\\\"Box Truck,\\\\\" \\\\\"H Van,\\\\\" or \\\\\"Step Van,\\\\\" which can vary based on the design and functionality suitable for food delivery. By analyzing this column, one can gain insights into the diversity and preferences of truck types used across various cities and countries where Tasty Bytes operates. The information in this column is crucial for logistics, maintenance, and aligning truck types with regional demands or regulatory requirements. This data can be intersected with other attributes like make, country, or year to understand the truck fleet composition and utilization trends.\",\\n            \"primary_key\": false,\\n            \"sample_values\": [\\n                \"Box Truck\",\\n                \"H Van\",\\n                \"MT45 Utilimaster\",\\n                \"NV 2500 High Roof\",\\n                \"P30\",\\n                \"Step Van\",\\n                \"Trailer\",\\n                \"Van\",\\n                \"Westfalia Bus\"\\n            ]\\n        },\\n        {\\n            \"name\": \"EV_FLAG\",\\n            \"type\": \"NUMBER\",\\n            \"description\": null,\\n            \"definition\": \"The EV_FLAG column indicates whether a food truck in the Tasty Bytes network operates as an electric vehicle. It contains numeric values, typically 0 and 1, where 0 represents a non-electric vehicle and 1 indicates an electric vehicle. This column is critical for analyzing the adoption and distribution of electric vehicles within the fleet, which can have implications for sustainability metrics and operational costs. The values in this column can be used to filter or segment the trucks based on their power source in SQL queries. Understanding the proportion and location of electric trucks can aid in strategy development for energy efficiency and environmental goals.\",\\n            \"primary_key\": false,\\n            \"sample_values\": [\\n                \"0\",\\n                \"1\"\\n            ]\\n        },\\n        {\\n            \"name\": \"FRANCHISE_ID\",\\n            \"type\": \"NUMBER\",\\n            \"description\": null,\\n            \"definition\": \"The franchise ID column contains numerical identifiers assigned to each franchise within the Tasty Bytes global network. These identifiers uniquely categorize the different franchises operating under the Tasty Bytes brand, which are essential for tracking, managing, and analyzing performance metrics across the various business locations. The franchise ID helps in differentiating and correlating data associated with specific franchises, like sales figures, menu offerings, and regional performance. For SQL query purposes, filtering by franchise ID would allow for targeted data retrieval and analysis for specific business analysis needs.\",\\n            \"primary_key\": false,\\n            \"sample_values\": [\\n                \"1\",\\n                \"2\",\\n                \"3\",\\n                \"4\",\\n                \"5\",\\n                \"6\",\\n                \"7\",\\n                \"8\",\\n                \"9\",\\n                \"10\"\\n            ]\\n        },\\n        {\\n            \"name\": \"TRUCK_OPENING_DATE\",\\n            \"type\": \"DATE\",\\n            \"description\": null,\\n            \"definition\": \"The TRUCK_OPENING_DATE column contains the date when each food truck in the Tasty Bytes network officially began operations. This column is essential for understanding the timeline of the network\\'s expansion and for tracking the operational start dates of individual trucks. The data type is DATE, and it includes specific calendar dates, which can be used to track trends over time or to analyze truck performance based on when they began service. This information can also help in filtering records to focus on trucks that opened within particular timeframes, which can be useful for reporting or optimizing regional operations.\",\\n            \"primary_key\": false,\\n            \"sample_values\": [\\n                \"2019-01-01\",\\n                \"2019-04-01\",\\n                \"2019-07-01\",\\n                \"2019-10-01\",\\n                \"2020-01-01\",\\n                \"2020-04-01\",\\n                \"2020-07-01\",\\n                \"2020-10-01\",\\n                \"2021-01-01\",\\n                \"2021-04-01\"\\n            ]\\n        }\\n    ]\\n}']"
      ]
     },
     "execution_count": 16,
     "metadata": {},
     "output_type": "execute_result"
    }
   ],
   "source": [
    "candidate_tables"
   ]
  },
  {
   "cell_type": "markdown",
   "metadata": {},
   "source": [
    "### 3. RETRIEVAL: SQL Query Generation"
   ]
  },
  {
   "cell_type": "code",
   "execution_count": 17,
   "metadata": {},
   "outputs": [
    {
     "name": "stdout",
     "output_type": "stream",
     "text": [
      "SELECT \"MENU_ITEM_NAME\", SUM(\"QUANTITY\") AS total_quantity_sold FROM \"RAW_POS\".\"ORDER_DETAIL\" JOIN \"RAW_POS\".\"MENU\" ON \"ORDER_DETAIL\".\"MENU_ITEM_ID\" = \"MENU\".\"MENU_ITEM_ID\" GROUP BY \"MENU_ITEM_NAME\" ORDER BY total_quantity_sold DESC LIMIT 1\n"
     ]
    }
   ],
   "source": [
    "tables_prompt = candidate_tables\n",
    "\n",
    "system_prompt = f\"\"\"\n",
    "You are a helpful AI data analyst assistant, \n",
    "     You can execute SQL queries to retrieve information from a sql database,\n",
    "     The database is SQL server, use the right syntax to generate queries\n",
    "\n",
    "\n",
    "     ### You must use the POSTGRES SQL syntax to query the database\n",
    "     ### You must use double quotes around the column names\n",
    "     ### You must use double quotes around schema names and table names\n",
    "     \n",
    "     ### These are the available tables in the database alongside their descriptions:\n",
    "    {tables_prompt}\n",
    "\n",
    "     When asked a question that could be answered with a SQL query: \n",
    "     - Break down the question into smaller parts that can be answered with SQL queries\n",
    "    - Identify the tables that contains the information needed to answer the question\n",
    "     - Only once this is done, create a sql query to retrieve the information based on your understanding of the table\n",
    " \n",
    "    Think step by step, before doing anything, share the different steps you'll execute to get the answer\n",
    "    \n",
    "    Your response should be in JSON format with the following structure:\n",
    "    \"chain_of_thought\": \"Your reasoning\",\n",
    "     \"sql_query\": \"The generated sql query\"\n",
    "\n",
    "\n",
    "    ## You must always try to match the formatting and syntax of these example queries\n",
    "    \n",
    "    ### Important Examples:    \n",
    "    question: \"Show me the first 5 rows of the sales_data table\"\n",
    "    output: \"chain_of_thought\": \"Your reasoning\",\n",
    "     \"sql_query\": \"SELECT * FROM \"public\".\"sales_data\" LIMIT 5\"\n",
    "\n",
    "\"\"\"\n",
    "\n",
    "messages =[\n",
    "    {\n",
    "        \"role\": \"system\",\n",
    "        \"content\": system_prompt\n",
    "    },\n",
    "    {\n",
    "        \"role\": \"user\",\n",
    "        \"content\": user_question\n",
    "    }\n",
    "]\n",
    "\n",
    "response = openai_client.chat.completions.create(\n",
    "                model=\"gpt-4o-global\",\n",
    "                messages=messages,\n",
    "                response_format={\"type\": \"json_object\"},\n",
    "                temperature=0.3,\n",
    "                seed=42,\n",
    "            )\n",
    "\n",
    "response_message = response.choices[0].message.content\n",
    "response_json = json.loads(response_message)\n",
    "\n",
    "print(response_json['sql_query'])"
   ]
  },
  {
   "cell_type": "code",
   "execution_count": 18,
   "metadata": {},
   "outputs": [
    {
     "data": {
      "text/plain": [
       "'[{\"MENU_ITEM_NAME\": \"Ice Tea\", \"TOTAL_QUANTITY_SOLD\": 62129143}]'"
      ]
     },
     "execution_count": 18,
     "metadata": {},
     "output_type": "execute_result"
    }
   ],
   "source": [
    "sql_client.query(response_json['sql_query'])"
   ]
  }
 ],
 "metadata": {
  "kernelspec": {
   "display_name": "openai",
   "language": "python",
   "name": "python3"
  },
  "language_info": {
   "codemirror_mode": {
    "name": "ipython",
    "version": 3
   },
   "file_extension": ".py",
   "mimetype": "text/x-python",
   "name": "python",
   "nbconvert_exporter": "python",
   "pygments_lexer": "ipython3",
   "version": "3.11.8"
  }
 },
 "nbformat": 4,
 "nbformat_minor": 2
}
